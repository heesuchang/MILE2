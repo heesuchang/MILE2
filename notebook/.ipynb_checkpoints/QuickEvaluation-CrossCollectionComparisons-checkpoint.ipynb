{
 "cells": [
  {
   "cell_type": "markdown",
   "metadata": {},
   "source": [
    "### This notebook allows the user to select multiple data tables, combine and process them with an AWK script in order to create data about the occurrance of content at specific locations and compare them to other collections that use the same dialect."
   ]
  },
  {
   "cell_type": "code",
   "execution_count": 1,
   "metadata": {
    "collapsed": true
   },
   "outputs": [],
   "source": [
    "import pandas as pd\n",
    "pd.options.display.max_colwidth=200\n",
    "import subprocess\n",
    "import os\n",
    "from os import walk\n",
    "import numpy as np\n",
    "from ipykernel import kernelapp as app\n",
    "from __future__ import print_function\n",
    "from ipywidgets import *\n",
    "import ipywidgets as widgets\n",
    "from IPython.display import display"
   ]
  },
  {
   "cell_type": "markdown",
   "metadata": {},
   "source": [
    "Creates a list of all the paths to a CSV in the data directory's sub-directories. "
   ]
  },
  {
   "cell_type": "code",
   "execution_count": 2,
   "metadata": {},
   "outputs": [
    {
     "data": {
      "text/plain": [
       "['../data/data.csv',\n",
       " '../data/BCO-DMO/GeoTraces_ISO_data.csv',\n",
       " '../data/DataONE/CDL_CSDGM_data.csv',\n",
       " '../data/DataONE/CLOEBIRD_EML_data.csv',\n",
       " '../data/DataONE/Dryad_Dryad_data.csv',\n",
       " '../data/DataONE/EDACGSTORE_CSDGM_data.csv',\n",
       " '../data/DataONE/EDORA_Mercury_data.csv',\n",
       " '../data/DataONE/ESA_EML_data.csv',\n",
       " '../data/DataONE/GLEON_EML_data.csv',\n",
       " '../data/DataONE/GOA_EML_data.csv',\n",
       " '../data/DataONE/IARC_Onedcx_data.csv',\n",
       " '../data/DataONE/IOE_EML_data.csv',\n",
       " '../data/DataONE/KNB_EML_data.csv',\n",
       " '../data/DataONE/KUBI_EML_data.csv',\n",
       " '../data/DataONE/LTER_EML_data.csv',\n",
       " '../data/DataONE/LTER_EUROPE_EML_data.csv',\n",
       " '../data/DataONE/NMEPSCOR_CSDGM_data.csv',\n",
       " '../data/DataONE/ONEShare_EML_data.csv',\n",
       " '../data/DataONE/ORNLDAAC_Mercury_data.csv',\n",
       " '../data/DataONE/PISCO_EML_data.csv',\n",
       " '../data/DataONE/RGD_Mercury_data.csv',\n",
       " '../data/DataONE/SANPARKS_EML_data.csv',\n",
       " '../data/DataONE/SEAD_CSDGM_data.csv',\n",
       " '../data/DataONE/TERN_EML_data.csv',\n",
       " '../data/DataONE/TFRI_EML_data.csv',\n",
       " '../data/DataONE/US_MPC_Onedcx_data.csv',\n",
       " '../data/DataONE/USANPN_EML_data.csv',\n",
       " '../data/DataONE/USGSCSAS_BDP_data.csv',\n",
       " '../data/DataONE/USGSCSAS_CSDGM_data.csv',\n",
       " '../data/IEDA/ECL_DCITE_data.csv',\n",
       " '../data/IEDA/MarineGeoscienceDataSystem_ISO_data.csv',\n",
       " '../data/LTERthroughTime/LTER_2005_EML_data.csv',\n",
       " '../data/LTERthroughTime/LTER_2006_EML_data.csv',\n",
       " '../data/LTERthroughTime/LTER_2007_EML_data.csv',\n",
       " '../data/LTERthroughTime/LTER_2008_EML_data.csv',\n",
       " '../data/LTERthroughTime/LTER_2009_EML_data.csv',\n",
       " '../data/LTERthroughTime/LTER_2010_EML_data.csv',\n",
       " '../data/LTERthroughTime/LTER_2011_EML_data.csv',\n",
       " '../data/LTERthroughTime/LTER_2012_EML_data.csv',\n",
       " '../data/LTERthroughTime/LTER_2013_EML_data.csv',\n",
       " '../data/LTERthroughTime/LTER_2014_EML_data.csv',\n",
       " '../data/LTERthroughTime/LTER_2015_EML_data.csv',\n",
       " '../data/LTERthroughTime/LTER_2016_EML_data.csv',\n",
       " '../data/NASA/GES_DISC_DIF_data.csv',\n",
       " '../data/NASA/GHRC_CSDGM_data.csv',\n",
       " '../data/NASA/GHRC_DIF_data.csv',\n",
       " '../data/NASA/GHRC_ISO_data.csv',\n",
       " '../data/NASA/LARC_DIF_data.csv',\n",
       " '../data/NASA/LARC_ISO_data.csv',\n",
       " '../data/NASA/NSIDC_DIF_data.csv',\n",
       " '../data/NASA/NSIDC_ISO_data.csv',\n",
       " '../data/NCAR/IIS_MODS_data.csv',\n",
       " '../data/NCAR/RDA_RDA-CISL_data.csv',\n",
       " '../data/ORNL/DAAC_Mercury_data.csv',\n",
       " '../data/ORNL/NGEE_CSDGM_data.csv',\n",
       " '../data/ORNL/OLI_ISO_data.csv',\n",
       " '../data/ORNL/USGSC_CSDGM_data.csv',\n",
       " '../data/USGS/OldScienceBase_CSDGM_data.csv',\n",
       " '../data/USGS/ScienceBase_CSDGM_data.csv']"
      ]
     },
     "execution_count": 2,
     "metadata": {},
     "output_type": "execute_result"
    }
   ],
   "source": [
    "DataFiles=[]\n",
    "for dirpath, dirnames, filenames in os.walk(\"../data\"):\n",
    "    for filename in [f for f in filenames if f.endswith(\".csv\")]:\n",
    "        DataFiles.extend([os.path.join(dirpath, filename)])\n",
    "DataFiles        "
   ]
  },
  {
   "cell_type": "markdown",
   "metadata": {},
   "source": [
    "Create a dropdown that allows multiple selection using command or click with the mouse or arrow keys to select additional individual data tables, or shift with the mouse to select each choice between the two clicked."
   ]
  },
  {
   "cell_type": "code",
   "execution_count": 3,
   "metadata": {
    "collapsed": true
   },
   "outputs": [],
   "source": [
    "w=widgets.SelectMultiple(\n",
    "    options=DataFiles,\n",
    "    value=['../data/USGS/OldScienceBase_CSDGM_data.csv'],\n",
    "    #rows=10,\n",
    "    description='Collection Data',\n",
    "    disabled=False\n",
    ")\n"
   ]
  },
  {
   "cell_type": "markdown",
   "metadata": {},
   "source": [
    "Display the multiple selection dropdown widget"
   ]
  },
  {
   "cell_type": "code",
   "execution_count": 4,
   "metadata": {},
   "outputs": [
    {
     "data": {
      "application/vnd.jupyter.widget-view+json": {
       "model_id": "cc8f35fb68274fb6a5e569895c162fc1"
      }
     },
     "metadata": {},
     "output_type": "display_data"
    }
   ],
   "source": [
    "display(w)"
   ]
  },
  {
   "cell_type": "markdown",
   "metadata": {},
   "source": [
    "Assign the selections from the widget to a list and turn the list into a string, removing the commas and brackets so that the result can be saved and used when calling the script that creates the data."
   ]
  },
  {
   "cell_type": "code",
   "execution_count": 30,
   "metadata": {},
   "outputs": [
    {
     "data": {
      "text/plain": [
       "'../data/DataONE/USGSCSAS_CSDGM_data.csv ../data/DataONE/USGSCSAS_CSDGM_data.csv ../data/DataONE/USGSCSAS_CSDGM_data.csv ../data/DataONE/USGSCSAS_CSDGM_data.csv ../data/DataONE/USGSCSAS_CSDGM_data.csv ../data/DataONE/USGSCSAS_CSDGM_data.csv ../data/DataONE/SANPARKS_EML_data.csv ../data/DataONE/TERN_EML_data.csv ../data/DataONE/TFRI_EML_data.csv'"
      ]
     },
     "execution_count": 30,
     "metadata": {},
     "output_type": "execute_result"
    }
   ],
   "source": [
    "CollectionComparisons\n",
    "CollectionComparisons.extend(w.value)\n",
    "CollectionsString=\" \".join(map(str, CollectionComparisons))\n",
    "CollectionsString"
   ]
  },
  {
   "cell_type": "markdown",
   "metadata": {},
   "source": [
    "Combine the selected csv and run the script"
   ]
  },
  {
   "cell_type": "code",
   "execution_count": null,
   "metadata": {},
   "outputs": [
    {
     "name": "stdout",
     "output_type": "stream",
     "text": [
      "/bin/sh: ../CollectionComparisons/data.csv: No such file or directory\r\n"
     ]
    }
   ],
   "source": [
    "! cat $CollectionsString | '../script/makeCounts.sh' > '../CollectionComparisons/data.csv'"
   ]
  },
  {
   "cell_type": "code",
   "execution_count": null,
   "metadata": {
    "collapsed": true
   },
   "outputs": [],
   "source": []
  }
 ],
 "metadata": {
  "kernelspec": {
   "display_name": "Python 3",
   "language": "python",
   "name": "python3"
  },
  "language_info": {
   "codemirror_mode": {
    "name": "ipython",
    "version": 3
   },
   "file_extension": ".py",
   "mimetype": "text/x-python",
   "name": "python",
   "nbconvert_exporter": "python",
   "pygments_lexer": "ipython3",
   "version": "3.6.1"
  },
  "widgets": {
   "state": {
    "31aa209ce2c44217ad4fbfe6ce3fbe37": {
     "views": [
      {
       "cell_index": 7
      }
     ]
    }
   },
   "version": "1.2.0"
  }
 },
 "nbformat": 4,
 "nbformat_minor": 2
}
