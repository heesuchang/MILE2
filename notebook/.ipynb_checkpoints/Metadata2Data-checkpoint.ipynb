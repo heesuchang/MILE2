{
 "cells": [
  {
   "cell_type": "markdown",
   "metadata": {},
   "source": [
    "##  This notebook allows the user to select XML collections and zip them up to send to a service that runs a transform on them and returns a simple CSV made up of six data points. The data included is the Collection name, Dialect name, Record name, Concept name, Content, Xpath location, and the Dialect Definition for the concept. \n",
    "\n",
    "## This CSV contains a row for each concept that is found, so some locations may fulfill multiple concepts. A good example of this are the cncepts Keyword and Place Keyword. Every Place Keyword is also a Keyword, so the row would repeat with a different Concept name. It also contains a row for each undefined node that contains text, marking these rows with an Unknown in the Concept column. \n",
    "\n",
    "## This data can be used in a variety of analyses including RAD and QuickE as well as Concept Verticals. It can also be used to teach the system dialect definitions for concepts that are currently unknown by exposing all of the content at undefined nodes. "
   ]
  },
  {
   "cell_type": "code",
   "execution_count": 20,
   "metadata": {},
   "outputs": [
    {
     "data": {
      "text/html": [
       "<img src=https://image.slidesharecdn.com/scgordonesipwinter2017-170125170939/95/recommendations-analysis-dashboard-1-1024.jpg>"
      ],
      "text/plain": [
       "<IPython.core.display.HTML object>"
      ]
     },
     "metadata": {},
     "output_type": "display_data"
    }
   ],
   "source": [
    "%%HTML\n",
    "<img src=https://image.slidesharecdn.com/scgordonesipwinter2017-170125170939/95/recommendations-analysis-dashboard-1-1024.jpg>"
   ]
  },
  {
   "cell_type": "code",
   "execution_count": 21,
   "metadata": {
    "collapsed": true,
    "scrolled": true
   },
   "outputs": [],
   "source": [
    "import pandas as pd\n",
    "import os\n",
    "from os import walk\n",
    "import shutil\n",
    "from ipywidgets import *\n",
    "import ipywidgets as widgets"
   ]
  },
  {
   "cell_type": "code",
   "execution_count": 22,
   "metadata": {
    "collapsed": true
   },
   "outputs": [],
   "source": [
    "Organizations = []\n",
    "for (dirpath, dirnames, filenames) in walk('../collection/'):\n",
    "    Organizations.extend(dirnames)\n",
    "    break  "
   ]
  },
  {
   "cell_type": "code",
   "execution_count": 23,
   "metadata": {
    "collapsed": true
   },
   "outputs": [],
   "source": [
    "def OrganizationChoices(organization):\n",
    "    global OrganizationChoice\n",
    "    global Organization\n",
    "    Organization=organization\n",
    "    print(\"Organization of the collection is\", Organization)\n"
   ]
  },
  {
   "cell_type": "code",
   "execution_count": 24,
   "metadata": {},
   "outputs": [
    {
     "name": "stdout",
     "output_type": "stream",
     "text": [
      "Organization of the collection is BCO-DMO\n"
     ]
    }
   ],
   "source": [
    "interactive(OrganizationChoices, organization=Organizations)"
   ]
  },
  {
   "cell_type": "code",
   "execution_count": 25,
   "metadata": {},
   "outputs": [
    {
     "data": {
      "text/plain": [
       "['GeoTraces']"
      ]
     },
     "execution_count": 25,
     "metadata": {},
     "output_type": "execute_result"
    }
   ],
   "source": [
    "Collections = []\n",
    "for (dirpath, dirnames, filenames) in walk(os.path.join('../collection',Organization)):\n",
    "    Collections.extend(dirnames)\n",
    "    break \n",
    "Collections"
   ]
  },
  {
   "cell_type": "code",
   "execution_count": 26,
   "metadata": {
    "collapsed": true
   },
   "outputs": [],
   "source": [
    "def CollectionChoices(collection):\n",
    "    global CollectionChoice\n",
    "    global Collection\n",
    "    Collection=collection"
   ]
  },
  {
   "cell_type": "code",
   "execution_count": 27,
   "metadata": {
    "collapsed": true
   },
   "outputs": [],
   "source": [
    "interactive(CollectionChoices, collection=Collections)"
   ]
  },
  {
   "cell_type": "code",
   "execution_count": 28,
   "metadata": {
    "collapsed": true
   },
   "outputs": [],
   "source": [
    "Dialects = []\n",
    "for (dirpath, dirnames, filenames) in walk(os.path.join('../collection',Organization,Collection)):\n",
    "    Dialects.extend(dirnames)\n",
    "    break \n",
    "dialectList=Dialects\n"
   ]
  },
  {
   "cell_type": "code",
   "execution_count": 29,
   "metadata": {
    "collapsed": true
   },
   "outputs": [],
   "source": [
    "def dialectChoice(dialect):\n",
    "    global Dialect\n",
    "    Dialect=dialect\n",
    "    print(\"Dialect of the collection is\", Dialect)\n"
   ]
  },
  {
   "cell_type": "code",
   "execution_count": 30,
   "metadata": {},
   "outputs": [
    {
     "name": "stdout",
     "output_type": "stream",
     "text": [
      "Dialect of the collection is ISO\n"
     ]
    }
   ],
   "source": [
    "interactive(dialectChoice,dialect=dialectList)"
   ]
  },
  {
   "cell_type": "code",
   "execution_count": 31,
   "metadata": {},
   "outputs": [
    {
     "name": "stdout",
     "output_type": "stream",
     "text": [
      "/Users/scgordon/MILE2/zip\n"
     ]
    }
   ],
   "source": [
    "cd ../zip"
   ]
  },
  {
   "cell_type": "code",
   "execution_count": 32,
   "metadata": {},
   "outputs": [
    {
     "data": {
      "text/plain": [
       "'BCO-DMO/GeoTraces/ISO/xml'"
      ]
     },
     "execution_count": 32,
     "metadata": {},
     "output_type": "execute_result"
    }
   ],
   "source": [
    "MetadataDestination=os.path.join(Organization,Collection,Dialect,'xml')\n",
    "MetadataDestination"
   ]
  },
  {
   "cell_type": "code",
   "execution_count": 33,
   "metadata": {
    "collapsed": true
   },
   "outputs": [],
   "source": [
    "os.makedirs(MetadataDestination, exist_ok=True)"
   ]
  },
  {
   "cell_type": "code",
   "execution_count": 34,
   "metadata": {},
   "outputs": [
    {
     "data": {
      "text/plain": [
       "'../collection/BCO-DMO/GeoTraces/ISO/xml'"
      ]
     },
     "execution_count": 34,
     "metadata": {},
     "output_type": "execute_result"
    }
   ],
   "source": [
    "MetadataLocation=os.path.join('../collection/',Organization,Collection,Dialect,'xml')\n",
    "\n",
    "MetadataLocation"
   ]
  },
  {
   "cell_type": "code",
   "execution_count": 35,
   "metadata": {
    "collapsed": true
   },
   "outputs": [],
   "source": [
    "src_files = os.listdir(MetadataLocation)\n",
    "for file_name in src_files:\n",
    "    full_file_name = os.path.join(MetadataLocation, file_name)\n",
    "    if (os.path.isfile(full_file_name)):\n",
    "        shutil.copy(full_file_name, MetadataDestination)"
   ]
  },
  {
   "cell_type": "code",
   "execution_count": 36,
   "metadata": {},
   "outputs": [
    {
     "data": {
      "text/plain": [
       "'/Users/scgordon/MILE2/upload/metadata.zip'"
      ]
     },
     "execution_count": 36,
     "metadata": {},
     "output_type": "execute_result"
    }
   ],
   "source": [
    "shutil.make_archive('../upload/metadata', 'zip', os.getcwd())"
   ]
  },
  {
   "cell_type": "code",
   "execution_count": 37,
   "metadata": {},
   "outputs": [
    {
     "name": "stdout",
     "output_type": "stream",
     "text": [
      "/Users/scgordon/MILE2/upload\n"
     ]
    }
   ],
   "source": [
    "cd ../upload"
   ]
  },
  {
   "cell_type": "code",
   "execution_count": 40,
   "metadata": {},
   "outputs": [
    {
     "name": "stderr",
     "output_type": "stream",
     "text": [
      "  % Total    % Received % Xferd  Average Speed   Time    Time     Time  Current\n",
      "                                 Dload  Upload   Total   Spent    Left  Speed\n",
      "\r",
      "  0     0    0     0    0     0      0      0 --:--:-- --:--:-- --:--:--     0\r",
      "  0     0    0     0    0     0      0      0 --:--:-- --:--:-- --:--:--     0\r",
      " 12 2000k    0     0   12  240k      0   233k  0:00:08  0:00:01  0:00:07  233k\r",
      " 22 2000k    0     0   22  448k      0   221k  0:00:09  0:00:02  0:00:07  221k\r",
      " 33 2000k    0     0   33  672k      0   218k  0:00:09  0:00:03  0:00:06  218k\r",
      " 41 2000k    0     0   41  839k      0   206k  0:00:09  0:00:04  0:00:05  206k\r",
      " 48 2000k    0     0   48  965k      0   191k  0:00:10  0:00:05  0:00:05  193k\r",
      " 61 2000k    0     0   61 1228k      0   204k  0:00:09  0:00:06  0:00:03  197k\r",
      " 82 2000k    0     0   82 1644k      0   233k  0:00:08  0:00:07  0:00:01  237k\r",
      "100 2000k    0     0  100 2000k      0   230k  0:00:08  0:00:08 --:--:--  238k\r",
      "100 2000k    0     0  100 2000k      0   207k  0:00:09  0:00:09 --:--:--  207k\r",
      "100 2000k    0     0  100 2000k      0   187k  0:00:10  0:00:10 --:--:--  184k\r",
      "100 2000k    0     0  100 2000k      0   171k  0:00:11  0:00:11 --:--:--  136k\r",
      "100 2000k    0     0  100 2000k      0   157k  0:00:12  0:00:12 --:--:-- 64971\r",
      "100 2000k    0     0  100 2000k      0   146k  0:00:13  0:00:13 --:--:--     0\r",
      "100 2000k    0     0  100 2000k      0   136k  0:00:14  0:00:14 --:--:--     0\r",
      "100 2000k    0     0  100 2000k      0   127k  0:00:15  0:00:15 --:--:--     0\r",
      "100 2000k    0     0  100 2000k      0   119k  0:00:16  0:00:16 --:--:--     0\r",
      "100 2000k    0     0  100 2000k      0   113k  0:00:17  0:00:17 --:--:--     0\r",
      "100 2000k    0     0  100 2000k      0   107k  0:00:18  0:00:18 --:--:--     0\r",
      "100 2000k    0     0  100 2000k      0   101k  0:00:19  0:00:19 --:--:--     0\r",
      "100 2000k    0     0  100 2000k      0  99033  0:00:20  0:00:20 --:--:--     0\r",
      "100 2000k    0     0  100 2000k      0  94464  0:00:21  0:00:21 --:--:--     0\r",
      "  7 27.2M    0  1271  100 2000k     57  92253   5d 09h  0:00:22   5d 09h     0\r",
      "  7 27.2M    0 94905  100 2000k   4104  88579  1:47:39  0:00:23  1:47:16     0\r",
      "  9 27.2M    2  519k  100 2000k  22123  85150  0:19:58  0:00:24  0:19:34     0\r",
      " 11 27.2M    4 1194k  100 2000k  48877  81870  0:09:02  0:00:25  0:08:37     0\r",
      " 14 27.2M    7 1969k  100 2000k  77463  78691  0:05:42  0:00:26  0:05:16     0\r",
      " 16 27.2M   10 2616k  100 2000k  99050  75717  0:04:27  0:00:27  0:04:00  127k\r",
      " 18 27.2M   12 3189k  100 2000k   113k  73066  0:03:47  0:00:28  0:03:19  242k\r",
      " 20 27.2M   14 3793k  100 2000k   130k  70498  0:03:18  0:00:29  0:02:49  358k\r",
      " 23 27.2M   17 4593k  100 2000k   153k  68235  0:02:49  0:00:30  0:02:19  518k\r",
      " 25 27.2M   20 5245k  100 2000k   169k  66009  0:02:33  0:00:31  0:02:02  649k\r",
      " 28 27.2M   23 6052k  100 2000k   188k  63936  0:02:17  0:00:32  0:01:45  689k\r",
      " 31 27.2M   26 6776k  100 2000k   204k  61906  0:02:06  0:00:33  0:01:33  709k\r",
      " 34 27.2M   29 7534k  100 2000k   221k  60209  0:01:56  0:00:34  0:01:22  753k\r",
      " 36 27.2M   31 8058k  100 2000k   230k  58490  0:01:52  0:00:35  0:01:17  692k\r",
      " 38 27.2M   33 8650k  100 2000k   240k  56861  0:01:47  0:00:36  0:01:11  681k\r",
      " 40 27.2M   35 9295k  100 2000k   250k  55262  0:01:43  0:00:37  0:01:06  644k\r",
      " 42 27.2M   38 9969k  100 2000k   262k  53876  0:01:38  0:00:38  0:01:00  647k\r",
      " 45 27.2M   40 10.3M  100 2000k   271k  52431  0:01:35  0:00:39  0:00:56  607k\r",
      " 47 27.2M   43 11.0M  100 2000k   282k  51176  0:01:31  0:00:40  0:00:51  650k\r",
      " 50 27.2M   46 11.7M  100 2000k   293k  49934  0:01:28  0:00:41  0:00:47  675k\r",
      " 52 27.2M   49 12.3M  100 2000k   301k  48746  0:01:25  0:00:42  0:00:43  684k\r",
      " 55 27.2M   51 13.0M  100 2000k   310k  47608  0:01:23  0:00:43  0:00:40  674k\r",
      " 57 27.2M   54 13.6M  100 2000k   318k  46525  0:01:21  0:00:44  0:00:37  690k\r",
      " 59 27.2M   56 14.3M  100 2000k   326k  45489  0:01:19  0:00:45  0:00:34  681k\r",
      " 61 27.2M   58 14.8M  100 2000k   331k  44454  0:01:18  0:00:46  0:00:32  637k\r",
      " 65 27.2M   62 15.7M  100 2000k   343k  43563  0:01:15  0:00:47  0:00:28  692k\r",
      " 68 27.2M   66 16.6M  100 2000k   355k  42636  0:01:12  0:00:48  0:00:24  748k\r",
      " 71 27.2M   68 17.3M  100 2000k   363k  41775  0:01:11  0:00:49  0:00:22  754k\r",
      " 72 27.2M   70 17.8M  100 2000k   365k  40906  0:01:10  0:00:50  0:00:20  712k\r",
      " 74 27.2M   72 18.3M  100 2000k   367k  40134  0:01:10  0:00:51  0:00:19  711k\r",
      " 76 27.2M   75 18.9M  100 2000k   373k  39349  0:01:09  0:00:52  0:00:17  652k\r",
      " 79 27.2M   77 19.7M  100 2000k   380k  38625  0:01:07  0:00:53  0:00:14  619k\r",
      " 82 27.2M   81 20.5M  100 2000k   389k  37918  0:01:06  0:00:54  0:00:12  649k\r",
      " 85 27.2M   84 21.3M  100 2000k   397k  37209  0:01:05  0:00:55  0:00:10  713k\r",
      " 88 27.2M   87 22.0M  100 2000k   402k  36536  0:01:04  0:00:56  0:00:08  756k\r",
      " 90 27.2M   89 22.6M  100 2000k   406k  35862  0:01:03  0:00:57  0:00:06  751k\r",
      " 92 27.2M   91 23.1M  100 2000k   408k  35268  0:01:03  0:00:58  0:00:05  698k\r",
      " 93 27.2M   92 23.4M  100 2000k   407k  34696  0:01:03  0:00:59  0:00:04  595k\r",
      " 94 27.2M   94 23.8M  100 2000k   406k  34124  0:01:03  0:01:00  0:00:03  507k\r",
      " 96 27.2M   96 24.3M  100 2000k   409k  33564  0:01:03  0:01:01  0:00:02  483k\r",
      " 99 27.2M   98 25.0M  100 2000k   412k  33026  0:01:02  0:01:02 --:--:--  483k\r",
      "100 27.2M  100 25.2M  100 2000k   414k  32809  0:01:02  0:01:02 --:--:--  499k\n"
     ]
    }
   ],
   "source": [
    "%%bash\n",
    "curl -o ../data/data.csv -F \"zipxml=@metadata.zip\" http://metadig.nceas.ucsb.edu/metadata/evaluator"
   ]
  },
  {
   "cell_type": "code",
   "execution_count": 41,
   "metadata": {},
   "outputs": [
    {
     "name": "stdout",
     "output_type": "stream",
     "text": [
      "/Users/scgordon/MILE2\n",
      "/Users/scgordon/MILE2/zip\n"
     ]
    }
   ],
   "source": [
    "%cd ../\n",
    "shutil.rmtree('upload')\n",
    "%cd zip\n",
    "shutil.rmtree(Organization)"
   ]
  },
  {
   "cell_type": "code",
   "execution_count": null,
   "metadata": {
    "collapsed": true
   },
   "outputs": [],
   "source": []
  },
  {
   "cell_type": "markdown",
   "metadata": {},
   "source": [
    "### Now that we have our metadata data prepared, we can look at collection analytics, cross collection analytics, and concept verticals."
   ]
  },
  {
   "cell_type": "code",
   "execution_count": null,
   "metadata": {
    "collapsed": true
   },
   "outputs": [],
   "source": [
    "#figure out how to link other notebooks, especially nice if it's possible to pass the current dataframe"
   ]
  }
 ],
 "metadata": {
  "kernelspec": {
   "display_name": "Python 3",
   "language": "python",
   "name": "python3"
  },
  "language_info": {
   "codemirror_mode": {
    "name": "ipython",
    "version": 3
   },
   "file_extension": ".py",
   "mimetype": "text/x-python",
   "name": "python",
   "nbconvert_exporter": "python",
   "pygments_lexer": "ipython3",
   "version": "3.6.0"
  },
  "widgets": {
   "state": {
    "131a624e791c40c392343eae8e1b787b": {
     "views": [
      {
       "cell_index": 11
      }
     ]
    },
    "7c40f07f594644168adf161051bf4727": {
     "views": [
      {
       "cell_index": 5
      }
     ]
    },
    "fd66aa152b364399ad461e3c337dd8df": {
     "views": [
      {
       "cell_index": 8
      }
     ]
    }
   },
   "version": "1.2.0"
  }
 },
 "nbformat": 4,
 "nbformat_minor": 2
}
