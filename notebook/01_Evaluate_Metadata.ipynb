{
 "cells": [
  {
   "cell_type": "raw",
   "metadata": {},
   "source": [
    "This notebook allows the user to select XML collections and zip them up to send to a service that runs a transform on them and returns a simple data table. The data included is the Organization, Collection, Dialect, Record, Concept, Content, XPath.\n",
    "\n",
    "The notebook utilizes Bash and Python with the default packages contained in the Mac build of Anaconda with Python 3.6. \n",
    "\n",
    "Saxon, Java, XSLT, and Python form the evaluation web service on a NCEAS virtual machine. \n",
    "\n",
    "This table contains a row for each concept that is found, so some elements may fulfill multiple concepts. A good example of this are the concepts Keyword and Place Keyword. Every Place Keyword is also a Keyword, so the row would repeat with a different Concept name. It also contains a row for each undefined node that contains text, marking these rows with an Unknown in the Concept column. \n",
    "\n",
    "This data can be used in a variety of analyses including RAD and QuickE as well as Concept Verticals. Quality checks of the content can be  It can also be used to teach the system dialect definitions for concepts that are currently unknown by exposing all of the content at undefined nodes. "
   ]
  },
  {
   "cell_type": "markdown",
   "metadata": {},
   "source": [
    "### First we need to call all of the libraries we need to perform in our metadata wrangle"
   ]
  },
  {
   "cell_type": "code",
   "execution_count": 1,
   "metadata": {
    "scrolled": true
   },
   "outputs": [],
   "source": [
    "import pandas as pd\n",
    "pd.options.display.width = 180\n",
    "#import os\n",
    "from os import walk\n",
    "import shutil\n",
    "import ipywidgets as widgets\n",
    "from ipywidgets import *\n",
    "import requests\n",
    "import csv\n",
    "import io"
   ]
  },
  {
   "cell_type": "markdown",
   "metadata": {
    "collapsed": true
   },
   "source": [
    "### Now let's select some metadata. "
   ]
  },
  {
   "cell_type": "markdown",
   "metadata": {},
   "source": [
    "If you have prepared metadata\\* on your computer that you want to add, it is possible to upload into the repository locally using the [Add Metadata](00AddMetadata.ipynb) Notebook before completing the following cells in this notebook. Otherwise, follow along and use some of the sample metadata the following steps will help you to select.\n",
    "\n",
    "\\* Prepared metadata contains a root element that has a standardized namespace and namespace prefix. Many dialects such as ISO and DIF are consistently written this way, but some dialects such as CSDGM are often written by organizations as only well-formed XML."
   ]
  },
  {
   "cell_type": "markdown",
   "metadata": {},
   "source": [
    "#### Choose an Organization"
   ]
  },
  {
   "cell_type": "code",
   "execution_count": 2,
   "metadata": {},
   "outputs": [
    {
     "data": {
      "application/vnd.jupyter.widget-view+json": {
       "model_id": "19bf822f08fe4fd3a1705ffa8dd620d5"
      }
     },
     "metadata": {},
     "output_type": "display_data"
    }
   ],
   "source": [
    "#Create a list of subdirectories in the collection directory of MILE2 to select metadata for evaluation\n",
    "Organizations = []\n",
    "for (dirpath, dirnames, filenames) in walk('../collection/'):\n",
    "    Organizations.extend(dirnames)\n",
    "    break  \n",
    "\n",
    "#Create a function to select the organization the metadata comes from\n",
    "def OrganizationChoices(organization):\n",
    "    global OrganizationChoice\n",
    "    global Organization\n",
    "    Organization=organization\n",
    "    print(\"Organization of the collection is\", Organization)\n",
    "\n",
    "#organization selector dropdown    \n",
    "interactive(OrganizationChoices, organization=Organizations)    "
   ]
  },
  {
   "cell_type": "markdown",
   "metadata": {},
   "source": [
    "#### Choose a collection"
   ]
  },
  {
   "cell_type": "code",
   "execution_count": 6,
   "metadata": {},
   "outputs": [
    {
     "data": {
      "application/vnd.jupyter.widget-view+json": {
       "model_id": "f5d6cf7a71d5440fa506055868629c90"
      }
     },
     "metadata": {},
     "output_type": "display_data"
    }
   ],
   "source": [
    "# Create a list of collections in the organization directory selected in the dropdown above\n",
    "Collections = []\n",
    "for (dirpath, dirnames, filenames) in walk(os.path.join('../collection',Organization)):\n",
    "    Collections.extend(dirnames)\n",
    "    break \n",
    "    \n",
    "# Create a function to select the collection the metadata comes from\n",
    "def CollectionChoices(collection):\n",
    "    global CollectionChoice\n",
    "    global Collection\n",
    "    Collection=collection \n",
    "    \n",
    "#Create a dropdown using the Collections list and the organization selector function. This sets the Collection variable.    \n",
    "interactive(CollectionChoices, collection=Collections)    "
   ]
  },
  {
   "cell_type": "markdown",
   "metadata": {},
   "source": [
    "Many organizations support multiple metadata dialects, and share their collections in more than one dialect. This list is created the same way the others are. It adds the different dialects the collection is shared in to a list."
   ]
  },
  {
   "cell_type": "code",
   "execution_count": 7,
   "metadata": {},
   "outputs": [
    {
     "data": {
      "application/vnd.jupyter.widget-view+json": {
       "model_id": "237708a3683a4529b3ca171d37ea5be6"
      }
     },
     "metadata": {},
     "output_type": "display_data"
    }
   ],
   "source": [
    "# Many organizations support multiple metadata dialects, and share their collections in more than one dialect. \n",
    "# This list is created the same way the others are. It lists the different dialects the collection is shared in.\n",
    "Dialects = []\n",
    "for (dirpath, dirnames, filenames) in walk(os.path.join('../collection',Organization,Collection)):\n",
    "    Dialects.extend(dirnames)\n",
    "    break \n",
    "dialectList=Dialects\n",
    "\n",
    "#Create a function to select the dialect you want to send to the evaluator service.\n",
    "def dialectChoice(dialect):\n",
    "    global Dialect\n",
    "    Dialect=dialect\n",
    "    print(\"Dialect of the collection is\", Dialect)\n",
    "\n",
    "# Create a dropdown using the Dialects list and the dialect selector function. This sets the Dialect variable. \n",
    "interactive(dialectChoice,dialect=dialectList)"
   ]
  },
  {
   "cell_type": "markdown",
   "metadata": {},
   "source": [
    "#### Create the package to send to the Evaluator"
   ]
  },
  {
   "cell_type": "code",
   "execution_count": 9,
   "metadata": {},
   "outputs": [
    {
     "name": "stdout",
     "output_type": "stream",
     "text": [
      "/Users/scgordon/MILE2/zip\n"
     ]
    },
    {
     "data": {
      "text/plain": [
       "'/Users/scgordon/MILE2/upload/metadata.zip'"
      ]
     },
     "execution_count": 9,
     "metadata": {},
     "output_type": "execute_result"
    }
   ],
   "source": [
    "# change to the zip directory \n",
    "%cd ../zip\n",
    "\n",
    "# Combine the Organization, Collection, and Dialect variables with the string 'xml' as a relative path \n",
    "# and save the string to a variable\n",
    "MetadataDestination=os.path.join(Organization,Collection,Dialect,'xml')\n",
    "\n",
    "#Use the path to create a directory structure in the zip directory\n",
    "os.makedirs(MetadataDestination, exist_ok=True)\n",
    "\n",
    "# Create a path to the metadata you selected earlier and save the string to a variable, 'MetadataLocation'.\n",
    "MetadataLocation=os.path.join('../collection/',Organization,Collection,Dialect,'xml')\n",
    "\n",
    "# copy the metadata to the new directory structure.\n",
    "src_files = os.listdir(MetadataLocation)\n",
    "for file_name in src_files:\n",
    "    full_file_name = os.path.join(MetadataLocation, file_name)\n",
    "    if (os.path.isfile(full_file_name)):\n",
    "        shutil.copy(full_file_name, MetadataDestination)\n",
    "        \n",
    "# Make a zip file to upload to the evaluator service\n",
    "shutil.make_archive('../upload/metadata', 'zip', os.getcwd())\n",
    "\n"
   ]
  },
  {
   "cell_type": "markdown",
   "metadata": {},
   "source": [
    "#### Evaluate metadata\n",
    "\n",
    "Send metadata to the Evaluator. Get the responses with csv encoding. This step can take up to a minute and doesn't track progress, but a dataframe or an error message will be returned."
   ]
  },
  {
   "cell_type": "code",
   "execution_count": 248,
   "metadata": {
    "scrolled": false
   },
   "outputs": [
    {
     "name": "stdout",
     "output_type": "stream",
     "text": [
      "/Users/scgordon/MILE2\n",
      "/Users/scgordon/MILE2/zip\n",
      "/Users/scgordon/MILE2/data\n"
     ]
    }
   ],
   "source": [
    "# Switch to upload directory\n",
    "%cd ../upload \n",
    "\n",
    "# Send metadata package, read the response into a dataframe\n",
    "url = 'http://metadig.nceas.ucsb.edu/metadata/evaluator'\n",
    "files = {'zipxml': open('metadata.zip', 'rb')}\n",
    "r = requests.post(url, files=files, headers={\"Accept-Encoding\": \"gzip\"})\n",
    "r.raise_for_status()\n",
    "EvaluatedMetadataDF = pd.read_csv(io.StringIO(r.text), quotechar='\"')\n",
    "\n",
    "#build filepaths, directories and file names. Create gzipped archive with collection organization and dialect information\n",
    "Filedirectory=os.path.join('../data/',Organization)\n",
    "os.makedirs(Filedirectory, exist_ok=True)\n",
    "Filename='/'+Collection+'_'+Dialect+'_Evaluated.csv.gz'\n",
    "SimplfiedFilename='/'+Collection+'_'+Dialect+'_SimplifiedEvaluated.csv.gz'\n",
    "FilePath=Filedirectory+Filename\n",
    "SimplifiedFilePath=Filedirectory+SimplfiedFilename\n",
    "EvaluatedMetadataDF.insert(3, 'Collection', Organization+'_'+Collection+'_'+Dialect)\n",
    "EvaluatedMetadataDF.to_csv(FilePath, mode = 'w', compression='gzip', index=False)\n",
    "\n",
    "#Change directories, delete upload directory and zip. Delete copied metadata.\n",
    "%cd ../\n",
    "shutil.rmtree('upload')\n",
    "%cd zip\n",
    "shutil.rmtree(Organization)\n",
    "%cd ../data\n",
    "\n",
    "#Create a simplified XPath output and archive it\n",
    "EvaluatedSimplifiedMetadataDF = EvaluatedMetadataDF.copy()\n",
    "EvaluatedSimplifiedMetadataDF['XPath']=EvaluatedSimplifiedMetadataDF['XPath'].str.replace('/gco:CharacterString', '')\n",
    "EvaluatedSimplifiedMetadataDF['XPath']=EvaluatedSimplifiedMetadataDF['XPath'].str.replace('/[a-z]+:+?', '/')\n",
    "EvaluatedSimplifiedMetadataDF['XPath']=EvaluatedSimplifiedMetadataDF['XPath'].str.replace('/[A-Z]+_[A-Za-z]+/?', '/')\n",
    "EvaluatedSimplifiedMetadataDF['XPath']=EvaluatedSimplifiedMetadataDF['XPath'].str.replace('//', '/')\n",
    "EvaluatedSimplifiedMetadataDF['XPath']=EvaluatedSimplifiedMetadataDF['XPath'].str.rstrip('//')\n",
    "EvaluatedSimplifiedMetadataDF.to_csv(SimplifiedFilePath, mode = 'w', compression='gzip', index=False)"
   ]
  },
  {
   "cell_type": "markdown",
   "metadata": {
    "collapsed": true
   },
   "source": [
    "### Select the notebook that prepares the data for different types of analysis\n",
    "\n",
    "* [Create RAD Data](02RADdf.ipynb)\n",
    "* [Cross Collection Comparisons](03CrossCollectionComparisons.ipynb)\n",
    "* [Concept Content Consistency](04ConceptVerticals.ipynb)\n",
    "* [Exploring Unknown Concepts](05ExploringUnknownConcepts.ipynb)\n",
    "* [Adding Quality tests](05ExploringUnknownConcepts.ipynb)"
   ]
  },
  {
   "cell_type": "code",
   "execution_count": null,
   "metadata": {
    "collapsed": true
   },
   "outputs": [],
   "source": []
  }
 ],
 "metadata": {
  "kernelspec": {
   "display_name": "Python 3",
   "language": "python",
   "name": "python3"
  },
  "language_info": {
   "codemirror_mode": {
    "name": "ipython",
    "version": 3
   },
   "file_extension": ".py",
   "mimetype": "text/x-python",
   "name": "python",
   "nbconvert_exporter": "python",
   "pygments_lexer": "ipython3",
   "version": "3.6.1"
  }
 },
 "nbformat": 4,
 "nbformat_minor": 2
}
