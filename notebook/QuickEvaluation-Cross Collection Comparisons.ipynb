{
 "cells": [
  {
   "cell_type": "code",
   "execution_count": 22,
   "metadata": {
    "collapsed": true
   },
   "outputs": [],
   "source": [
    "import pandas as pd\n",
    "pd.options.display.max_colwidth=200\n",
    "import subprocess\n",
    "import os\n",
    "from os import walk\n",
    "import numpy as np\n",
    "from ipykernel import kernelapp as app\n",
    "from __future__ import print_function\n",
    "from ipywidgets import *\n",
    "import ipywidgets as widgets\n",
    "from IPython.display import display"
   ]
  },
  {
   "cell_type": "code",
   "execution_count": 18,
   "metadata": {},
   "outputs": [
    {
     "data": {
      "text/plain": [
       "['../data/BCO-DMO/GeoTraces_ISO_data.csv',\n",
       " '../data/DataOne/CDL_CSDGM_data.csv',\n",
       " '../data/DataOne/CLOEBIRD_EML_data.csv',\n",
       " '../data/DataOne/Dryad_Dryad_data.csv',\n",
       " '../data/DataOne/EDACGSTORE_CSDGM_data.csv',\n",
       " '../data/DataOne/EDORA_Mercury_data.csv',\n",
       " '../data/DataOne/ESA_EML_data.csv',\n",
       " '../data/DataOne/GLEON_EML_data.csv',\n",
       " '../data/DataOne/GOA_EML_data.csv',\n",
       " '../data/DataOne/IARC_Onedcx_data.csv',\n",
       " '../data/DataOne/IOE_EML_data.csv',\n",
       " '../data/DataOne/KNB_EML_data.csv',\n",
       " '../data/DataOne/KUBI_EML_data.csv',\n",
       " '../data/DataOne/LTER_EML_data.csv',\n",
       " '../data/DataOne/LTER_EUROPE_EML_data.csv',\n",
       " '../data/DataOne/NMEPSCOR_CSDGM_data.csv',\n",
       " '../data/DataOne/ONEShare_EML_data.csv',\n",
       " '../data/DataOne/ORNLDAAC_Mercury_data.csv',\n",
       " '../data/DataOne/PISCO_EML_data.csv',\n",
       " '../data/DataOne/RGD_Mercury_data.csv',\n",
       " '../data/DataOne/SANPARKS_EML_data.csv',\n",
       " '../data/DataOne/SEAD_CSDGM_data.csv',\n",
       " '../data/DataOne/TERN_EML_data.csv',\n",
       " '../data/DataOne/TFRI_EML_data.csv',\n",
       " '../data/DataOne/US_MPC_Onedcx_data.csv',\n",
       " '../data/DataOne/USANPN_EML_data.csv',\n",
       " '../data/DataOne/USGSCSAS_BDP_data.csv',\n",
       " '../data/DataOne/USGSCSAS_CSDGM_data.csv',\n",
       " '../data/IEDA/ECL_DCITE_data.csv',\n",
       " '../data/LTERthroughTime/LTER_2005_EML_data.csv',\n",
       " '../data/LTERthroughTime/LTER_2006_EML_data.csv',\n",
       " '../data/LTERthroughTime/LTER_2007_EML_data.csv',\n",
       " '../data/LTERthroughTime/LTER_2008_EML_data.csv',\n",
       " '../data/LTERthroughTime/LTER_2009_EML_data.csv',\n",
       " '../data/LTERthroughTime/LTER_2010_EML_data.csv',\n",
       " '../data/LTERthroughTime/LTER_2011_EML_data.csv',\n",
       " '../data/LTERthroughTime/LTER_2012_EML_data.csv',\n",
       " '../data/LTERthroughTime/LTER_2013_EML_data.csv',\n",
       " '../data/LTERthroughTime/LTER_2014_EML_data.csv',\n",
       " '../data/LTERthroughTime/LTER_2015_EML_data.csv',\n",
       " '../data/LTERthroughTime/LTER_2016_EML_data.csv',\n",
       " '../data/NASA/GES_DISC_DIF_data.csv',\n",
       " '../data/NASA/GHRC_DIF_data.csv',\n",
       " '../data/NASA/GHRC_ISO_data.csv',\n",
       " '../data/NASA/LARC_DIF_data.csv',\n",
       " '../data/NASA/LARC_ISO_data.csv',\n",
       " '../data/NASA/NSIDC_DIF_data.csv',\n",
       " '../data/NASA/NSIDC_ISO_data.csv',\n",
       " '../data/NCAR/IIS_MODS_data.csv',\n",
       " '../data/NCAR/RDA_RDA-CISL_data.csv',\n",
       " '../data/ORNL/DAAC_Mercury_data.csv',\n",
       " '../data/ORNL/NGEE_CSDGM_data.csv',\n",
       " '../data/ORNL/OLI_ISO_data.csv',\n",
       " '../data/ORNL/USGSC_CSDGM_data.csv',\n",
       " '../data/USGS/OldScienceBase_CSDGM_data.csv',\n",
       " '../data/USGS/ScienceBase_CSDGM_data.csv']"
      ]
     },
     "execution_count": 18,
     "metadata": {},
     "output_type": "execute_result"
    }
   ],
   "source": [
    "DataFiles=[]\n",
    "for dirpath, dirnames, filenames in os.walk(\"../data\"):\n",
    "    for filename in [f for f in filenames if f.endswith(\".csv\")]:\n",
    "        DataFiles.extend([os.path.join(dirpath, filename)])\n",
    "DataFiles        "
   ]
  },
  {
   "cell_type": "code",
   "execution_count": 41,
   "metadata": {},
   "outputs": [],
   "source": [
    "w=widgets.SelectMultiple(\n",
    "    options=DataFiles,\n",
    "    value=['../data/USGS/OldScienceBase_CSDGM_data.csv'],\n",
    "    #rows=10,\n",
    "    description='Collection Data',\n",
    "    disabled=False\n",
    ")\n"
   ]
  },
  {
   "cell_type": "code",
   "execution_count": 42,
   "metadata": {},
   "outputs": [],
   "source": [
    "display(w)"
   ]
  },
  {
   "cell_type": "code",
   "execution_count": 44,
   "metadata": {},
   "outputs": [
    {
     "data": {
      "text/plain": [
       "('../data/BCO-DMO/GeoTraces_ISO_data.csv',\n",
       " '../data/DataOne/LTER_EUROPE_EML_data.csv',\n",
       " '../data/DataOne/ORNLDAAC_Mercury_data.csv',\n",
       " '../data/NCAR/RDA_RDA-CISL_data.csv',\n",
       " '../data/ORNL/DAAC_Mercury_data.csv',\n",
       " '../data/USGS/OldScienceBase_CSDGM_data.csv')"
      ]
     },
     "execution_count": 44,
     "metadata": {},
     "output_type": "execute_result"
    }
   ],
   "source": [
    "CollectionComparisons=w.value\n",
    "CollectionComparisons"
   ]
  },
  {
   "cell_type": "code",
   "execution_count": null,
   "metadata": {
    "collapsed": true
   },
   "outputs": [],
   "source": [
    "DataFiles=[]\n",
    "for dirpath, dirnames, filenames in os.walk(\"../data/\"):\n",
    "    for filename in [f for f in filenames if f.endswith(\".csv\")]:\n",
    "        DataFiles.extend([filename])\n",
    "        break\n",
    "DataFiles   "
   ]
  },
  {
   "cell_type": "code",
   "execution_count": null,
   "metadata": {
    "collapsed": true
   },
   "outputs": [],
   "source": []
  }
 ],
 "metadata": {
  "kernelspec": {
   "display_name": "Python 3",
   "language": "python",
   "name": "python3"
  },
  "language_info": {
   "codemirror_mode": {
    "name": "ipython",
    "version": 3
   },
   "file_extension": ".py",
   "mimetype": "text/x-python",
   "name": "python",
   "nbconvert_exporter": "python",
   "pygments_lexer": "ipython3",
   "version": "3.6.0"
  },
  "widgets": {
   "state": {
    "95304bf4712c45a590e5bb99099520fa": {
     "views": [
      {
       "cell_index": 3
      }
     ]
    }
   },
   "version": "1.2.0"
  }
 },
 "nbformat": 4,
 "nbformat_minor": 2
}
