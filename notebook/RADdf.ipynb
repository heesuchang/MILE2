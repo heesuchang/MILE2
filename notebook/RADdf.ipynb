{
 "cells": [
  {
   "cell_type": "markdown",
   "metadata": {},
   "source": [
    "## create a dataframe used to create all visualizations for that recommendation\n",
    "\n",
    "\n",
    "\n",
    "Function used to fill in the dataframe\n",
    "If the concept name and record name exist in a row of the dataDF return a one. If they do not exist, check to see if the concept is contained in the dialect using the dialectDF (use filepath to determine dialect). If yes, return zero. if not in dialect return negative one"
   ]
  },
  {
   "cell_type": "markdown",
   "metadata": {},
   "source": [
    "Import as needed"
   ]
  },
  {
   "cell_type": "code",
   "execution_count": 3,
   "metadata": {
    "collapsed": true
   },
   "outputs": [],
   "source": [
    "import pandas as pd"
   ]
  },
  {
   "cell_type": "markdown",
   "metadata": {},
   "source": [
    "Read in the tables we need for dialects and recommendations"
   ]
  },
  {
   "cell_type": "code",
   "execution_count": 4,
   "metadata": {},
   "outputs": [],
   "source": [
    "DialectContainsDF= pd.read_csv('../table/dialectContains.csv')\n",
    "my_cols = [\"ConceptA\", \"ConceptB\", \"ConceptC\", \"ConceptD\", \"ConceptE\", \"ConceptA1\", \"ConceptB1\", \"ConceptC1\", \"ConceptD1\", \"ConceptE1\", \"ConceptA2\", \"ConceptB2\", \"ConceptC2\", \"ConceptD2\", \"ConceptE2\", \"ConceptA3\", \"ConceptB3\", \"ConceptC3\", \"ConceptD3\", \"ConceptE3\", \"ConceptA4\", \"ConceptB4\", \"ConceptC4\", \"ConceptD4\", \"ConceptE4\", \"ConceptA5\", \"ConceptB5\", \"ConceptC5\", \"ConceptD5\", \"ConceptE5\", \"ConceptA6\", \"ConceptB6\", \"ConceptC6\", \"ConceptD6\", \"ConceptE6\", \"ConceptA7\", \"ConceptB7\", \"ConceptC7\", \"ConceptD7\", \"ConceptE7\", \"ConceptA8\", \"ConceptB8\", \"ConceptC8\", \"ConceptD8\", \"ConceptE8\", \"ConceptA9\", \"ConceptB9\", \"ConceptC9\", \"ConceptD9\", \"ConceptE9\"]\n",
    "RecommendationsDF= pd.read_csv('../table/RecTag.csv', names=my_cols)"
   ]
  },
  {
   "cell_type": "markdown",
   "metadata": {},
   "source": [
    "read in the EvaluatedMetadata of the collection you want to analyze"
   ]
  },
  {
   "cell_type": "code",
   "execution_count": null,
   "metadata": {
    "collapsed": true
   },
   "outputs": [],
   "source": [
    "w=widgets.SelectMultiple(\n",
    "    options=DataFiles,\n",
    "    value=['../data/USGS/OldScienceBase_CSDGM_data.csv'],\n",
    "    #rows=10,\n",
    "    description='Collection Data',\n",
    "    disabled=False\n",
    ")\n",
    "display(w)"
   ]
  },
  {
   "cell_type": "markdown",
   "metadata": {},
   "source": [
    "Use recommendations dataframe to create columns use list of unique values in the Record column of dataDF to create rows"
   ]
  },
  {
   "cell_type": "code",
   "execution_count": null,
   "metadata": {
    "collapsed": true
   },
   "outputs": [],
   "source": []
  },
  {
   "cell_type": "code",
   "execution_count": null,
   "metadata": {
    "collapsed": true
   },
   "outputs": [],
   "source": []
  }
 ],
 "metadata": {
  "kernelspec": {
   "display_name": "Python 3",
   "language": "python",
   "name": "python3"
  },
  "language_info": {
   "codemirror_mode": {
    "name": "ipython",
    "version": 3
   },
   "file_extension": ".py",
   "mimetype": "text/x-python",
   "name": "python",
   "nbconvert_exporter": "python",
   "pygments_lexer": "ipython3",
   "version": "3.6.1"
  }
 },
 "nbformat": 4,
 "nbformat_minor": 2
}
