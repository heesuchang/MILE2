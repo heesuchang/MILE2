{
 "cells": [
  {
   "cell_type": "markdown",
   "metadata": {},
   "source": [
    "This notebook allows the user to select XML collections and zip them up to send to a service that runs a transform on them and returns a simple CSV made up of seven data points. The data included is the Collection name, Dialect name, Record name, Concept name, Content, Xpath location, and the Dialect Definition for the concept. \n",
    "\n",
    "The notebook utilizes Bash and Python with the default packages contained in the Mac build of Anaconda with Python 3.6. \n",
    "\n",
    "Saxon, Java, and XSLT form the evaluation web service on a NCEAS virtual machine. \n",
    "\n",
    "This CSV contains a row for each concept that is found, so some elements may fulfill multiple concepts. A good example of this are the concepts Keyword and Place Keyword. Every Place Keyword is also a Keyword, so the row would repeat with a different Concept name. It also contains a row for each undefined node that contains text, marking these rows with an Unknown in the Concept column. \n",
    "\n",
    "This data can be used in a variety of analyses including RAD and QuickE as well as Concept Verticals. It can also be used to teach the system dialect definitions for concepts that are currently unknown by exposing all of the content at undefined nodes. "
   ]
  },
  {
   "cell_type": "markdown",
   "metadata": {},
   "source": [
    "## First we need to call all of the libraries we need to perform in our metadata wrangle"
   ]
  },
  {
   "cell_type": "code",
   "execution_count": 25,
   "metadata": {
    "collapsed": true,
    "scrolled": true
   },
   "outputs": [],
   "source": [
    "import pandas as pd\n",
    "import os\n",
    "from os import walk\n",
    "import shutil\n",
    "from ipywidgets import *\n",
    "import ipywidgets as widgets\n",
    "import requests\n",
    "from contextlib import closing\n",
    "import csv\n",
    "import io"
   ]
  },
  {
   "cell_type": "markdown",
   "metadata": {
    "collapsed": true
   },
   "source": [
    "### Now let's select some metadata. "
   ]
  },
  {
   "cell_type": "markdown",
   "metadata": {},
   "source": [
    "If you have prepared metadata\\* on your computer that you want to add, it is possible to upload into the repository locally using the [Add Metadata](AddMetadata.ipynb) Notebook before completing the following cells in this notebook. Otherwise, follow along and use some of the sample metadata the following steps will help you to select.\n",
    "\n",
    "\\* Prepared metadata contains a root element that has a standardized namespace and namespace prefix. Many dialects such as ISO and DIF are consistently written this way, but some dialects such as CSDGM are often written by organizations as only well-formed XML."
   ]
  },
  {
   "cell_type": "markdown",
   "metadata": {},
   "source": [
    "Create a list of subdirectories in the collection directory of MILE2 to select metadata for evaluation"
   ]
  },
  {
   "cell_type": "code",
   "execution_count": 26,
   "metadata": {
    "collapsed": true
   },
   "outputs": [],
   "source": [
    "Organizations = []\n",
    "for (dirpath, dirnames, filenames) in walk('../collection/'):\n",
    "    Organizations.extend(dirnames)\n",
    "    break  "
   ]
  },
  {
   "cell_type": "markdown",
   "metadata": {},
   "source": [
    "Create a function to select the organization the metadata comes from"
   ]
  },
  {
   "cell_type": "code",
   "execution_count": 27,
   "metadata": {
    "collapsed": true
   },
   "outputs": [],
   "source": [
    "def OrganizationChoices(organization):\n",
    "    global OrganizationChoice\n",
    "    global Organization\n",
    "    Organization=organization\n",
    "    print(\"Organization of the collection is\", Organization)\n"
   ]
  },
  {
   "cell_type": "markdown",
   "metadata": {},
   "source": [
    "Create a dropdown using the Organizations list and the organization selector function. This sets the Organization variable."
   ]
  },
  {
   "cell_type": "code",
   "execution_count": 28,
   "metadata": {},
   "outputs": [
    {
     "data": {
      "application/vnd.jupyter.widget-view+json": {
       "model_id": "815dde9c010347c1838a78ec82da9707"
      }
     },
     "metadata": {},
     "output_type": "display_data"
    }
   ],
   "source": [
    "interactive(OrganizationChoices, organization=Organizations)"
   ]
  },
  {
   "cell_type": "markdown",
   "metadata": {},
   "source": [
    "Create a list of collections in the organization directory selected in the dropdown above"
   ]
  },
  {
   "cell_type": "code",
   "execution_count": 34,
   "metadata": {},
   "outputs": [
    {
     "data": {
      "text/plain": [
       "['GES_DISC', 'GHRC', 'LARC', 'NSIDC', 'PODAAC']"
      ]
     },
     "execution_count": 34,
     "metadata": {},
     "output_type": "execute_result"
    }
   ],
   "source": [
    "Collections = []\n",
    "for (dirpath, dirnames, filenames) in walk(os.path.join('../collection',Organization)):\n",
    "    Collections.extend(dirnames)\n",
    "    break \n",
    "Collections"
   ]
  },
  {
   "cell_type": "markdown",
   "metadata": {
    "collapsed": true
   },
   "source": [
    "Create a function to select the collection the metadata comes from"
   ]
  },
  {
   "cell_type": "code",
   "execution_count": 35,
   "metadata": {
    "collapsed": true
   },
   "outputs": [],
   "source": [
    "def CollectionChoices(collection):\n",
    "    global CollectionChoice\n",
    "    global Collection\n",
    "    Collection=collection"
   ]
  },
  {
   "cell_type": "markdown",
   "metadata": {},
   "source": [
    "Create a dropdown using the Collections list and the organization selector function. This sets the Collection variable."
   ]
  },
  {
   "cell_type": "code",
   "execution_count": 36,
   "metadata": {},
   "outputs": [
    {
     "data": {
      "application/vnd.jupyter.widget-view+json": {
       "model_id": "ecdd94b54a094f0d8b85a2d3b57bff3e"
      }
     },
     "metadata": {},
     "output_type": "display_data"
    }
   ],
   "source": [
    "interactive(CollectionChoices, collection=Collections)"
   ]
  },
  {
   "cell_type": "markdown",
   "metadata": {},
   "source": [
    "Many organizations support multiple metadata dialects, and share their collections in more than one dialect. This list is created the same way the others are. It adds the different dialects the collection is shared in to a list."
   ]
  },
  {
   "cell_type": "code",
   "execution_count": 37,
   "metadata": {
    "collapsed": true
   },
   "outputs": [],
   "source": [
    "Dialects = []\n",
    "for (dirpath, dirnames, filenames) in walk(os.path.join('../collection',Organization,Collection)):\n",
    "    Dialects.extend(dirnames)\n",
    "    break \n",
    "dialectList=Dialects\n"
   ]
  },
  {
   "cell_type": "markdown",
   "metadata": {},
   "source": [
    "Create a function to select the dialect you want to send to the evaluator service."
   ]
  },
  {
   "cell_type": "code",
   "execution_count": 38,
   "metadata": {
    "collapsed": true
   },
   "outputs": [],
   "source": [
    "def dialectChoice(dialect):\n",
    "    global Dialect\n",
    "    Dialect=dialect\n",
    "    print(\"Dialect of the collection is\", Dialect)\n"
   ]
  },
  {
   "cell_type": "markdown",
   "metadata": {},
   "source": [
    "Create a dropdown using the Dialects list and the dialect selector function. This sets the Dialect variable."
   ]
  },
  {
   "cell_type": "code",
   "execution_count": 39,
   "metadata": {},
   "outputs": [
    {
     "data": {
      "application/vnd.jupyter.widget-view+json": {
       "model_id": "295a0b5706a7405682448cb2d004d841"
      }
     },
     "metadata": {},
     "output_type": "display_data"
    }
   ],
   "source": [
    "interactive(dialectChoice,dialect=dialectList)"
   ]
  },
  {
   "cell_type": "markdown",
   "metadata": {},
   "source": [
    "change to the zip directory "
   ]
  },
  {
   "cell_type": "code",
   "execution_count": 43,
   "metadata": {},
   "outputs": [
    {
     "name": "stdout",
     "output_type": "stream",
     "text": [
      "/Users/scgordon/MILE2/zip\n"
     ]
    }
   ],
   "source": [
    "cd ../zip"
   ]
  },
  {
   "cell_type": "markdown",
   "metadata": {},
   "source": [
    "Combine the Organization, Collection, and Dialect variables with the string 'xml' as a relative path and save the string to a variable"
   ]
  },
  {
   "cell_type": "code",
   "execution_count": 44,
   "metadata": {},
   "outputs": [
    {
     "data": {
      "text/plain": [
       "'NASA/PODAAC/ISO/xml'"
      ]
     },
     "execution_count": 44,
     "metadata": {},
     "output_type": "execute_result"
    }
   ],
   "source": [
    "MetadataDestination=os.path.join(Organization,Collection,Dialect,'xml')\n",
    "MetadataDestination"
   ]
  },
  {
   "cell_type": "markdown",
   "metadata": {},
   "source": [
    "Use the path to create a directory structure in the zip directory"
   ]
  },
  {
   "cell_type": "code",
   "execution_count": 45,
   "metadata": {
    "collapsed": true
   },
   "outputs": [],
   "source": [
    "os.makedirs(MetadataDestination, exist_ok=True)"
   ]
  },
  {
   "cell_type": "markdown",
   "metadata": {},
   "source": [
    "Create a path to the metadata you selected earlier and save the string to a variable, 'MetadataLocation'."
   ]
  },
  {
   "cell_type": "code",
   "execution_count": 46,
   "metadata": {},
   "outputs": [
    {
     "data": {
      "text/plain": [
       "'../collection/NASA/PODAAC/ISO/xml'"
      ]
     },
     "execution_count": 46,
     "metadata": {},
     "output_type": "execute_result"
    }
   ],
   "source": [
    "MetadataLocation=os.path.join('../collection/',Organization,Collection,Dialect,'xml')\n",
    "\n",
    "MetadataLocation"
   ]
  },
  {
   "cell_type": "markdown",
   "metadata": {},
   "source": [
    "Copy the metadata to the new directory structure."
   ]
  },
  {
   "cell_type": "code",
   "execution_count": 48,
   "metadata": {
    "collapsed": true
   },
   "outputs": [],
   "source": [
    "src_files = os.listdir(MetadataLocation)\n",
    "for file_name in src_files:\n",
    "    full_file_name = os.path.join(MetadataLocation, file_name)\n",
    "    if (os.path.isfile(full_file_name)):\n",
    "        shutil.copy(full_file_name, MetadataDestination)"
   ]
  },
  {
   "cell_type": "markdown",
   "metadata": {},
   "source": [
    "Make a zip file to upload to the evaluator service"
   ]
  },
  {
   "cell_type": "code",
   "execution_count": 49,
   "metadata": {},
   "outputs": [
    {
     "data": {
      "text/plain": [
       "'/Users/scgordon/MILE2/upload/metadata.zip'"
      ]
     },
     "execution_count": 49,
     "metadata": {},
     "output_type": "execute_result"
    }
   ],
   "source": [
    "shutil.make_archive('../upload/metadata', 'zip', os.getcwd())"
   ]
  },
  {
   "cell_type": "code",
   "execution_count": 50,
   "metadata": {},
   "outputs": [
    {
     "name": "stdout",
     "output_type": "stream",
     "text": [
      "/Users/scgordon/MILE2/upload\n"
     ]
    }
   ],
   "source": [
    "%cd ../upload"
   ]
  },
  {
   "cell_type": "markdown",
   "metadata": {},
   "source": [
    "Send metadata to the Evaluator. Get the responses with csv encoding. This step can take up to a minute and doesn't track progress, but a dataframe or an error message will be returned."
   ]
  },
  {
   "cell_type": "code",
   "execution_count": 51,
   "metadata": {},
   "outputs": [
    {
     "data": {
      "text/html": [
       "<div>\n",
       "<style>\n",
       "    .dataframe thead tr:only-child th {\n",
       "        text-align: right;\n",
       "    }\n",
       "\n",
       "    .dataframe thead th {\n",
       "        text-align: left;\n",
       "    }\n",
       "\n",
       "    .dataframe tbody tr th {\n",
       "        vertical-align: top;\n",
       "    }\n",
       "</style>\n",
       "<table border=\"1\" class=\"dataframe\">\n",
       "  <thead>\n",
       "    <tr style=\"text-align: right;\">\n",
       "      <th></th>\n",
       "      <th>Collection</th>\n",
       "      <th>Dialect</th>\n",
       "      <th>Record</th>\n",
       "      <th>Concept</th>\n",
       "      <th>Content</th>\n",
       "      <th>XPath</th>\n",
       "      <th>DialectDefinition</th>\n",
       "    </tr>\n",
       "  </thead>\n",
       "  <tbody>\n",
       "    <tr>\n",
       "      <th>0</th>\n",
       "      <td>PODAAC</td>\n",
       "      <td>ISO</td>\n",
       "      <td>C1284824094.xml</td>\n",
       "      <td>Metadata Identifier</td>\n",
       "      <td>gov.nasa.echo:PODAAC-GH18L-2PN01</td>\n",
       "      <td>/gmi:MI_Metadata/gmd:fileIdentifier</td>\n",
       "      <td>/*/gmd:fileIdentifier</td>\n",
       "    </tr>\n",
       "    <tr>\n",
       "      <th>1</th>\n",
       "      <td>PODAAC</td>\n",
       "      <td>ISO</td>\n",
       "      <td>C1284824094.xml</td>\n",
       "      <td>Metadata Language</td>\n",
       "      <td>eng</td>\n",
       "      <td>/gmi:MI_Metadata/gmd:language</td>\n",
       "      <td>/*/gmd:language</td>\n",
       "    </tr>\n",
       "    <tr>\n",
       "      <th>2</th>\n",
       "      <td>PODAAC</td>\n",
       "      <td>ISO</td>\n",
       "      <td>C1284824094.xml</td>\n",
       "      <td>Unknown</td>\n",
       "      <td>utf8</td>\n",
       "      <td>/gmi:MI_Metadata/gmd:characterSet/gmd:MD_Chara...</td>\n",
       "      <td>Undefined</td>\n",
       "    </tr>\n",
       "    <tr>\n",
       "      <th>3</th>\n",
       "      <td>PODAAC</td>\n",
       "      <td>ISO</td>\n",
       "      <td>C1284824094.xml</td>\n",
       "      <td>Unknown</td>\n",
       "      <td>http://www.ngdc.noaa.gov/metadata/published/xs...</td>\n",
       "      <td>/gmi:MI_Metadata/gmd:characterSet/gmd:MD_Chara...</td>\n",
       "      <td>Undefined</td>\n",
       "    </tr>\n",
       "    <tr>\n",
       "      <th>4</th>\n",
       "      <td>PODAAC</td>\n",
       "      <td>ISO</td>\n",
       "      <td>C1284824094.xml</td>\n",
       "      <td>Unknown</td>\n",
       "      <td>utf8</td>\n",
       "      <td>/gmi:MI_Metadata/gmd:characterSet/gmd:MD_Chara...</td>\n",
       "      <td>Undefined</td>\n",
       "    </tr>\n",
       "    <tr>\n",
       "      <th>5</th>\n",
       "      <td>PODAAC</td>\n",
       "      <td>ISO</td>\n",
       "      <td>C1284824094.xml</td>\n",
       "      <td>Resource Type</td>\n",
       "      <td>series</td>\n",
       "      <td>/gmi:MI_Metadata/gmd:hierarchyLevel/gmd:MD_Sco...</td>\n",
       "      <td>/*/gmd:hierarchyLevel/gmd:MD_ScopeCode</td>\n",
       "    </tr>\n",
       "    <tr>\n",
       "      <th>6</th>\n",
       "      <td>PODAAC</td>\n",
       "      <td>ISO</td>\n",
       "      <td>C1284824094.xml</td>\n",
       "      <td>Metadata Contact</td>\n",
       "      <td>PO.DAAC pointOfContact</td>\n",
       "      <td>/gmi:MI_Metadata/gmd:contact</td>\n",
       "      <td>/*/gmd:contact</td>\n",
       "    </tr>\n",
       "    <tr>\n",
       "      <th>7</th>\n",
       "      <td>PODAAC</td>\n",
       "      <td>ISO</td>\n",
       "      <td>C1284824094.xml</td>\n",
       "      <td>Metadata Modified Date</td>\n",
       "      <td>2011-04-27T11:56:13.887Z</td>\n",
       "      <td>/gmi:MI_Metadata/gmd:dateStamp/gco:DateTime</td>\n",
       "      <td>/*/gmd:dateStamp/gco:DateTime</td>\n",
       "    </tr>\n",
       "    <tr>\n",
       "      <th>8</th>\n",
       "      <td>PODAAC</td>\n",
       "      <td>ISO</td>\n",
       "      <td>C1284824094.xml</td>\n",
       "      <td>Metadata Dates</td>\n",
       "      <td>2011-04-27T11:56:13.887Z</td>\n",
       "      <td>/gmi:MI_Metadata/gmd:dateStamp/gco:DateTime</td>\n",
       "      <td>/*/gmd:dateStamp/gco:DateTime</td>\n",
       "    </tr>\n",
       "    <tr>\n",
       "      <th>9</th>\n",
       "      <td>PODAAC</td>\n",
       "      <td>ISO</td>\n",
       "      <td>C1284824094.xml</td>\n",
       "      <td>Metadata Standard Citation</td>\n",
       "      <td>ISO 19115-2 Geographic Information - Metadata ...</td>\n",
       "      <td>/gmi:MI_Metadata/gmd:metadataStandardName</td>\n",
       "      <td>/*/gmd:metadataStandardName</td>\n",
       "    </tr>\n",
       "    <tr>\n",
       "      <th>10</th>\n",
       "      <td>PODAAC</td>\n",
       "      <td>ISO</td>\n",
       "      <td>C1284824094.xml</td>\n",
       "      <td>Metadata Standard Version</td>\n",
       "      <td>ISO 19115-2:2009(E)</td>\n",
       "      <td>/gmi:MI_Metadata/gmd:metadataStandardVersion</td>\n",
       "      <td>/*/gmd:metadataStandardVersion</td>\n",
       "    </tr>\n",
       "    <tr>\n",
       "      <th>11</th>\n",
       "      <td>PODAAC</td>\n",
       "      <td>ISO</td>\n",
       "      <td>C1284824094.xml</td>\n",
       "      <td>Spatial Representation</td>\n",
       "      <td>CARTESIAN</td>\n",
       "      <td>/gmi:MI_Metadata/gmd:referenceSystemInfo/gmd:M...</td>\n",
       "      <td>/*/gmd:referenceSystemInfo/gmd:MD_ReferenceSys...</td>\n",
       "    </tr>\n",
       "    <tr>\n",
       "      <th>12</th>\n",
       "      <td>PODAAC</td>\n",
       "      <td>ISO</td>\n",
       "      <td>C1284824094.xml</td>\n",
       "      <td>Publication Information</td>\n",
       "      <td>NAVO-L2P-AVHRR18_L &gt; Bulk Sea Surface Temperat...</td>\n",
       "      <td>/gmi:MI_Metadata/gmd:identificationInfo/gmd:MD...</td>\n",
       "      <td>/*/gmd:identificationInfo/*/gmd:citation/gmd:C...</td>\n",
       "    </tr>\n",
       "    <tr>\n",
       "      <th>13</th>\n",
       "      <td>PODAAC</td>\n",
       "      <td>ISO</td>\n",
       "      <td>C1284824094.xml</td>\n",
       "      <td>Abstract</td>\n",
       "      <td>Multi-Channel SST retreivals generated in real...</td>\n",
       "      <td>/gmi:MI_Metadata/gmd:identificationInfo/gmd:MD...</td>\n",
       "      <td>/*/gmd:identificationInfo/*/gmd:abstract</td>\n",
       "    </tr>\n",
       "    <tr>\n",
       "      <th>14</th>\n",
       "      <td>PODAAC</td>\n",
       "      <td>ISO</td>\n",
       "      <td>C1284824094.xml</td>\n",
       "      <td>Purpose</td>\n",
       "      <td>NaN</td>\n",
       "      <td>/gmi:MI_Metadata/gmd:identificationInfo/gmd:MD...</td>\n",
       "      <td>/*/gmd:identificationInfo/*/gmd:purpose</td>\n",
       "    </tr>\n",
       "    <tr>\n",
       "      <th>15</th>\n",
       "      <td>PODAAC</td>\n",
       "      <td>ISO</td>\n",
       "      <td>C1284824094.xml</td>\n",
       "      <td>Resource Contact</td>\n",
       "      <td>PO.DAAC pointOfContact</td>\n",
       "      <td>/gmi:MI_Metadata/gmd:identificationInfo/gmd:MD...</td>\n",
       "      <td>/*/gmd:identificationInfo/*/gmd:pointOfContact</td>\n",
       "    </tr>\n",
       "    <tr>\n",
       "      <th>16</th>\n",
       "      <td>PODAAC</td>\n",
       "      <td>ISO</td>\n",
       "      <td>C1284824094.xml</td>\n",
       "      <td>Browse File Name</td>\n",
       "      <td>NaN</td>\n",
       "      <td>/gmi:MI_Metadata/gmd:identificationInfo/gmd:MD...</td>\n",
       "      <td>/*/gmd:identificationInfo/*/gmd:graphicOvervie...</td>\n",
       "    </tr>\n",
       "    <tr>\n",
       "      <th>17</th>\n",
       "      <td>PODAAC</td>\n",
       "      <td>ISO</td>\n",
       "      <td>C1284824094.xml</td>\n",
       "      <td>Related URL</td>\n",
       "      <td>NaN</td>\n",
       "      <td>/gmi:MI_Metadata/gmd:identificationInfo/gmd:MD...</td>\n",
       "      <td>/*/gmd:identificationInfo/*/gmd:graphicOvervie...</td>\n",
       "    </tr>\n",
       "    <tr>\n",
       "      <th>18</th>\n",
       "      <td>PODAAC</td>\n",
       "      <td>ISO</td>\n",
       "      <td>C1284824094.xml</td>\n",
       "      <td>Browse Description</td>\n",
       "      <td>Thumbnail image for Website</td>\n",
       "      <td>/gmi:MI_Metadata/gmd:identificationInfo/gmd:MD...</td>\n",
       "      <td>/*/gmd:identificationInfo/*/gmd:graphicOvervie...</td>\n",
       "    </tr>\n",
       "    <tr>\n",
       "      <th>19</th>\n",
       "      <td>PODAAC</td>\n",
       "      <td>ISO</td>\n",
       "      <td>C1284824094.xml</td>\n",
       "      <td>Browse Format</td>\n",
       "      <td>NaN</td>\n",
       "      <td>/gmi:MI_Metadata/gmd:identificationInfo/gmd:MD...</td>\n",
       "      <td>/*/gmd:identificationInfo/*/gmd:graphicOvervie...</td>\n",
       "    </tr>\n",
       "    <tr>\n",
       "      <th>20</th>\n",
       "      <td>PODAAC</td>\n",
       "      <td>ISO</td>\n",
       "      <td>C1284824094.xml</td>\n",
       "      <td>Resource Format</td>\n",
       "      <td>NETCDF</td>\n",
       "      <td>/gmi:MI_Metadata/gmd:identificationInfo/gmd:MD...</td>\n",
       "      <td>//gmd:resourceFormat/gmd:MD_Format/gmd:name</td>\n",
       "    </tr>\n",
       "    <tr>\n",
       "      <th>21</th>\n",
       "      <td>PODAAC</td>\n",
       "      <td>ISO</td>\n",
       "      <td>C1284824094.xml</td>\n",
       "      <td>Unknown</td>\n",
       "      <td>unknown</td>\n",
       "      <td>/gmi:MI_Metadata/gmd:identificationInfo/gmd:MD...</td>\n",
       "      <td>Undefined</td>\n",
       "    </tr>\n",
       "    <tr>\n",
       "      <th>22</th>\n",
       "      <td>PODAAC</td>\n",
       "      <td>ISO</td>\n",
       "      <td>C1284824094.xml</td>\n",
       "      <td>Theme Keyword</td>\n",
       "      <td>EARTH SCIENCE&gt;OCEANS&gt;OCEAN TEMPERATURE&gt;SEA SUR...</td>\n",
       "      <td>/gmi:MI_Metadata/gmd:identificationInfo/gmd:MD...</td>\n",
       "      <td>/*/gmd:identificationInfo/*/gmd:descriptiveKey...</td>\n",
       "    </tr>\n",
       "    <tr>\n",
       "      <th>23</th>\n",
       "      <td>PODAAC</td>\n",
       "      <td>ISO</td>\n",
       "      <td>C1284824094.xml</td>\n",
       "      <td>Keyword</td>\n",
       "      <td>EARTH SCIENCE&gt;OCEANS&gt;OCEAN TEMPERATURE&gt;SEA SUR...</td>\n",
       "      <td>/gmi:MI_Metadata/gmd:identificationInfo/gmd:MD...</td>\n",
       "      <td>/*/gmd:identificationInfo/*/gmd:descriptiveKey...</td>\n",
       "    </tr>\n",
       "    <tr>\n",
       "      <th>24</th>\n",
       "      <td>PODAAC</td>\n",
       "      <td>ISO</td>\n",
       "      <td>C1284824094.xml</td>\n",
       "      <td>Keyword Type</td>\n",
       "      <td>theme</td>\n",
       "      <td>/gmi:MI_Metadata/gmd:identificationInfo/gmd:MD...</td>\n",
       "      <td>/*/gmd:identificationInfo/*/gmd:descriptiveKey...</td>\n",
       "    </tr>\n",
       "    <tr>\n",
       "      <th>25</th>\n",
       "      <td>PODAAC</td>\n",
       "      <td>ISO</td>\n",
       "      <td>C1284824094.xml</td>\n",
       "      <td>Keyword Vocabulary</td>\n",
       "      <td>NASA/GCMD Science Keywords NASA GCMD User Supp...</td>\n",
       "      <td>/gmi:MI_Metadata/gmd:identificationInfo/gmd:MD...</td>\n",
       "      <td>/*/gmd:identificationInfo/*/gmd:descriptiveKey...</td>\n",
       "    </tr>\n",
       "    <tr>\n",
       "      <th>26</th>\n",
       "      <td>PODAAC</td>\n",
       "      <td>ISO</td>\n",
       "      <td>C1284824094.xml</td>\n",
       "      <td>Keyword Vocabulary Citation</td>\n",
       "      <td>NASA/GCMD Science Keywords NASA GCMD User Supp...</td>\n",
       "      <td>/gmi:MI_Metadata/gmd:identificationInfo/gmd:MD...</td>\n",
       "      <td>/*/gmd:identificationInfo/*/gmd:descriptiveKey...</td>\n",
       "    </tr>\n",
       "    <tr>\n",
       "      <th>27</th>\n",
       "      <td>PODAAC</td>\n",
       "      <td>ISO</td>\n",
       "      <td>C1284824094.xml</td>\n",
       "      <td>Place Keyword</td>\n",
       "      <td>Global</td>\n",
       "      <td>/gmi:MI_Metadata/gmd:identificationInfo/gmd:MD...</td>\n",
       "      <td>/*/gmd:identificationInfo/*/gmd:descriptiveKey...</td>\n",
       "    </tr>\n",
       "    <tr>\n",
       "      <th>28</th>\n",
       "      <td>PODAAC</td>\n",
       "      <td>ISO</td>\n",
       "      <td>C1284824094.xml</td>\n",
       "      <td>Keyword</td>\n",
       "      <td>Global</td>\n",
       "      <td>/gmi:MI_Metadata/gmd:identificationInfo/gmd:MD...</td>\n",
       "      <td>/*/gmd:identificationInfo/*/gmd:descriptiveKey...</td>\n",
       "    </tr>\n",
       "    <tr>\n",
       "      <th>29</th>\n",
       "      <td>PODAAC</td>\n",
       "      <td>ISO</td>\n",
       "      <td>C1284824094.xml</td>\n",
       "      <td>Keyword Type</td>\n",
       "      <td>place</td>\n",
       "      <td>/gmi:MI_Metadata/gmd:identificationInfo/gmd:MD...</td>\n",
       "      <td>/*/gmd:identificationInfo/*/gmd:descriptiveKey...</td>\n",
       "    </tr>\n",
       "    <tr>\n",
       "      <th>...</th>\n",
       "      <td>...</td>\n",
       "      <td>...</td>\n",
       "      <td>...</td>\n",
       "      <td>...</td>\n",
       "      <td>...</td>\n",
       "      <td>...</td>\n",
       "      <td>...</td>\n",
       "    </tr>\n",
       "    <tr>\n",
       "      <th>8486</th>\n",
       "      <td>PODAAC</td>\n",
       "      <td>ISO</td>\n",
       "      <td>C1276118176.xml</td>\n",
       "      <td>Distribution Format</td>\n",
       "      <td>NETCDF</td>\n",
       "      <td>/gmi:MI_Metadata/gmd:distributionInfo/gmd:MD_D...</td>\n",
       "      <td>/*/gmd:distributionInfo/gmd:MD_Distribution/gm...</td>\n",
       "    </tr>\n",
       "    <tr>\n",
       "      <th>8487</th>\n",
       "      <td>PODAAC</td>\n",
       "      <td>ISO</td>\n",
       "      <td>C1276118176.xml</td>\n",
       "      <td>Unknown</td>\n",
       "      <td>unknown</td>\n",
       "      <td>/gmi:MI_Metadata/gmd:distributionInfo/gmd:MD_D...</td>\n",
       "      <td>Undefined</td>\n",
       "    </tr>\n",
       "    <tr>\n",
       "      <th>8488</th>\n",
       "      <td>PODAAC</td>\n",
       "      <td>ISO</td>\n",
       "      <td>C1276118176.xml</td>\n",
       "      <td>URL</td>\n",
       "      <td>ftp://podaac-ftp.jpl.nasa.gov/allData/ghrsst/d...</td>\n",
       "      <td>/gmi:MI_Metadata/gmd:distributionInfo/gmd:MD_D...</td>\n",
       "      <td>/*/gmd:distributionInfo/gmd:MD_Distribution/gm...</td>\n",
       "    </tr>\n",
       "    <tr>\n",
       "      <th>8489</th>\n",
       "      <td>PODAAC</td>\n",
       "      <td>ISO</td>\n",
       "      <td>C1276118176.xml</td>\n",
       "      <td>URL</td>\n",
       "      <td>http://podaac-opendap.jpl.nasa.gov/opendap/all...</td>\n",
       "      <td>/gmi:MI_Metadata/gmd:distributionInfo/gmd:MD_D...</td>\n",
       "      <td>/*/gmd:distributionInfo/gmd:MD_Distribution/gm...</td>\n",
       "    </tr>\n",
       "    <tr>\n",
       "      <th>8490</th>\n",
       "      <td>PODAAC</td>\n",
       "      <td>ISO</td>\n",
       "      <td>C1276118176.xml</td>\n",
       "      <td>URL</td>\n",
       "      <td>ftp://ftp.nodc.noaa.gov/pub/data.nodc/ghrsst/G...</td>\n",
       "      <td>/gmi:MI_Metadata/gmd:distributionInfo/gmd:MD_D...</td>\n",
       "      <td>/*/gmd:distributionInfo/gmd:MD_Distribution/gm...</td>\n",
       "    </tr>\n",
       "    <tr>\n",
       "      <th>8491</th>\n",
       "      <td>PODAAC</td>\n",
       "      <td>ISO</td>\n",
       "      <td>C1276118176.xml</td>\n",
       "      <td>URL</td>\n",
       "      <td>http://data.nodc.noaa.gov/cgi-bin/nph-dods/ghr...</td>\n",
       "      <td>/gmi:MI_Metadata/gmd:distributionInfo/gmd:MD_D...</td>\n",
       "      <td>/*/gmd:distributionInfo/gmd:MD_Distribution/gm...</td>\n",
       "    </tr>\n",
       "    <tr>\n",
       "      <th>8492</th>\n",
       "      <td>PODAAC</td>\n",
       "      <td>ISO</td>\n",
       "      <td>C1276118176.xml</td>\n",
       "      <td>Related URL</td>\n",
       "      <td>http://thredds.jpl.nasa.gov/las/ PORTAL_DA_TOO...</td>\n",
       "      <td>/gmi:MI_Metadata/gmd:distributionInfo/gmd:MD_D...</td>\n",
       "      <td>/*/gmd:distributionInfo/gmd:MD_Distribution/gm...</td>\n",
       "    </tr>\n",
       "    <tr>\n",
       "      <th>8493</th>\n",
       "      <td>PODAAC</td>\n",
       "      <td>ISO</td>\n",
       "      <td>C1276118176.xml</td>\n",
       "      <td>Related URL</td>\n",
       "      <td>http://ghrsst.jpl.nasa.gov Get Data Portal to ...</td>\n",
       "      <td>/gmi:MI_Metadata/gmd:distributionInfo/gmd:MD_D...</td>\n",
       "      <td>/*/gmd:distributionInfo/gmd:MD_Distribution/gm...</td>\n",
       "    </tr>\n",
       "    <tr>\n",
       "      <th>8494</th>\n",
       "      <td>PODAAC</td>\n",
       "      <td>ISO</td>\n",
       "      <td>C1276118176.xml</td>\n",
       "      <td>Related URL</td>\n",
       "      <td>ftp://podaac.jpl.nasa.gov/OceanTemperature/ghr...</td>\n",
       "      <td>/gmi:MI_Metadata/gmd:distributionInfo/gmd:MD_D...</td>\n",
       "      <td>/*/gmd:distributionInfo/gmd:MD_Distribution/gm...</td>\n",
       "    </tr>\n",
       "    <tr>\n",
       "      <th>8495</th>\n",
       "      <td>PODAAC</td>\n",
       "      <td>ISO</td>\n",
       "      <td>C1276118176.xml</td>\n",
       "      <td>Related URL</td>\n",
       "      <td>http://podaac.jpl.nasa.gov/ws/search/granule/?...</td>\n",
       "      <td>/gmi:MI_Metadata/gmd:distributionInfo/gmd:MD_D...</td>\n",
       "      <td>/*/gmd:distributionInfo/gmd:MD_Distribution/gm...</td>\n",
       "    </tr>\n",
       "    <tr>\n",
       "      <th>8496</th>\n",
       "      <td>PODAAC</td>\n",
       "      <td>ISO</td>\n",
       "      <td>C1276118176.xml</td>\n",
       "      <td>Related URL</td>\n",
       "      <td>http://www.ghrsst.org Project Home Page GHRSST...</td>\n",
       "      <td>/gmi:MI_Metadata/gmd:distributionInfo/gmd:MD_D...</td>\n",
       "      <td>/*/gmd:distributionInfo/gmd:MD_Distribution/gm...</td>\n",
       "    </tr>\n",
       "    <tr>\n",
       "      <th>8497</th>\n",
       "      <td>PODAAC</td>\n",
       "      <td>ISO</td>\n",
       "      <td>C1276118176.xml</td>\n",
       "      <td>Distribution Contact</td>\n",
       "      <td>Emma null Fielder United Kingdom Met Office Te...</td>\n",
       "      <td>/gmi:MI_Metadata/gmd:distributionInfo/gmd:MD_D...</td>\n",
       "      <td>/*/gmd:distributionInfo/gmd:MD_Distribution/gm...</td>\n",
       "    </tr>\n",
       "    <tr>\n",
       "      <th>8498</th>\n",
       "      <td>PODAAC</td>\n",
       "      <td>ISO</td>\n",
       "      <td>C1276118176.xml</td>\n",
       "      <td>Distribution Contact</td>\n",
       "      <td>Edward none Armstrong Physical Oceanography Di...</td>\n",
       "      <td>/gmi:MI_Metadata/gmd:distributionInfo/gmd:MD_D...</td>\n",
       "      <td>/*/gmd:distributionInfo/gmd:MD_Distribution/gm...</td>\n",
       "    </tr>\n",
       "    <tr>\n",
       "      <th>8499</th>\n",
       "      <td>PODAAC</td>\n",
       "      <td>ISO</td>\n",
       "      <td>C1276118176.xml</td>\n",
       "      <td>Data Quality Scope</td>\n",
       "      <td>series</td>\n",
       "      <td>/gmi:MI_Metadata/gmd:dataQualityInfo/gmd:DQ_Da...</td>\n",
       "      <td>/*/gmd:dataQualityInfo/gmd:DQ_DataQuality/gmd:...</td>\n",
       "    </tr>\n",
       "    <tr>\n",
       "      <th>8500</th>\n",
       "      <td>PODAAC</td>\n",
       "      <td>ISO</td>\n",
       "      <td>C1276118176.xml</td>\n",
       "      <td>Resource Lineage</td>\n",
       "      <td>UK Met Office processor</td>\n",
       "      <td>/gmi:MI_Metadata/gmd:dataQualityInfo/gmd:DQ_Da...</td>\n",
       "      <td>/*/gmd:dataQualityInfo/gmd:DQ_DataQuality/gmd:...</td>\n",
       "    </tr>\n",
       "    <tr>\n",
       "      <th>8501</th>\n",
       "      <td>PODAAC</td>\n",
       "      <td>ISO</td>\n",
       "      <td>C1276118176.xml</td>\n",
       "      <td>Unknown</td>\n",
       "      <td>irregular</td>\n",
       "      <td>/gmi:MI_Metadata/gmd:metadataMaintenance/gmd:M...</td>\n",
       "      <td>Undefined</td>\n",
       "    </tr>\n",
       "    <tr>\n",
       "      <th>8502</th>\n",
       "      <td>PODAAC</td>\n",
       "      <td>ISO</td>\n",
       "      <td>C1276118176.xml</td>\n",
       "      <td>Unknown</td>\n",
       "      <td>http://www.ngdc.noaa.gov/metadata/published/xs...</td>\n",
       "      <td>/gmi:MI_Metadata/gmd:metadataMaintenance/gmd:M...</td>\n",
       "      <td>Undefined</td>\n",
       "    </tr>\n",
       "    <tr>\n",
       "      <th>8503</th>\n",
       "      <td>PODAAC</td>\n",
       "      <td>ISO</td>\n",
       "      <td>C1276118176.xml</td>\n",
       "      <td>Unknown</td>\n",
       "      <td>irregular</td>\n",
       "      <td>/gmi:MI_Metadata/gmd:metadataMaintenance/gmd:M...</td>\n",
       "      <td>Undefined</td>\n",
       "    </tr>\n",
       "    <tr>\n",
       "      <th>8504</th>\n",
       "      <td>PODAAC</td>\n",
       "      <td>ISO</td>\n",
       "      <td>C1276118176.xml</td>\n",
       "      <td>Instrument</td>\n",
       "      <td>GOES-13 Imager &gt; Geostationary Operational Env...</td>\n",
       "      <td>/gmi:MI_Metadata/gmi:acquisitionInformation/gm...</td>\n",
       "      <td>/gmi:MI_Metadata/gmi:acquisitionInformation/gm...</td>\n",
       "    </tr>\n",
       "    <tr>\n",
       "      <th>8505</th>\n",
       "      <td>PODAAC</td>\n",
       "      <td>ISO</td>\n",
       "      <td>C1276118176.xml</td>\n",
       "      <td>Instrument</td>\n",
       "      <td>SEVIRI &gt; Spinning Enhanced Visible and Infrare...</td>\n",
       "      <td>/gmi:MI_Metadata/gmi:acquisitionInformation/gm...</td>\n",
       "      <td>/gmi:MI_Metadata/gmi:acquisitionInformation/gm...</td>\n",
       "    </tr>\n",
       "    <tr>\n",
       "      <th>8506</th>\n",
       "      <td>PODAAC</td>\n",
       "      <td>ISO</td>\n",
       "      <td>C1276118176.xml</td>\n",
       "      <td>Instrument</td>\n",
       "      <td>TMI &gt; TRMM Microwave Imager TMI TRMM Microwave...</td>\n",
       "      <td>/gmi:MI_Metadata/gmi:acquisitionInformation/gm...</td>\n",
       "      <td>/gmi:MI_Metadata/gmi:acquisitionInformation/gm...</td>\n",
       "    </tr>\n",
       "    <tr>\n",
       "      <th>8507</th>\n",
       "      <td>PODAAC</td>\n",
       "      <td>ISO</td>\n",
       "      <td>C1276118176.xml</td>\n",
       "      <td>Instrument</td>\n",
       "      <td>InSitu &gt; Ships and Moored and Drifting Buoys I...</td>\n",
       "      <td>/gmi:MI_Metadata/gmi:acquisitionInformation/gm...</td>\n",
       "      <td>/gmi:MI_Metadata/gmi:acquisitionInformation/gm...</td>\n",
       "    </tr>\n",
       "    <tr>\n",
       "      <th>8508</th>\n",
       "      <td>PODAAC</td>\n",
       "      <td>ISO</td>\n",
       "      <td>C1276118176.xml</td>\n",
       "      <td>Instrument</td>\n",
       "      <td>AVHRR-3 &gt; Advanced Very High Resolution Radiom...</td>\n",
       "      <td>/gmi:MI_Metadata/gmi:acquisitionInformation/gm...</td>\n",
       "      <td>/gmi:MI_Metadata/gmi:acquisitionInformation/gm...</td>\n",
       "    </tr>\n",
       "    <tr>\n",
       "      <th>8509</th>\n",
       "      <td>PODAAC</td>\n",
       "      <td>ISO</td>\n",
       "      <td>C1276118176.xml</td>\n",
       "      <td>Instrument</td>\n",
       "      <td>AVHRR-3 &gt; Advanced Very High Resolution Radiom...</td>\n",
       "      <td>/gmi:MI_Metadata/gmi:acquisitionInformation/gm...</td>\n",
       "      <td>/gmi:MI_Metadata/gmi:acquisitionInformation/gm...</td>\n",
       "    </tr>\n",
       "    <tr>\n",
       "      <th>8510</th>\n",
       "      <td>PODAAC</td>\n",
       "      <td>ISO</td>\n",
       "      <td>C1276118176.xml</td>\n",
       "      <td>Platform</td>\n",
       "      <td>GOES-13 Geostationary Operational Environmenta...</td>\n",
       "      <td>/gmi:MI_Metadata/gmi:acquisitionInformation/gm...</td>\n",
       "      <td>/*/gmi:acquisitionInformation/gmi:MI_Acquisiti...</td>\n",
       "    </tr>\n",
       "    <tr>\n",
       "      <th>8511</th>\n",
       "      <td>PODAAC</td>\n",
       "      <td>ISO</td>\n",
       "      <td>C1276118176.xml</td>\n",
       "      <td>Platform</td>\n",
       "      <td>MSG Meteosat Second Generation SPACECRAFT</td>\n",
       "      <td>/gmi:MI_Metadata/gmi:acquisitionInformation/gm...</td>\n",
       "      <td>/*/gmi:acquisitionInformation/gmi:MI_Acquisiti...</td>\n",
       "    </tr>\n",
       "    <tr>\n",
       "      <th>8512</th>\n",
       "      <td>PODAAC</td>\n",
       "      <td>ISO</td>\n",
       "      <td>C1276118176.xml</td>\n",
       "      <td>Platform</td>\n",
       "      <td>TRMM Tropical Rainfall Measuring Mission SPACE...</td>\n",
       "      <td>/gmi:MI_Metadata/gmi:acquisitionInformation/gm...</td>\n",
       "      <td>/*/gmi:acquisitionInformation/gmi:MI_Acquisiti...</td>\n",
       "    </tr>\n",
       "    <tr>\n",
       "      <th>8513</th>\n",
       "      <td>PODAAC</td>\n",
       "      <td>ISO</td>\n",
       "      <td>C1276118176.xml</td>\n",
       "      <td>Platform</td>\n",
       "      <td>InSitu InSitu instrument</td>\n",
       "      <td>/gmi:MI_Metadata/gmi:acquisitionInformation/gm...</td>\n",
       "      <td>/*/gmi:acquisitionInformation/gmi:MI_Acquisiti...</td>\n",
       "    </tr>\n",
       "    <tr>\n",
       "      <th>8514</th>\n",
       "      <td>PODAAC</td>\n",
       "      <td>ISO</td>\n",
       "      <td>C1276118176.xml</td>\n",
       "      <td>Platform</td>\n",
       "      <td>NOAA-19 National Oceanic &amp; Atmospheric Adminis...</td>\n",
       "      <td>/gmi:MI_Metadata/gmi:acquisitionInformation/gm...</td>\n",
       "      <td>/*/gmi:acquisitionInformation/gmi:MI_Acquisiti...</td>\n",
       "    </tr>\n",
       "    <tr>\n",
       "      <th>8515</th>\n",
       "      <td>PODAAC</td>\n",
       "      <td>ISO</td>\n",
       "      <td>C1276118176.xml</td>\n",
       "      <td>Platform</td>\n",
       "      <td>MetOp-A Meteorological Operational Satellite -...</td>\n",
       "      <td>/gmi:MI_Metadata/gmi:acquisitionInformation/gm...</td>\n",
       "      <td>/*/gmi:acquisitionInformation/gmi:MI_Acquisiti...</td>\n",
       "    </tr>\n",
       "  </tbody>\n",
       "</table>\n",
       "<p>8516 rows × 7 columns</p>\n",
       "</div>"
      ],
      "text/plain": [
       "     Collection Dialect           Record                      Concept  \\\n",
       "0        PODAAC     ISO  C1284824094.xml          Metadata Identifier   \n",
       "1        PODAAC     ISO  C1284824094.xml            Metadata Language   \n",
       "2        PODAAC     ISO  C1284824094.xml                      Unknown   \n",
       "3        PODAAC     ISO  C1284824094.xml                      Unknown   \n",
       "4        PODAAC     ISO  C1284824094.xml                      Unknown   \n",
       "5        PODAAC     ISO  C1284824094.xml                Resource Type   \n",
       "6        PODAAC     ISO  C1284824094.xml             Metadata Contact   \n",
       "7        PODAAC     ISO  C1284824094.xml       Metadata Modified Date   \n",
       "8        PODAAC     ISO  C1284824094.xml               Metadata Dates   \n",
       "9        PODAAC     ISO  C1284824094.xml   Metadata Standard Citation   \n",
       "10       PODAAC     ISO  C1284824094.xml    Metadata Standard Version   \n",
       "11       PODAAC     ISO  C1284824094.xml       Spatial Representation   \n",
       "12       PODAAC     ISO  C1284824094.xml      Publication Information   \n",
       "13       PODAAC     ISO  C1284824094.xml                     Abstract   \n",
       "14       PODAAC     ISO  C1284824094.xml                      Purpose   \n",
       "15       PODAAC     ISO  C1284824094.xml             Resource Contact   \n",
       "16       PODAAC     ISO  C1284824094.xml             Browse File Name   \n",
       "17       PODAAC     ISO  C1284824094.xml                  Related URL   \n",
       "18       PODAAC     ISO  C1284824094.xml           Browse Description   \n",
       "19       PODAAC     ISO  C1284824094.xml                Browse Format   \n",
       "20       PODAAC     ISO  C1284824094.xml              Resource Format   \n",
       "21       PODAAC     ISO  C1284824094.xml                      Unknown   \n",
       "22       PODAAC     ISO  C1284824094.xml                Theme Keyword   \n",
       "23       PODAAC     ISO  C1284824094.xml                      Keyword   \n",
       "24       PODAAC     ISO  C1284824094.xml                 Keyword Type   \n",
       "25       PODAAC     ISO  C1284824094.xml           Keyword Vocabulary   \n",
       "26       PODAAC     ISO  C1284824094.xml  Keyword Vocabulary Citation   \n",
       "27       PODAAC     ISO  C1284824094.xml                Place Keyword   \n",
       "28       PODAAC     ISO  C1284824094.xml                      Keyword   \n",
       "29       PODAAC     ISO  C1284824094.xml                 Keyword Type   \n",
       "...         ...     ...              ...                          ...   \n",
       "8486     PODAAC     ISO  C1276118176.xml          Distribution Format   \n",
       "8487     PODAAC     ISO  C1276118176.xml                      Unknown   \n",
       "8488     PODAAC     ISO  C1276118176.xml                          URL   \n",
       "8489     PODAAC     ISO  C1276118176.xml                          URL   \n",
       "8490     PODAAC     ISO  C1276118176.xml                          URL   \n",
       "8491     PODAAC     ISO  C1276118176.xml                          URL   \n",
       "8492     PODAAC     ISO  C1276118176.xml                  Related URL   \n",
       "8493     PODAAC     ISO  C1276118176.xml                  Related URL   \n",
       "8494     PODAAC     ISO  C1276118176.xml                  Related URL   \n",
       "8495     PODAAC     ISO  C1276118176.xml                  Related URL   \n",
       "8496     PODAAC     ISO  C1276118176.xml                  Related URL   \n",
       "8497     PODAAC     ISO  C1276118176.xml         Distribution Contact   \n",
       "8498     PODAAC     ISO  C1276118176.xml         Distribution Contact   \n",
       "8499     PODAAC     ISO  C1276118176.xml           Data Quality Scope   \n",
       "8500     PODAAC     ISO  C1276118176.xml             Resource Lineage   \n",
       "8501     PODAAC     ISO  C1276118176.xml                      Unknown   \n",
       "8502     PODAAC     ISO  C1276118176.xml                      Unknown   \n",
       "8503     PODAAC     ISO  C1276118176.xml                      Unknown   \n",
       "8504     PODAAC     ISO  C1276118176.xml                   Instrument   \n",
       "8505     PODAAC     ISO  C1276118176.xml                   Instrument   \n",
       "8506     PODAAC     ISO  C1276118176.xml                   Instrument   \n",
       "8507     PODAAC     ISO  C1276118176.xml                   Instrument   \n",
       "8508     PODAAC     ISO  C1276118176.xml                   Instrument   \n",
       "8509     PODAAC     ISO  C1276118176.xml                   Instrument   \n",
       "8510     PODAAC     ISO  C1276118176.xml                     Platform   \n",
       "8511     PODAAC     ISO  C1276118176.xml                     Platform   \n",
       "8512     PODAAC     ISO  C1276118176.xml                     Platform   \n",
       "8513     PODAAC     ISO  C1276118176.xml                     Platform   \n",
       "8514     PODAAC     ISO  C1276118176.xml                     Platform   \n",
       "8515     PODAAC     ISO  C1276118176.xml                     Platform   \n",
       "\n",
       "                                                Content  \\\n",
       "0                      gov.nasa.echo:PODAAC-GH18L-2PN01   \n",
       "1                                                   eng   \n",
       "2                                                  utf8   \n",
       "3     http://www.ngdc.noaa.gov/metadata/published/xs...   \n",
       "4                                                  utf8   \n",
       "5                                                series   \n",
       "6                                PO.DAAC pointOfContact   \n",
       "7                              2011-04-27T11:56:13.887Z   \n",
       "8                              2011-04-27T11:56:13.887Z   \n",
       "9     ISO 19115-2 Geographic Information - Metadata ...   \n",
       "10                                  ISO 19115-2:2009(E)   \n",
       "11                                            CARTESIAN   \n",
       "12    NAVO-L2P-AVHRR18_L > Bulk Sea Surface Temperat...   \n",
       "13    Multi-Channel SST retreivals generated in real...   \n",
       "14                                                  NaN   \n",
       "15                               PO.DAAC pointOfContact   \n",
       "16                                                  NaN   \n",
       "17                                                  NaN   \n",
       "18                          Thumbnail image for Website   \n",
       "19                                                  NaN   \n",
       "20                                               NETCDF   \n",
       "21                                              unknown   \n",
       "22    EARTH SCIENCE>OCEANS>OCEAN TEMPERATURE>SEA SUR...   \n",
       "23    EARTH SCIENCE>OCEANS>OCEAN TEMPERATURE>SEA SUR...   \n",
       "24                                                theme   \n",
       "25    NASA/GCMD Science Keywords NASA GCMD User Supp...   \n",
       "26    NASA/GCMD Science Keywords NASA GCMD User Supp...   \n",
       "27                                               Global   \n",
       "28                                               Global   \n",
       "29                                                place   \n",
       "...                                                 ...   \n",
       "8486                                             NETCDF   \n",
       "8487                                            unknown   \n",
       "8488  ftp://podaac-ftp.jpl.nasa.gov/allData/ghrsst/d...   \n",
       "8489  http://podaac-opendap.jpl.nasa.gov/opendap/all...   \n",
       "8490  ftp://ftp.nodc.noaa.gov/pub/data.nodc/ghrsst/G...   \n",
       "8491  http://data.nodc.noaa.gov/cgi-bin/nph-dods/ghr...   \n",
       "8492  http://thredds.jpl.nasa.gov/las/ PORTAL_DA_TOO...   \n",
       "8493  http://ghrsst.jpl.nasa.gov Get Data Portal to ...   \n",
       "8494  ftp://podaac.jpl.nasa.gov/OceanTemperature/ghr...   \n",
       "8495  http://podaac.jpl.nasa.gov/ws/search/granule/?...   \n",
       "8496  http://www.ghrsst.org Project Home Page GHRSST...   \n",
       "8497  Emma null Fielder United Kingdom Met Office Te...   \n",
       "8498  Edward none Armstrong Physical Oceanography Di...   \n",
       "8499                                             series   \n",
       "8500                            UK Met Office processor   \n",
       "8501                                          irregular   \n",
       "8502  http://www.ngdc.noaa.gov/metadata/published/xs...   \n",
       "8503                                          irregular   \n",
       "8504  GOES-13 Imager > Geostationary Operational Env...   \n",
       "8505  SEVIRI > Spinning Enhanced Visible and Infrare...   \n",
       "8506  TMI > TRMM Microwave Imager TMI TRMM Microwave...   \n",
       "8507  InSitu > Ships and Moored and Drifting Buoys I...   \n",
       "8508  AVHRR-3 > Advanced Very High Resolution Radiom...   \n",
       "8509  AVHRR-3 > Advanced Very High Resolution Radiom...   \n",
       "8510  GOES-13 Geostationary Operational Environmenta...   \n",
       "8511          MSG Meteosat Second Generation SPACECRAFT   \n",
       "8512  TRMM Tropical Rainfall Measuring Mission SPACE...   \n",
       "8513                           InSitu InSitu instrument   \n",
       "8514  NOAA-19 National Oceanic & Atmospheric Adminis...   \n",
       "8515  MetOp-A Meteorological Operational Satellite -...   \n",
       "\n",
       "                                                  XPath  \\\n",
       "0                   /gmi:MI_Metadata/gmd:fileIdentifier   \n",
       "1                         /gmi:MI_Metadata/gmd:language   \n",
       "2     /gmi:MI_Metadata/gmd:characterSet/gmd:MD_Chara...   \n",
       "3     /gmi:MI_Metadata/gmd:characterSet/gmd:MD_Chara...   \n",
       "4     /gmi:MI_Metadata/gmd:characterSet/gmd:MD_Chara...   \n",
       "5     /gmi:MI_Metadata/gmd:hierarchyLevel/gmd:MD_Sco...   \n",
       "6                          /gmi:MI_Metadata/gmd:contact   \n",
       "7           /gmi:MI_Metadata/gmd:dateStamp/gco:DateTime   \n",
       "8           /gmi:MI_Metadata/gmd:dateStamp/gco:DateTime   \n",
       "9             /gmi:MI_Metadata/gmd:metadataStandardName   \n",
       "10         /gmi:MI_Metadata/gmd:metadataStandardVersion   \n",
       "11    /gmi:MI_Metadata/gmd:referenceSystemInfo/gmd:M...   \n",
       "12    /gmi:MI_Metadata/gmd:identificationInfo/gmd:MD...   \n",
       "13    /gmi:MI_Metadata/gmd:identificationInfo/gmd:MD...   \n",
       "14    /gmi:MI_Metadata/gmd:identificationInfo/gmd:MD...   \n",
       "15    /gmi:MI_Metadata/gmd:identificationInfo/gmd:MD...   \n",
       "16    /gmi:MI_Metadata/gmd:identificationInfo/gmd:MD...   \n",
       "17    /gmi:MI_Metadata/gmd:identificationInfo/gmd:MD...   \n",
       "18    /gmi:MI_Metadata/gmd:identificationInfo/gmd:MD...   \n",
       "19    /gmi:MI_Metadata/gmd:identificationInfo/gmd:MD...   \n",
       "20    /gmi:MI_Metadata/gmd:identificationInfo/gmd:MD...   \n",
       "21    /gmi:MI_Metadata/gmd:identificationInfo/gmd:MD...   \n",
       "22    /gmi:MI_Metadata/gmd:identificationInfo/gmd:MD...   \n",
       "23    /gmi:MI_Metadata/gmd:identificationInfo/gmd:MD...   \n",
       "24    /gmi:MI_Metadata/gmd:identificationInfo/gmd:MD...   \n",
       "25    /gmi:MI_Metadata/gmd:identificationInfo/gmd:MD...   \n",
       "26    /gmi:MI_Metadata/gmd:identificationInfo/gmd:MD...   \n",
       "27    /gmi:MI_Metadata/gmd:identificationInfo/gmd:MD...   \n",
       "28    /gmi:MI_Metadata/gmd:identificationInfo/gmd:MD...   \n",
       "29    /gmi:MI_Metadata/gmd:identificationInfo/gmd:MD...   \n",
       "...                                                 ...   \n",
       "8486  /gmi:MI_Metadata/gmd:distributionInfo/gmd:MD_D...   \n",
       "8487  /gmi:MI_Metadata/gmd:distributionInfo/gmd:MD_D...   \n",
       "8488  /gmi:MI_Metadata/gmd:distributionInfo/gmd:MD_D...   \n",
       "8489  /gmi:MI_Metadata/gmd:distributionInfo/gmd:MD_D...   \n",
       "8490  /gmi:MI_Metadata/gmd:distributionInfo/gmd:MD_D...   \n",
       "8491  /gmi:MI_Metadata/gmd:distributionInfo/gmd:MD_D...   \n",
       "8492  /gmi:MI_Metadata/gmd:distributionInfo/gmd:MD_D...   \n",
       "8493  /gmi:MI_Metadata/gmd:distributionInfo/gmd:MD_D...   \n",
       "8494  /gmi:MI_Metadata/gmd:distributionInfo/gmd:MD_D...   \n",
       "8495  /gmi:MI_Metadata/gmd:distributionInfo/gmd:MD_D...   \n",
       "8496  /gmi:MI_Metadata/gmd:distributionInfo/gmd:MD_D...   \n",
       "8497  /gmi:MI_Metadata/gmd:distributionInfo/gmd:MD_D...   \n",
       "8498  /gmi:MI_Metadata/gmd:distributionInfo/gmd:MD_D...   \n",
       "8499  /gmi:MI_Metadata/gmd:dataQualityInfo/gmd:DQ_Da...   \n",
       "8500  /gmi:MI_Metadata/gmd:dataQualityInfo/gmd:DQ_Da...   \n",
       "8501  /gmi:MI_Metadata/gmd:metadataMaintenance/gmd:M...   \n",
       "8502  /gmi:MI_Metadata/gmd:metadataMaintenance/gmd:M...   \n",
       "8503  /gmi:MI_Metadata/gmd:metadataMaintenance/gmd:M...   \n",
       "8504  /gmi:MI_Metadata/gmi:acquisitionInformation/gm...   \n",
       "8505  /gmi:MI_Metadata/gmi:acquisitionInformation/gm...   \n",
       "8506  /gmi:MI_Metadata/gmi:acquisitionInformation/gm...   \n",
       "8507  /gmi:MI_Metadata/gmi:acquisitionInformation/gm...   \n",
       "8508  /gmi:MI_Metadata/gmi:acquisitionInformation/gm...   \n",
       "8509  /gmi:MI_Metadata/gmi:acquisitionInformation/gm...   \n",
       "8510  /gmi:MI_Metadata/gmi:acquisitionInformation/gm...   \n",
       "8511  /gmi:MI_Metadata/gmi:acquisitionInformation/gm...   \n",
       "8512  /gmi:MI_Metadata/gmi:acquisitionInformation/gm...   \n",
       "8513  /gmi:MI_Metadata/gmi:acquisitionInformation/gm...   \n",
       "8514  /gmi:MI_Metadata/gmi:acquisitionInformation/gm...   \n",
       "8515  /gmi:MI_Metadata/gmi:acquisitionInformation/gm...   \n",
       "\n",
       "                                      DialectDefinition  \n",
       "0                                 /*/gmd:fileIdentifier  \n",
       "1                                       /*/gmd:language  \n",
       "2                                             Undefined  \n",
       "3                                             Undefined  \n",
       "4                                             Undefined  \n",
       "5                /*/gmd:hierarchyLevel/gmd:MD_ScopeCode  \n",
       "6                                        /*/gmd:contact  \n",
       "7                         /*/gmd:dateStamp/gco:DateTime  \n",
       "8                         /*/gmd:dateStamp/gco:DateTime  \n",
       "9                           /*/gmd:metadataStandardName  \n",
       "10                       /*/gmd:metadataStandardVersion  \n",
       "11    /*/gmd:referenceSystemInfo/gmd:MD_ReferenceSys...  \n",
       "12    /*/gmd:identificationInfo/*/gmd:citation/gmd:C...  \n",
       "13             /*/gmd:identificationInfo/*/gmd:abstract  \n",
       "14              /*/gmd:identificationInfo/*/gmd:purpose  \n",
       "15       /*/gmd:identificationInfo/*/gmd:pointOfContact  \n",
       "16    /*/gmd:identificationInfo/*/gmd:graphicOvervie...  \n",
       "17    /*/gmd:identificationInfo/*/gmd:graphicOvervie...  \n",
       "18    /*/gmd:identificationInfo/*/gmd:graphicOvervie...  \n",
       "19    /*/gmd:identificationInfo/*/gmd:graphicOvervie...  \n",
       "20          //gmd:resourceFormat/gmd:MD_Format/gmd:name  \n",
       "21                                            Undefined  \n",
       "22    /*/gmd:identificationInfo/*/gmd:descriptiveKey...  \n",
       "23    /*/gmd:identificationInfo/*/gmd:descriptiveKey...  \n",
       "24    /*/gmd:identificationInfo/*/gmd:descriptiveKey...  \n",
       "25    /*/gmd:identificationInfo/*/gmd:descriptiveKey...  \n",
       "26    /*/gmd:identificationInfo/*/gmd:descriptiveKey...  \n",
       "27    /*/gmd:identificationInfo/*/gmd:descriptiveKey...  \n",
       "28    /*/gmd:identificationInfo/*/gmd:descriptiveKey...  \n",
       "29    /*/gmd:identificationInfo/*/gmd:descriptiveKey...  \n",
       "...                                                 ...  \n",
       "8486  /*/gmd:distributionInfo/gmd:MD_Distribution/gm...  \n",
       "8487                                          Undefined  \n",
       "8488  /*/gmd:distributionInfo/gmd:MD_Distribution/gm...  \n",
       "8489  /*/gmd:distributionInfo/gmd:MD_Distribution/gm...  \n",
       "8490  /*/gmd:distributionInfo/gmd:MD_Distribution/gm...  \n",
       "8491  /*/gmd:distributionInfo/gmd:MD_Distribution/gm...  \n",
       "8492  /*/gmd:distributionInfo/gmd:MD_Distribution/gm...  \n",
       "8493  /*/gmd:distributionInfo/gmd:MD_Distribution/gm...  \n",
       "8494  /*/gmd:distributionInfo/gmd:MD_Distribution/gm...  \n",
       "8495  /*/gmd:distributionInfo/gmd:MD_Distribution/gm...  \n",
       "8496  /*/gmd:distributionInfo/gmd:MD_Distribution/gm...  \n",
       "8497  /*/gmd:distributionInfo/gmd:MD_Distribution/gm...  \n",
       "8498  /*/gmd:distributionInfo/gmd:MD_Distribution/gm...  \n",
       "8499  /*/gmd:dataQualityInfo/gmd:DQ_DataQuality/gmd:...  \n",
       "8500  /*/gmd:dataQualityInfo/gmd:DQ_DataQuality/gmd:...  \n",
       "8501                                          Undefined  \n",
       "8502                                          Undefined  \n",
       "8503                                          Undefined  \n",
       "8504  /gmi:MI_Metadata/gmi:acquisitionInformation/gm...  \n",
       "8505  /gmi:MI_Metadata/gmi:acquisitionInformation/gm...  \n",
       "8506  /gmi:MI_Metadata/gmi:acquisitionInformation/gm...  \n",
       "8507  /gmi:MI_Metadata/gmi:acquisitionInformation/gm...  \n",
       "8508  /gmi:MI_Metadata/gmi:acquisitionInformation/gm...  \n",
       "8509  /gmi:MI_Metadata/gmi:acquisitionInformation/gm...  \n",
       "8510  /*/gmi:acquisitionInformation/gmi:MI_Acquisiti...  \n",
       "8511  /*/gmi:acquisitionInformation/gmi:MI_Acquisiti...  \n",
       "8512  /*/gmi:acquisitionInformation/gmi:MI_Acquisiti...  \n",
       "8513  /*/gmi:acquisitionInformation/gmi:MI_Acquisiti...  \n",
       "8514  /*/gmi:acquisitionInformation/gmi:MI_Acquisiti...  \n",
       "8515  /*/gmi:acquisitionInformation/gmi:MI_Acquisiti...  \n",
       "\n",
       "[8516 rows x 7 columns]"
      ]
     },
     "execution_count": 51,
     "metadata": {},
     "output_type": "execute_result"
    }
   ],
   "source": [
    "url = 'http://metadig.nceas.ucsb.edu/metadata/evaluator'\n",
    "files = {'zipxml': open('metadata.zip', 'rb')}\n",
    "r = requests.post(url, files=files)\n",
    "r.raise_for_status()\n",
    "CollectionConceptsDF = pd.read_csv(io.StringIO(r.text), quotechar='\"')\n",
    "CollectionConceptsDF"
   ]
  },
  {
   "cell_type": "markdown",
   "metadata": {},
   "source": [
    "Save the dataframe as a csv for further analysis"
   ]
  },
  {
   "cell_type": "code",
   "execution_count": 20,
   "metadata": {
    "collapsed": true
   },
   "outputs": [],
   "source": [
    "CollectionConceptsDF.to_csv('../data/data.csv', mode = 'w', index=False)"
   ]
  },
  {
   "cell_type": "markdown",
   "metadata": {},
   "source": [
    "Clear up temporary files and directories, switch to the data directory"
   ]
  },
  {
   "cell_type": "code",
   "execution_count": 21,
   "metadata": {},
   "outputs": [
    {
     "name": "stdout",
     "output_type": "stream",
     "text": [
      "/Users/scgordon/MILE2\n",
      "/Users/scgordon/MILE2/zip\n",
      "/Users/scgordon/MILE2/data\n"
     ]
    }
   ],
   "source": [
    "%cd ../\n",
    "shutil.rmtree('upload')\n",
    "%cd zip\n",
    "shutil.rmtree(Organization)\n",
    "%cd ../data"
   ]
  },
  {
   "cell_type": "markdown",
   "metadata": {},
   "source": [
    "Copy the csv to a directory, named for the organization that had the metadata in it's holdings. Give it a filename matching the the metadata collection and dialect"
   ]
  },
  {
   "cell_type": "code",
   "execution_count": 22,
   "metadata": {},
   "outputs": [
    {
     "data": {
      "text/plain": [
       "'DataONE/LTER_EML_data.csv'"
      ]
     },
     "execution_count": 22,
     "metadata": {},
     "output_type": "execute_result"
    }
   ],
   "source": [
    "shutil.copy(\"data.csv\", os.path.join(Organization,Collection+'_'+Dialect+'_'+'data.csv'))"
   ]
  },
  {
   "cell_type": "markdown",
   "metadata": {},
   "source": [
    "Now that we have our metadata data prepared and stored, we can look at recommendation analytics, concept content consistency, cross collection analytics, and help define unknown concepts."
   ]
  },
  {
   "cell_type": "markdown",
   "metadata": {
    "collapsed": true
   },
   "source": [
    "### Select the notebook that prepares the data for different types of analysis\n",
    "\n",
    "* [Create RAD Data](CreateRADdata.ipynb)\n",
    "* [Concept Content Consistency](ConceptVerticals.ipynb)\n",
    "* [Cross Collection Comparisons](QuickEvaluation-CrossCollectionComparisons.ipynb)\n",
    "* [Exploring Unknown Concepts](ExploringUnknownConcepts.ipynb)"
   ]
  },
  {
   "cell_type": "code",
   "execution_count": null,
   "metadata": {
    "collapsed": true
   },
   "outputs": [],
   "source": []
  }
 ],
 "metadata": {
  "kernelspec": {
   "display_name": "Python 3",
   "language": "python",
   "name": "python3"
  },
  "language_info": {
   "codemirror_mode": {
    "name": "ipython",
    "version": 3
   },
   "file_extension": ".py",
   "mimetype": "text/x-python",
   "name": "python",
   "nbconvert_exporter": "python",
   "pygments_lexer": "ipython3",
   "version": "3.6.1"
  }
 },
 "nbformat": 4,
 "nbformat_minor": 2
}
