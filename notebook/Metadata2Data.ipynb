{
 "cells": [
  {
   "cell_type": "markdown",
   "metadata": {},
   "source": [
    "This notebook allows the user to select XML collections and zip them up to send to a service that runs a transform on them and returns a simple CSV made up of six data points. The data included is the Collection name, Dialect name, Record name, Concept name, Content, Xpath location, and the Dialect Definition for the concept. \n",
    "\n",
    "The notebook utilizes Bash and Python with the default packages contained in the Mac build of Anaconda with Python 3.6. Saxon, Java, and XSLT form the evaluation service in a virtual machine on an NCEAS server. \n",
    "\n",
    "This CSV contains a row for each concept that is found, so some locations may fulfill multiple concepts. A good example of this are the cncepts Keyword and Place Keyword. Every Place Keyword is also a Keyword, so the row would repeat with a different Concept name. It also contains a row for each undefined node that contains text, marking these rows with an Unknown in the Concept column. \n",
    "\n",
    "This data can be used in a variety of analyses including RAD and QuickE as well as Concept Verticals. It can also be used to teach the system dialect definitions for concepts that are currently unknown by exposing all of the content at undefined nodes. "
   ]
  },
  {
   "cell_type": "code",
   "execution_count": 85,
   "metadata": {},
   "outputs": [
    {
     "data": {
      "text/html": [
       "<img src=https://image.slidesharecdn.com/scgordonesipwinter2017-170125170939/95/recommendations-analysis-dashboard-1-1024.jpg height=\"420\" width=\"420\">"
      ],
      "text/plain": [
       "<IPython.core.display.HTML object>"
      ]
     },
     "metadata": {},
     "output_type": "display_data"
    }
   ],
   "source": [
    "%%HTML\n",
    "<img src=https://image.slidesharecdn.com/scgordonesipwinter2017-170125170939/95/recommendations-analysis-dashboard-1-1024.jpg height=\"420\" width=\"420\">"
   ]
  },
  {
   "cell_type": "markdown",
   "metadata": {},
   "source": [
    "## First we need to call all of the libraries we need to perform in our metadata wrangle"
   ]
  },
  {
   "cell_type": "code",
   "execution_count": 111,
   "metadata": {
    "collapsed": true,
    "scrolled": true
   },
   "outputs": [],
   "source": [
    "import pandas as pd\n",
    "import os\n",
    "from os import walk\n",
    "import shutil\n",
    "from ipywidgets import *\n",
    "import ipywidgets as widgets\n",
    "import requests\n",
    "from contextlib import closing\n",
    "import csv\n",
    "import io"
   ]
  },
  {
   "cell_type": "code",
   "execution_count": 142,
   "metadata": {},
   "outputs": [
    {
     "name": "stdout",
     "output_type": "stream",
     "text": [
      "shell-init: error retrieving current directory: getcwd: cannot access parent directories: No such file or directory\n",
      "The folder you are executing pip from can no longer be found.\n"
     ]
    }
   ],
   "source": [
    "! pip install svn"
   ]
  },
  {
   "cell_type": "markdown",
   "metadata": {},
   "source": [
    "Create a list of directories in the collection directory of MILE2 "
   ]
  },
  {
   "cell_type": "code",
   "execution_count": 112,
   "metadata": {
    "collapsed": true
   },
   "outputs": [],
   "source": [
    "Organizations = []\n",
    "for (dirpath, dirnames, filenames) in walk('../collection/'):\n",
    "    Organizations.extend(dirnames)\n",
    "    break  "
   ]
  },
  {
   "cell_type": "markdown",
   "metadata": {},
   "source": [
    "Create a function to select the organization the metadata comes from"
   ]
  },
  {
   "cell_type": "code",
   "execution_count": 113,
   "metadata": {
    "collapsed": true
   },
   "outputs": [],
   "source": [
    "def OrganizationChoices(organization):\n",
    "    global OrganizationChoice\n",
    "    global Organization\n",
    "    Organization=organization\n",
    "    print(\"Organization of the collection is\", Organization)\n"
   ]
  },
  {
   "cell_type": "markdown",
   "metadata": {},
   "source": [
    "Create a dropdown using the Organizations list and the organization selector function. This sets the Organization variable."
   ]
  },
  {
   "cell_type": "code",
   "execution_count": 114,
   "metadata": {},
   "outputs": [
    {
     "name": "stdout",
     "output_type": "stream",
     "text": [
      "Organization of the collection is BCO-DMO\n"
     ]
    }
   ],
   "source": [
    "interactive(OrganizationChoices, organization=Organizations)"
   ]
  },
  {
   "cell_type": "markdown",
   "metadata": {},
   "source": [
    "Create a list of collections in the organization directory selected in the dropdown above"
   ]
  },
  {
   "cell_type": "code",
   "execution_count": 115,
   "metadata": {},
   "outputs": [
    {
     "data": {
      "text/plain": [
       "['GeoTraces']"
      ]
     },
     "execution_count": 115,
     "metadata": {},
     "output_type": "execute_result"
    }
   ],
   "source": [
    "Collections = []\n",
    "for (dirpath, dirnames, filenames) in walk(os.path.join('../collection',Organization)):\n",
    "    Collections.extend(dirnames)\n",
    "    break \n",
    "Collections"
   ]
  },
  {
   "cell_type": "markdown",
   "metadata": {
    "collapsed": true
   },
   "source": [
    "Create a function to select the collection the metadata comes from"
   ]
  },
  {
   "cell_type": "code",
   "execution_count": 116,
   "metadata": {
    "collapsed": true
   },
   "outputs": [],
   "source": [
    "def CollectionChoices(collection):\n",
    "    global CollectionChoice\n",
    "    global Collection\n",
    "    Collection=collection"
   ]
  },
  {
   "cell_type": "markdown",
   "metadata": {},
   "source": [
    "Create a dropdown using the Collections list and the organization selector function. This sets the Collection variable."
   ]
  },
  {
   "cell_type": "code",
   "execution_count": 117,
   "metadata": {
    "collapsed": true
   },
   "outputs": [],
   "source": [
    "interactive(CollectionChoices, collection=Collections)"
   ]
  },
  {
   "cell_type": "markdown",
   "metadata": {},
   "source": [
    "Many organizations support multiple metadata dialects, and share their collections in more than one dialect. This list is created the same way the others are. It adds the different dialects the collection is shared in to a list."
   ]
  },
  {
   "cell_type": "code",
   "execution_count": 118,
   "metadata": {
    "collapsed": true
   },
   "outputs": [],
   "source": [
    "Dialects = []\n",
    "for (dirpath, dirnames, filenames) in walk(os.path.join('../collection',Organization,Collection)):\n",
    "    Dialects.extend(dirnames)\n",
    "    break \n",
    "dialectList=Dialects\n"
   ]
  },
  {
   "cell_type": "markdown",
   "metadata": {},
   "source": [
    "Create a function to select the dialect you want to send to the evaluator service."
   ]
  },
  {
   "cell_type": "code",
   "execution_count": 119,
   "metadata": {
    "collapsed": true
   },
   "outputs": [],
   "source": [
    "def dialectChoice(dialect):\n",
    "    global Dialect\n",
    "    Dialect=dialect\n",
    "    print(\"Dialect of the collection is\", Dialect)\n"
   ]
  },
  {
   "cell_type": "markdown",
   "metadata": {},
   "source": [
    "Create a dropdown using the Dialects list and the dialect selector function. This sets the Dialect variable."
   ]
  },
  {
   "cell_type": "code",
   "execution_count": 120,
   "metadata": {},
   "outputs": [
    {
     "name": "stdout",
     "output_type": "stream",
     "text": [
      "Dialect of the collection is ISO\n"
     ]
    }
   ],
   "source": [
    "interactive(dialectChoice,dialect=dialectList)"
   ]
  },
  {
   "cell_type": "markdown",
   "metadata": {},
   "source": [
    "change to the zip directory "
   ]
  },
  {
   "cell_type": "code",
   "execution_count": 121,
   "metadata": {},
   "outputs": [
    {
     "name": "stdout",
     "output_type": "stream",
     "text": [
      "/Users/scgordon/MILE2/zip\n"
     ]
    }
   ],
   "source": [
    "cd ../zip"
   ]
  },
  {
   "cell_type": "markdown",
   "metadata": {},
   "source": [
    "Combine the Organization, Collection, and Dialect variables with the string 'xml' as a relative path and save the string to a variable"
   ]
  },
  {
   "cell_type": "code",
   "execution_count": 122,
   "metadata": {},
   "outputs": [
    {
     "data": {
      "text/plain": [
       "'BCO-DMO/GeoTraces/ISO/xml'"
      ]
     },
     "execution_count": 122,
     "metadata": {},
     "output_type": "execute_result"
    }
   ],
   "source": [
    "MetadataDestination=os.path.join(Organization,Collection,Dialect,'xml')\n",
    "MetadataDestination"
   ]
  },
  {
   "cell_type": "markdown",
   "metadata": {},
   "source": [
    "Use the path to create a directory structure in the zip directory"
   ]
  },
  {
   "cell_type": "code",
   "execution_count": 123,
   "metadata": {
    "collapsed": true
   },
   "outputs": [],
   "source": [
    "os.makedirs(MetadataDestination, exist_ok=True)"
   ]
  },
  {
   "cell_type": "markdown",
   "metadata": {},
   "source": [
    "Create a path to the metadata you selected earlier and save the string to a variable, 'MetadataLocation'."
   ]
  },
  {
   "cell_type": "code",
   "execution_count": 124,
   "metadata": {},
   "outputs": [
    {
     "data": {
      "text/plain": [
       "'../collection/BCO-DMO/GeoTraces/ISO/xml'"
      ]
     },
     "execution_count": 124,
     "metadata": {},
     "output_type": "execute_result"
    }
   ],
   "source": [
    "MetadataLocation=os.path.join('../collection/',Organization,Collection,Dialect,'xml')\n",
    "\n",
    "MetadataLocation"
   ]
  },
  {
   "cell_type": "markdown",
   "metadata": {},
   "source": [
    "Copy the metadata to the new directory structure."
   ]
  },
  {
   "cell_type": "code",
   "execution_count": 125,
   "metadata": {
    "collapsed": true
   },
   "outputs": [],
   "source": [
    "src_files = os.listdir(MetadataLocation)\n",
    "for file_name in src_files:\n",
    "    full_file_name = os.path.join(MetadataLocation, file_name)\n",
    "    if (os.path.isfile(full_file_name)):\n",
    "        shutil.copy(full_file_name, MetadataDestination)"
   ]
  },
  {
   "cell_type": "markdown",
   "metadata": {},
   "source": [
    "Make a zip file to upload to the evaluator service"
   ]
  },
  {
   "cell_type": "code",
   "execution_count": 126,
   "metadata": {},
   "outputs": [
    {
     "data": {
      "text/plain": [
       "'/Users/scgordon/MILE2/upload/metadata.zip'"
      ]
     },
     "execution_count": 126,
     "metadata": {},
     "output_type": "execute_result"
    }
   ],
   "source": [
    "shutil.make_archive('../upload/metadata', 'zip', os.getcwd())"
   ]
  },
  {
   "cell_type": "code",
   "execution_count": 127,
   "metadata": {},
   "outputs": [
    {
     "name": "stdout",
     "output_type": "stream",
     "text": [
      "/Users/scgordon/MILE2/upload\n"
     ]
    }
   ],
   "source": [
    "cd ../upload"
   ]
  },
  {
   "cell_type": "markdown",
   "metadata": {},
   "source": [
    "Send metadata to the Evaluator. Get the responses with csv encoding. This step can take up to a minute and doesn't track progress, but a dataframe will be returned."
   ]
  },
  {
   "cell_type": "code",
   "execution_count": 130,
   "metadata": {},
   "outputs": [
    {
     "data": {
      "text/html": [
       "<div>\n",
       "<table border=\"1\" class=\"dataframe\">\n",
       "  <thead>\n",
       "    <tr style=\"text-align: right;\">\n",
       "      <th></th>\n",
       "      <th>Collection</th>\n",
       "      <th>Dialect</th>\n",
       "      <th>Record</th>\n",
       "      <th>Concept</th>\n",
       "      <th>Content</th>\n",
       "      <th>XPath</th>\n",
       "      <th>DialectDefinition</th>\n",
       "      <th>DocumentLocation</th>\n",
       "    </tr>\n",
       "  </thead>\n",
       "  <tbody>\n",
       "    <tr>\n",
       "      <th>0</th>\n",
       "      <td>GeoTraces</td>\n",
       "      <td>ISO</td>\n",
       "      <td>dataset_3840.xml</td>\n",
       "      <td>Unknown</td>\n",
       "      <td>http://www.isotc211.org/2005/gmi http://www.ng...</td>\n",
       "      <td>/gmi:MI_Metadata/@xsi:schemaLocation</td>\n",
       "      <td>Undefined</td>\n",
       "      <td>/gmi:MI_Metadata/@xsi:schemaLocation</td>\n",
       "    </tr>\n",
       "    <tr>\n",
       "      <th>1</th>\n",
       "      <td>GeoTraces</td>\n",
       "      <td>ISO</td>\n",
       "      <td>dataset_3840.xml</td>\n",
       "      <td>Metadata Identifier</td>\n",
       "      <td>http://lod.bco-dmo.org/id/dataset/3840</td>\n",
       "      <td>/gmi:MI_Metadata/gmd:fileIdentifier</td>\n",
       "      <td>/*/gmd:fileIdentifier</td>\n",
       "      <td>/gmi:MI_Metadata/gmd:fileIdentifier[1]</td>\n",
       "    </tr>\n",
       "    <tr>\n",
       "      <th>2</th>\n",
       "      <td>GeoTraces</td>\n",
       "      <td>ISO</td>\n",
       "      <td>dataset_3840.xml</td>\n",
       "      <td>Metadata Language</td>\n",
       "      <td>eng; USA</td>\n",
       "      <td>/gmi:MI_Metadata/gmd:language</td>\n",
       "      <td>/*/gmd:language</td>\n",
       "      <td>/gmi:MI_Metadata/gmd:language[1]</td>\n",
       "    </tr>\n",
       "    <tr>\n",
       "      <th>3</th>\n",
       "      <td>GeoTraces</td>\n",
       "      <td>ISO</td>\n",
       "      <td>dataset_3840.xml</td>\n",
       "      <td>Unknown</td>\n",
       "      <td>utf8</td>\n",
       "      <td>/gmi:MI_Metadata/gmd:characterSet/gmd:MD_Chara...</td>\n",
       "      <td>Undefined</td>\n",
       "      <td>/gmi:MI_Metadata/gmd:characterSet[1]/gmd:MD_Ch...</td>\n",
       "    </tr>\n",
       "    <tr>\n",
       "      <th>4</th>\n",
       "      <td>GeoTraces</td>\n",
       "      <td>ISO</td>\n",
       "      <td>dataset_3840.xml</td>\n",
       "      <td>Unknown</td>\n",
       "      <td>http://www.isotc211.org/2005/resources/Codelis...</td>\n",
       "      <td>/gmi:MI_Metadata/gmd:characterSet/gmd:MD_Chara...</td>\n",
       "      <td>Undefined</td>\n",
       "      <td>/gmi:MI_Metadata/gmd:characterSet[1]/gmd:MD_Ch...</td>\n",
       "    </tr>\n",
       "    <tr>\n",
       "      <th>5</th>\n",
       "      <td>GeoTraces</td>\n",
       "      <td>ISO</td>\n",
       "      <td>dataset_3840.xml</td>\n",
       "      <td>Unknown</td>\n",
       "      <td>utf8</td>\n",
       "      <td>/gmi:MI_Metadata/gmd:characterSet/gmd:MD_Chara...</td>\n",
       "      <td>Undefined</td>\n",
       "      <td>/gmi:MI_Metadata/gmd:characterSet[1]/gmd:MD_Ch...</td>\n",
       "    </tr>\n",
       "    <tr>\n",
       "      <th>6</th>\n",
       "      <td>GeoTraces</td>\n",
       "      <td>ISO</td>\n",
       "      <td>dataset_3840.xml</td>\n",
       "      <td>Resource Type</td>\n",
       "      <td>dataset</td>\n",
       "      <td>/gmi:MI_Metadata/gmd:hierarchyLevel/gmd:MD_Sco...</td>\n",
       "      <td>/*/gmd:hierarchyLevel/gmd:MD_ScopeCode</td>\n",
       "      <td>/gmi:MI_Metadata/gmd:hierarchyLevel[1]/gmd:MD_...</td>\n",
       "    </tr>\n",
       "    <tr>\n",
       "      <th>7</th>\n",
       "      <td>GeoTraces</td>\n",
       "      <td>ISO</td>\n",
       "      <td>dataset_3840.xml</td>\n",
       "      <td>Unknown</td>\n",
       "      <td>Highest level of data collection, from a commo...</td>\n",
       "      <td>/gmi:MI_Metadata/gmd:hierarchyLevelName/gco:Ch...</td>\n",
       "      <td>Undefined</td>\n",
       "      <td>/gmi:MI_Metadata/gmd:hierarchyLevelName[1]/gco...</td>\n",
       "    </tr>\n",
       "    <tr>\n",
       "      <th>8</th>\n",
       "      <td>GeoTraces</td>\n",
       "      <td>ISO</td>\n",
       "      <td>dataset_3840.xml</td>\n",
       "      <td>Metadata Contact</td>\n",
       "      <td>Biological and Chemical Oceanography Data Mana...</td>\n",
       "      <td>/gmi:MI_Metadata/gmd:contact</td>\n",
       "      <td>/*/gmd:contact</td>\n",
       "      <td>/gmi:MI_Metadata/gmd:contact[1]</td>\n",
       "    </tr>\n",
       "    <tr>\n",
       "      <th>9</th>\n",
       "      <td>GeoTraces</td>\n",
       "      <td>ISO</td>\n",
       "      <td>dataset_3840.xml</td>\n",
       "      <td>Metadata Modified Date</td>\n",
       "      <td>2013-01-04</td>\n",
       "      <td>/gmi:MI_Metadata/gmd:dateStamp/gco:Date</td>\n",
       "      <td>/*/gmd:dateStamp/gco:Date</td>\n",
       "      <td>/gmi:MI_Metadata/gmd:dateStamp[1]/gco:Date[1]</td>\n",
       "    </tr>\n",
       "    <tr>\n",
       "      <th>10</th>\n",
       "      <td>GeoTraces</td>\n",
       "      <td>ISO</td>\n",
       "      <td>dataset_3840.xml</td>\n",
       "      <td>Metadata Dates</td>\n",
       "      <td>2013-01-04</td>\n",
       "      <td>/gmi:MI_Metadata/gmd:dateStamp/gco:Date</td>\n",
       "      <td>/*/gmd:dateStamp/gco:Date</td>\n",
       "      <td>/gmi:MI_Metadata/gmd:dateStamp[1]/gco:Date[1]</td>\n",
       "    </tr>\n",
       "    <tr>\n",
       "      <th>11</th>\n",
       "      <td>GeoTraces</td>\n",
       "      <td>ISO</td>\n",
       "      <td>dataset_3840.xml</td>\n",
       "      <td>Metadata Standard Citation</td>\n",
       "      <td>ISO 19115-2 Geographic Information - Metadata ...</td>\n",
       "      <td>/gmi:MI_Metadata/gmd:metadataStandardName</td>\n",
       "      <td>/*/gmd:metadataStandardName</td>\n",
       "      <td>/gmi:MI_Metadata/gmd:metadataStandardName[1]</td>\n",
       "    </tr>\n",
       "    <tr>\n",
       "      <th>12</th>\n",
       "      <td>GeoTraces</td>\n",
       "      <td>ISO</td>\n",
       "      <td>dataset_3840.xml</td>\n",
       "      <td>Metadata Standard Version</td>\n",
       "      <td>ISO 19115-2:2009(E)</td>\n",
       "      <td>/gmi:MI_Metadata/gmd:metadataStandardVersion</td>\n",
       "      <td>/*/gmd:metadataStandardVersion</td>\n",
       "      <td>/gmi:MI_Metadata/gmd:metadataStandardVersion[1]</td>\n",
       "    </tr>\n",
       "    <tr>\n",
       "      <th>13</th>\n",
       "      <td>GeoTraces</td>\n",
       "      <td>ISO</td>\n",
       "      <td>dataset_3840.xml</td>\n",
       "      <td>Unknown</td>\n",
       "      <td>https://www.ngdc.noaa.gov/docucomp/895cc120-95...</td>\n",
       "      <td>/gmi:MI_Metadata/gmd:referenceSystemInfo/@xlin...</td>\n",
       "      <td>Undefined</td>\n",
       "      <td>/gmi:MI_Metadata/gmd:referenceSystemInfo[1]/@x...</td>\n",
       "    </tr>\n",
       "    <tr>\n",
       "      <th>14</th>\n",
       "      <td>GeoTraces</td>\n",
       "      <td>ISO</td>\n",
       "      <td>dataset_3840.xml</td>\n",
       "      <td>Unknown</td>\n",
       "      <td>WGS 84 / World Mercator</td>\n",
       "      <td>/gmi:MI_Metadata/gmd:referenceSystemInfo/@xlin...</td>\n",
       "      <td>Undefined</td>\n",
       "      <td>/gmi:MI_Metadata/gmd:referenceSystemInfo[1]/@x...</td>\n",
       "    </tr>\n",
       "    <tr>\n",
       "      <th>15</th>\n",
       "      <td>GeoTraces</td>\n",
       "      <td>ISO</td>\n",
       "      <td>dataset_3840.xml</td>\n",
       "      <td>Publication Information</td>\n",
       "      <td>Dissolved Fe Zn Cd conc and isotopes from the ...</td>\n",
       "      <td>/gmi:MI_Metadata/gmd:identificationInfo/gmd:MD...</td>\n",
       "      <td>/*/gmd:identificationInfo/*/gmd:citation/gmd:C...</td>\n",
       "      <td>/gmi:MI_Metadata/gmd:identificationInfo[1]/gmd...</td>\n",
       "    </tr>\n",
       "    <tr>\n",
       "      <th>16</th>\n",
       "      <td>GeoTraces</td>\n",
       "      <td>ISO</td>\n",
       "      <td>dataset_3840.xml</td>\n",
       "      <td>Abstract</td>\n",
       "      <td>Dissolved Fe, Zn and Cd concentrations and iso...</td>\n",
       "      <td>/gmi:MI_Metadata/gmd:identificationInfo/gmd:MD...</td>\n",
       "      <td>/*/gmd:identificationInfo/*/gmd:abstract</td>\n",
       "      <td>/gmi:MI_Metadata/gmd:identificationInfo[1]/gmd...</td>\n",
       "    </tr>\n",
       "    <tr>\n",
       "      <th>17</th>\n",
       "      <td>GeoTraces</td>\n",
       "      <td>ISO</td>\n",
       "      <td>dataset_3840.xml</td>\n",
       "      <td>Acknowledgement</td>\n",
       "      <td>Funding provided by NSF Ocean Sciences (NSF OC...</td>\n",
       "      <td>/gmi:MI_Metadata/gmd:identificationInfo/gmd:MD...</td>\n",
       "      <td>/*/gmd:identificationInfo/*/gmd:credit</td>\n",
       "      <td>/gmi:MI_Metadata/gmd:identificationInfo[1]/gmd...</td>\n",
       "    </tr>\n",
       "    <tr>\n",
       "      <th>18</th>\n",
       "      <td>GeoTraces</td>\n",
       "      <td>ISO</td>\n",
       "      <td>dataset_3840.xml</td>\n",
       "      <td>Acknowledgement</td>\n",
       "      <td>Funding provided by NSF Ocean Sciences (NSF OC...</td>\n",
       "      <td>/gmi:MI_Metadata/gmd:identificationInfo/gmd:MD...</td>\n",
       "      <td>/*/gmd:identificationInfo/*/gmd:credit</td>\n",
       "      <td>/gmi:MI_Metadata/gmd:identificationInfo[1]/gmd...</td>\n",
       "    </tr>\n",
       "    <tr>\n",
       "      <th>19</th>\n",
       "      <td>GeoTraces</td>\n",
       "      <td>ISO</td>\n",
       "      <td>dataset_3840.xml</td>\n",
       "      <td>Resource Status</td>\n",
       "      <td>completed</td>\n",
       "      <td>/gmi:MI_Metadata/gmd:identificationInfo/gmd:MD...</td>\n",
       "      <td>/*/gmd:identificationInfo/*/gmd:status/gmd:MD_...</td>\n",
       "      <td>/gmi:MI_Metadata/gmd:identificationInfo[1]/gmd...</td>\n",
       "    </tr>\n",
       "    <tr>\n",
       "      <th>20</th>\n",
       "      <td>GeoTraces</td>\n",
       "      <td>ISO</td>\n",
       "      <td>dataset_3840.xml</td>\n",
       "      <td>Resource Contact</td>\n",
       "      <td>Dr Seth A John University of South Carolina 61...</td>\n",
       "      <td>/gmi:MI_Metadata/gmd:identificationInfo/gmd:MD...</td>\n",
       "      <td>/*/gmd:identificationInfo/*/gmd:pointOfContact</td>\n",
       "      <td>/gmi:MI_Metadata/gmd:identificationInfo[1]/gmd...</td>\n",
       "    </tr>\n",
       "    <tr>\n",
       "      <th>21</th>\n",
       "      <td>GeoTraces</td>\n",
       "      <td>ISO</td>\n",
       "      <td>dataset_3840.xml</td>\n",
       "      <td>Resource Update Frequency</td>\n",
       "      <td>asNeeded</td>\n",
       "      <td>/gmi:MI_Metadata/gmd:identificationInfo/gmd:MD...</td>\n",
       "      <td>/*/gmd:identificationInfo/*/gmd:resourceMainte...</td>\n",
       "      <td>/gmi:MI_Metadata/gmd:identificationInfo[1]/gmd...</td>\n",
       "    </tr>\n",
       "    <tr>\n",
       "      <th>22</th>\n",
       "      <td>GeoTraces</td>\n",
       "      <td>ISO</td>\n",
       "      <td>dataset_3840.xml</td>\n",
       "      <td>Unknown</td>\n",
       "      <td>Dataset Version: 4</td>\n",
       "      <td>/gmi:MI_Metadata/gmd:identificationInfo/gmd:MD...</td>\n",
       "      <td>Undefined</td>\n",
       "      <td>/gmi:MI_Metadata/gmd:identificationInfo[1]/gmd...</td>\n",
       "    </tr>\n",
       "    <tr>\n",
       "      <th>23</th>\n",
       "      <td>GeoTraces</td>\n",
       "      <td>ISO</td>\n",
       "      <td>dataset_3840.xml</td>\n",
       "      <td>Theme Keyword</td>\n",
       "      <td>cruise_id</td>\n",
       "      <td>/gmi:MI_Metadata/gmd:identificationInfo/gmd:MD...</td>\n",
       "      <td>/*/gmd:identificationInfo/*/gmd:descriptiveKey...</td>\n",
       "      <td>/gmi:MI_Metadata/gmd:identificationInfo[1]/gmd...</td>\n",
       "    </tr>\n",
       "    <tr>\n",
       "      <th>24</th>\n",
       "      <td>GeoTraces</td>\n",
       "      <td>ISO</td>\n",
       "      <td>dataset_3840.xml</td>\n",
       "      <td>Keyword</td>\n",
       "      <td>cruise_id</td>\n",
       "      <td>/gmi:MI_Metadata/gmd:identificationInfo/gmd:MD...</td>\n",
       "      <td>/*/gmd:identificationInfo/*/gmd:descriptiveKey...</td>\n",
       "      <td>/gmi:MI_Metadata/gmd:identificationInfo[1]/gmd...</td>\n",
       "    </tr>\n",
       "    <tr>\n",
       "      <th>25</th>\n",
       "      <td>GeoTraces</td>\n",
       "      <td>ISO</td>\n",
       "      <td>dataset_3840.xml</td>\n",
       "      <td>Theme Keyword</td>\n",
       "      <td>Cruise Name</td>\n",
       "      <td>/gmi:MI_Metadata/gmd:identificationInfo/gmd:MD...</td>\n",
       "      <td>/*/gmd:identificationInfo/*/gmd:descriptiveKey...</td>\n",
       "      <td>/gmi:MI_Metadata/gmd:identificationInfo[1]/gmd...</td>\n",
       "    </tr>\n",
       "    <tr>\n",
       "      <th>26</th>\n",
       "      <td>GeoTraces</td>\n",
       "      <td>ISO</td>\n",
       "      <td>dataset_3840.xml</td>\n",
       "      <td>Keyword</td>\n",
       "      <td>Cruise Name</td>\n",
       "      <td>/gmi:MI_Metadata/gmd:identificationInfo/gmd:MD...</td>\n",
       "      <td>/*/gmd:identificationInfo/*/gmd:descriptiveKey...</td>\n",
       "      <td>/gmi:MI_Metadata/gmd:identificationInfo[1]/gmd...</td>\n",
       "    </tr>\n",
       "    <tr>\n",
       "      <th>27</th>\n",
       "      <td>GeoTraces</td>\n",
       "      <td>ISO</td>\n",
       "      <td>dataset_3840.xml</td>\n",
       "      <td>Theme Keyword</td>\n",
       "      <td>station</td>\n",
       "      <td>/gmi:MI_Metadata/gmd:identificationInfo/gmd:MD...</td>\n",
       "      <td>/*/gmd:identificationInfo/*/gmd:descriptiveKey...</td>\n",
       "      <td>/gmi:MI_Metadata/gmd:identificationInfo[1]/gmd...</td>\n",
       "    </tr>\n",
       "    <tr>\n",
       "      <th>28</th>\n",
       "      <td>GeoTraces</td>\n",
       "      <td>ISO</td>\n",
       "      <td>dataset_3840.xml</td>\n",
       "      <td>Keyword</td>\n",
       "      <td>station</td>\n",
       "      <td>/gmi:MI_Metadata/gmd:identificationInfo/gmd:MD...</td>\n",
       "      <td>/*/gmd:identificationInfo/*/gmd:descriptiveKey...</td>\n",
       "      <td>/gmi:MI_Metadata/gmd:identificationInfo[1]/gmd...</td>\n",
       "    </tr>\n",
       "    <tr>\n",
       "      <th>29</th>\n",
       "      <td>GeoTraces</td>\n",
       "      <td>ISO</td>\n",
       "      <td>dataset_3840.xml</td>\n",
       "      <td>Theme Keyword</td>\n",
       "      <td>bottle</td>\n",
       "      <td>/gmi:MI_Metadata/gmd:identificationInfo/gmd:MD...</td>\n",
       "      <td>/*/gmd:identificationInfo/*/gmd:descriptiveKey...</td>\n",
       "      <td>/gmi:MI_Metadata/gmd:identificationInfo[1]/gmd...</td>\n",
       "    </tr>\n",
       "    <tr>\n",
       "      <th>...</th>\n",
       "      <td>...</td>\n",
       "      <td>...</td>\n",
       "      <td>...</td>\n",
       "      <td>...</td>\n",
       "      <td>...</td>\n",
       "      <td>...</td>\n",
       "      <td>...</td>\n",
       "      <td>...</td>\n",
       "    </tr>\n",
       "    <tr>\n",
       "      <th>58769</th>\n",
       "      <td>GeoTraces</td>\n",
       "      <td>ISO</td>\n",
       "      <td>dataset_3871.xml</td>\n",
       "      <td>Unknown</td>\n",
       "      <td>unknown</td>\n",
       "      <td>/gmi:MI_Metadata/gmi:acquisitionInformation/gm...</td>\n",
       "      <td>Undefined</td>\n",
       "      <td>/gmi:MI_Metadata/gmi:acquisitionInformation[1]...</td>\n",
       "    </tr>\n",
       "    <tr>\n",
       "      <th>58770</th>\n",
       "      <td>GeoTraces</td>\n",
       "      <td>ISO</td>\n",
       "      <td>dataset_3871.xml</td>\n",
       "      <td>Unknown</td>\n",
       "      <td>http://www.isotc211.org/2005/resources/Codelis...</td>\n",
       "      <td>/gmi:MI_Metadata/gmi:acquisitionInformation/gm...</td>\n",
       "      <td>Undefined</td>\n",
       "      <td>/gmi:MI_Metadata/gmi:acquisitionInformation[1]...</td>\n",
       "    </tr>\n",
       "    <tr>\n",
       "      <th>58771</th>\n",
       "      <td>GeoTraces</td>\n",
       "      <td>ISO</td>\n",
       "      <td>dataset_3871.xml</td>\n",
       "      <td>Unknown</td>\n",
       "      <td>completed</td>\n",
       "      <td>/gmi:MI_Metadata/gmi:acquisitionInformation/gm...</td>\n",
       "      <td>Undefined</td>\n",
       "      <td>/gmi:MI_Metadata/gmi:acquisitionInformation[1]...</td>\n",
       "    </tr>\n",
       "    <tr>\n",
       "      <th>58772</th>\n",
       "      <td>GeoTraces</td>\n",
       "      <td>ISO</td>\n",
       "      <td>dataset_3871.xml</td>\n",
       "      <td>Cited Resource Title</td>\n",
       "      <td>KN199-04</td>\n",
       "      <td>/gmi:MI_Metadata/gmi:acquisitionInformation/gm...</td>\n",
       "      <td>//gmd:CI_Citation/gmd:title</td>\n",
       "      <td>/gmi:MI_Metadata/gmi:acquisitionInformation[1]...</td>\n",
       "    </tr>\n",
       "    <tr>\n",
       "      <th>58773</th>\n",
       "      <td>GeoTraces</td>\n",
       "      <td>ISO</td>\n",
       "      <td>dataset_3871.xml</td>\n",
       "      <td>Unknown</td>\n",
       "      <td>unknown</td>\n",
       "      <td>/gmi:MI_Metadata/gmi:acquisitionInformation/gm...</td>\n",
       "      <td>Undefined</td>\n",
       "      <td>/gmi:MI_Metadata/gmi:acquisitionInformation[1]...</td>\n",
       "    </tr>\n",
       "    <tr>\n",
       "      <th>58774</th>\n",
       "      <td>GeoTraces</td>\n",
       "      <td>ISO</td>\n",
       "      <td>dataset_3871.xml</td>\n",
       "      <td>Responsibility</td>\n",
       "      <td>Dr William J. Jenkins Woods Hole Oceanographic...</td>\n",
       "      <td>/gmi:MI_Metadata/gmi:acquisitionInformation/gm...</td>\n",
       "      <td>//gmd:CI_ResponsibleParty</td>\n",
       "      <td>/gmi:MI_Metadata/gmi:acquisitionInformation[1]...</td>\n",
       "    </tr>\n",
       "    <tr>\n",
       "      <th>58775</th>\n",
       "      <td>GeoTraces</td>\n",
       "      <td>ISO</td>\n",
       "      <td>dataset_3871.xml</td>\n",
       "      <td>Unknown</td>\n",
       "      <td>Cruise: KN204-01</td>\n",
       "      <td>/gmi:MI_Metadata/gmi:acquisitionInformation/gm...</td>\n",
       "      <td>Undefined</td>\n",
       "      <td>/gmi:MI_Metadata/gmi:acquisitionInformation[1]...</td>\n",
       "    </tr>\n",
       "    <tr>\n",
       "      <th>58776</th>\n",
       "      <td>GeoTraces</td>\n",
       "      <td>ISO</td>\n",
       "      <td>dataset_3871.xml</td>\n",
       "      <td>Related Resource Identifier</td>\n",
       "      <td>KN204-01</td>\n",
       "      <td>/gmi:MI_Metadata/gmi:acquisitionInformation/gm...</td>\n",
       "      <td>/gmi:MI_Metadata/gmi:acquisitionInformation/gm...</td>\n",
       "      <td>/gmi:MI_Metadata/gmi:acquisitionInformation[1]...</td>\n",
       "    </tr>\n",
       "    <tr>\n",
       "      <th>58777</th>\n",
       "      <td>GeoTraces</td>\n",
       "      <td>ISO</td>\n",
       "      <td>dataset_3871.xml</td>\n",
       "      <td>Unknown</td>\n",
       "      <td>http://www.ngdc.noaa.gov/metadata/published/xs...</td>\n",
       "      <td>/gmi:MI_Metadata/gmi:acquisitionInformation/gm...</td>\n",
       "      <td>Undefined</td>\n",
       "      <td>/gmi:MI_Metadata/gmi:acquisitionInformation[1]...</td>\n",
       "    </tr>\n",
       "    <tr>\n",
       "      <th>58778</th>\n",
       "      <td>GeoTraces</td>\n",
       "      <td>ISO</td>\n",
       "      <td>dataset_3871.xml</td>\n",
       "      <td>Unknown</td>\n",
       "      <td>completed</td>\n",
       "      <td>/gmi:MI_Metadata/gmi:acquisitionInformation/gm...</td>\n",
       "      <td>Undefined</td>\n",
       "      <td>/gmi:MI_Metadata/gmi:acquisitionInformation[1]...</td>\n",
       "    </tr>\n",
       "    <tr>\n",
       "      <th>58779</th>\n",
       "      <td>GeoTraces</td>\n",
       "      <td>ISO</td>\n",
       "      <td>dataset_3871.xml</td>\n",
       "      <td>Unknown</td>\n",
       "      <td>http://www.ngdc.noaa.gov/metadata/published/xs...</td>\n",
       "      <td>/gmi:MI_Metadata/gmi:acquisitionInformation/gm...</td>\n",
       "      <td>Undefined</td>\n",
       "      <td>/gmi:MI_Metadata/gmi:acquisitionInformation[1]...</td>\n",
       "    </tr>\n",
       "    <tr>\n",
       "      <th>58780</th>\n",
       "      <td>GeoTraces</td>\n",
       "      <td>ISO</td>\n",
       "      <td>dataset_3871.xml</td>\n",
       "      <td>Unknown</td>\n",
       "      <td>real</td>\n",
       "      <td>/gmi:MI_Metadata/gmi:acquisitionInformation/gm...</td>\n",
       "      <td>Undefined</td>\n",
       "      <td>/gmi:MI_Metadata/gmi:acquisitionInformation[1]...</td>\n",
       "    </tr>\n",
       "    <tr>\n",
       "      <th>58781</th>\n",
       "      <td>GeoTraces</td>\n",
       "      <td>ISO</td>\n",
       "      <td>dataset_3871.xml</td>\n",
       "      <td>Unknown</td>\n",
       "      <td>inapplicable</td>\n",
       "      <td>/gmi:MI_Metadata/gmi:acquisitionInformation/gm...</td>\n",
       "      <td>Undefined</td>\n",
       "      <td>/gmi:MI_Metadata/gmi:acquisitionInformation[1]...</td>\n",
       "    </tr>\n",
       "    <tr>\n",
       "      <th>58782</th>\n",
       "      <td>GeoTraces</td>\n",
       "      <td>ISO</td>\n",
       "      <td>dataset_3871.xml</td>\n",
       "      <td>Cited Resource Title</td>\n",
       "      <td>R/V Knorr</td>\n",
       "      <td>/gmi:MI_Metadata/gmi:acquisitionInformation/gm...</td>\n",
       "      <td>//gmd:CI_Citation/gmd:title</td>\n",
       "      <td>/gmi:MI_Metadata/gmi:acquisitionInformation[1]...</td>\n",
       "    </tr>\n",
       "    <tr>\n",
       "      <th>58783</th>\n",
       "      <td>GeoTraces</td>\n",
       "      <td>ISO</td>\n",
       "      <td>dataset_3871.xml</td>\n",
       "      <td>Unknown</td>\n",
       "      <td>unknown</td>\n",
       "      <td>/gmi:MI_Metadata/gmi:acquisitionInformation/gm...</td>\n",
       "      <td>Undefined</td>\n",
       "      <td>/gmi:MI_Metadata/gmi:acquisitionInformation[1]...</td>\n",
       "    </tr>\n",
       "    <tr>\n",
       "      <th>58784</th>\n",
       "      <td>GeoTraces</td>\n",
       "      <td>ISO</td>\n",
       "      <td>dataset_3871.xml</td>\n",
       "      <td>Cited Resource Title</td>\n",
       "      <td>Community Standard Description</td>\n",
       "      <td>/gmi:MI_Metadata/gmi:acquisitionInformation/gm...</td>\n",
       "      <td>//gmd:CI_Citation/gmd:title</td>\n",
       "      <td>/gmi:MI_Metadata/gmi:acquisitionInformation[1]...</td>\n",
       "    </tr>\n",
       "    <tr>\n",
       "      <th>58785</th>\n",
       "      <td>GeoTraces</td>\n",
       "      <td>ISO</td>\n",
       "      <td>dataset_3871.xml</td>\n",
       "      <td>Unknown</td>\n",
       "      <td>unknown</td>\n",
       "      <td>/gmi:MI_Metadata/gmi:acquisitionInformation/gm...</td>\n",
       "      <td>Undefined</td>\n",
       "      <td>/gmi:MI_Metadata/gmi:acquisitionInformation[1]...</td>\n",
       "    </tr>\n",
       "    <tr>\n",
       "      <th>58786</th>\n",
       "      <td>GeoTraces</td>\n",
       "      <td>ISO</td>\n",
       "      <td>dataset_3871.xml</td>\n",
       "      <td>Cited Resource Title</td>\n",
       "      <td>International Council for the Exploration of t...</td>\n",
       "      <td>/gmi:MI_Metadata/gmi:acquisitionInformation/gm...</td>\n",
       "      <td>//gmd:CI_Citation/gmd:title</td>\n",
       "      <td>/gmi:MI_Metadata/gmi:acquisitionInformation[1]...</td>\n",
       "    </tr>\n",
       "    <tr>\n",
       "      <th>58787</th>\n",
       "      <td>GeoTraces</td>\n",
       "      <td>ISO</td>\n",
       "      <td>dataset_3871.xml</td>\n",
       "      <td>Unknown</td>\n",
       "      <td>unknown</td>\n",
       "      <td>/gmi:MI_Metadata/gmi:acquisitionInformation/gm...</td>\n",
       "      <td>Undefined</td>\n",
       "      <td>/gmi:MI_Metadata/gmi:acquisitionInformation[1]...</td>\n",
       "    </tr>\n",
       "    <tr>\n",
       "      <th>58788</th>\n",
       "      <td>GeoTraces</td>\n",
       "      <td>ISO</td>\n",
       "      <td>dataset_3871.xml</td>\n",
       "      <td>Platform Short Name</td>\n",
       "      <td>R/V Knorr</td>\n",
       "      <td>/gmi:MI_Metadata/gmi:acquisitionInformation/gm...</td>\n",
       "      <td>//gmi:platform/*/gmi:identifier/gmd:MD_Identif...</td>\n",
       "      <td>/gmi:MI_Metadata/gmi:acquisitionInformation[1]...</td>\n",
       "    </tr>\n",
       "    <tr>\n",
       "      <th>58789</th>\n",
       "      <td>GeoTraces</td>\n",
       "      <td>ISO</td>\n",
       "      <td>dataset_3871.xml</td>\n",
       "      <td>Unknown</td>\n",
       "      <td>vessel</td>\n",
       "      <td>/gmi:MI_Metadata/gmi:acquisitionInformation/gm...</td>\n",
       "      <td>Undefined</td>\n",
       "      <td>/gmi:MI_Metadata/gmi:acquisitionInformation[1]...</td>\n",
       "    </tr>\n",
       "    <tr>\n",
       "      <th>58790</th>\n",
       "      <td>GeoTraces</td>\n",
       "      <td>ISO</td>\n",
       "      <td>dataset_3871.xml</td>\n",
       "      <td>Unknown</td>\n",
       "      <td>http://lod.bco-dmo.org/id/platform/53994.rdf</td>\n",
       "      <td>/gmi:MI_Metadata/gmi:acquisitionInformation/gm...</td>\n",
       "      <td>Undefined</td>\n",
       "      <td>/gmi:MI_Metadata/gmi:acquisitionInformation[1]...</td>\n",
       "    </tr>\n",
       "    <tr>\n",
       "      <th>58791</th>\n",
       "      <td>GeoTraces</td>\n",
       "      <td>ISO</td>\n",
       "      <td>dataset_3871.xml</td>\n",
       "      <td>Unknown</td>\n",
       "      <td>R/V Knorr</td>\n",
       "      <td>/gmi:MI_Metadata/gmi:acquisitionInformation/gm...</td>\n",
       "      <td>Undefined</td>\n",
       "      <td>/gmi:MI_Metadata/gmi:acquisitionInformation[1]...</td>\n",
       "    </tr>\n",
       "    <tr>\n",
       "      <th>58792</th>\n",
       "      <td>GeoTraces</td>\n",
       "      <td>ISO</td>\n",
       "      <td>dataset_3871.xml</td>\n",
       "      <td>Unknown</td>\n",
       "      <td>onRequest</td>\n",
       "      <td>/gmi:MI_Metadata/gmi:acquisitionInformation/gm...</td>\n",
       "      <td>Undefined</td>\n",
       "      <td>/gmi:MI_Metadata/gmi:acquisitionInformation[1]...</td>\n",
       "    </tr>\n",
       "    <tr>\n",
       "      <th>58793</th>\n",
       "      <td>GeoTraces</td>\n",
       "      <td>ISO</td>\n",
       "      <td>dataset_3871.xml</td>\n",
       "      <td>Unknown</td>\n",
       "      <td>unknown</td>\n",
       "      <td>/gmi:MI_Metadata/gmi:acquisitionInformation/gm...</td>\n",
       "      <td>Undefined</td>\n",
       "      <td>/gmi:MI_Metadata/gmi:acquisitionInformation[1]...</td>\n",
       "    </tr>\n",
       "    <tr>\n",
       "      <th>58794</th>\n",
       "      <td>GeoTraces</td>\n",
       "      <td>ISO</td>\n",
       "      <td>dataset_3871.xml</td>\n",
       "      <td>Unknown</td>\n",
       "      <td>http://www.isotc211.org/2005/resources/Codelis...</td>\n",
       "      <td>/gmi:MI_Metadata/gmi:acquisitionInformation/gm...</td>\n",
       "      <td>Undefined</td>\n",
       "      <td>/gmi:MI_Metadata/gmi:acquisitionInformation[1]...</td>\n",
       "    </tr>\n",
       "    <tr>\n",
       "      <th>58795</th>\n",
       "      <td>GeoTraces</td>\n",
       "      <td>ISO</td>\n",
       "      <td>dataset_3871.xml</td>\n",
       "      <td>Unknown</td>\n",
       "      <td>completed</td>\n",
       "      <td>/gmi:MI_Metadata/gmi:acquisitionInformation/gm...</td>\n",
       "      <td>Undefined</td>\n",
       "      <td>/gmi:MI_Metadata/gmi:acquisitionInformation[1]...</td>\n",
       "    </tr>\n",
       "    <tr>\n",
       "      <th>58796</th>\n",
       "      <td>GeoTraces</td>\n",
       "      <td>ISO</td>\n",
       "      <td>dataset_3871.xml</td>\n",
       "      <td>Cited Resource Title</td>\n",
       "      <td>KN204-01</td>\n",
       "      <td>/gmi:MI_Metadata/gmi:acquisitionInformation/gm...</td>\n",
       "      <td>//gmd:CI_Citation/gmd:title</td>\n",
       "      <td>/gmi:MI_Metadata/gmi:acquisitionInformation[1]...</td>\n",
       "    </tr>\n",
       "    <tr>\n",
       "      <th>58797</th>\n",
       "      <td>GeoTraces</td>\n",
       "      <td>ISO</td>\n",
       "      <td>dataset_3871.xml</td>\n",
       "      <td>Unknown</td>\n",
       "      <td>unknown</td>\n",
       "      <td>/gmi:MI_Metadata/gmi:acquisitionInformation/gm...</td>\n",
       "      <td>Undefined</td>\n",
       "      <td>/gmi:MI_Metadata/gmi:acquisitionInformation[1]...</td>\n",
       "    </tr>\n",
       "    <tr>\n",
       "      <th>58798</th>\n",
       "      <td>GeoTraces</td>\n",
       "      <td>ISO</td>\n",
       "      <td>dataset_3871.xml</td>\n",
       "      <td>Responsibility</td>\n",
       "      <td>Dr Edward A. Boyle Massachusetts Institute of ...</td>\n",
       "      <td>/gmi:MI_Metadata/gmi:acquisitionInformation/gm...</td>\n",
       "      <td>//gmd:CI_ResponsibleParty</td>\n",
       "      <td>/gmi:MI_Metadata/gmi:acquisitionInformation[1]...</td>\n",
       "    </tr>\n",
       "  </tbody>\n",
       "</table>\n",
       "<p>58799 rows × 8 columns</p>\n",
       "</div>"
      ],
      "text/plain": [
       "      Collection Dialect            Record                      Concept  \\\n",
       "0      GeoTraces     ISO  dataset_3840.xml                      Unknown   \n",
       "1      GeoTraces     ISO  dataset_3840.xml          Metadata Identifier   \n",
       "2      GeoTraces     ISO  dataset_3840.xml            Metadata Language   \n",
       "3      GeoTraces     ISO  dataset_3840.xml                      Unknown   \n",
       "4      GeoTraces     ISO  dataset_3840.xml                      Unknown   \n",
       "5      GeoTraces     ISO  dataset_3840.xml                      Unknown   \n",
       "6      GeoTraces     ISO  dataset_3840.xml                Resource Type   \n",
       "7      GeoTraces     ISO  dataset_3840.xml                      Unknown   \n",
       "8      GeoTraces     ISO  dataset_3840.xml             Metadata Contact   \n",
       "9      GeoTraces     ISO  dataset_3840.xml       Metadata Modified Date   \n",
       "10     GeoTraces     ISO  dataset_3840.xml               Metadata Dates   \n",
       "11     GeoTraces     ISO  dataset_3840.xml   Metadata Standard Citation   \n",
       "12     GeoTraces     ISO  dataset_3840.xml    Metadata Standard Version   \n",
       "13     GeoTraces     ISO  dataset_3840.xml                      Unknown   \n",
       "14     GeoTraces     ISO  dataset_3840.xml                      Unknown   \n",
       "15     GeoTraces     ISO  dataset_3840.xml      Publication Information   \n",
       "16     GeoTraces     ISO  dataset_3840.xml                     Abstract   \n",
       "17     GeoTraces     ISO  dataset_3840.xml              Acknowledgement   \n",
       "18     GeoTraces     ISO  dataset_3840.xml              Acknowledgement   \n",
       "19     GeoTraces     ISO  dataset_3840.xml              Resource Status   \n",
       "20     GeoTraces     ISO  dataset_3840.xml             Resource Contact   \n",
       "21     GeoTraces     ISO  dataset_3840.xml    Resource Update Frequency   \n",
       "22     GeoTraces     ISO  dataset_3840.xml                      Unknown   \n",
       "23     GeoTraces     ISO  dataset_3840.xml                Theme Keyword   \n",
       "24     GeoTraces     ISO  dataset_3840.xml                      Keyword   \n",
       "25     GeoTraces     ISO  dataset_3840.xml                Theme Keyword   \n",
       "26     GeoTraces     ISO  dataset_3840.xml                      Keyword   \n",
       "27     GeoTraces     ISO  dataset_3840.xml                Theme Keyword   \n",
       "28     GeoTraces     ISO  dataset_3840.xml                      Keyword   \n",
       "29     GeoTraces     ISO  dataset_3840.xml                Theme Keyword   \n",
       "...          ...     ...               ...                          ...   \n",
       "58769  GeoTraces     ISO  dataset_3871.xml                      Unknown   \n",
       "58770  GeoTraces     ISO  dataset_3871.xml                      Unknown   \n",
       "58771  GeoTraces     ISO  dataset_3871.xml                      Unknown   \n",
       "58772  GeoTraces     ISO  dataset_3871.xml         Cited Resource Title   \n",
       "58773  GeoTraces     ISO  dataset_3871.xml                      Unknown   \n",
       "58774  GeoTraces     ISO  dataset_3871.xml               Responsibility   \n",
       "58775  GeoTraces     ISO  dataset_3871.xml                      Unknown   \n",
       "58776  GeoTraces     ISO  dataset_3871.xml  Related Resource Identifier   \n",
       "58777  GeoTraces     ISO  dataset_3871.xml                      Unknown   \n",
       "58778  GeoTraces     ISO  dataset_3871.xml                      Unknown   \n",
       "58779  GeoTraces     ISO  dataset_3871.xml                      Unknown   \n",
       "58780  GeoTraces     ISO  dataset_3871.xml                      Unknown   \n",
       "58781  GeoTraces     ISO  dataset_3871.xml                      Unknown   \n",
       "58782  GeoTraces     ISO  dataset_3871.xml         Cited Resource Title   \n",
       "58783  GeoTraces     ISO  dataset_3871.xml                      Unknown   \n",
       "58784  GeoTraces     ISO  dataset_3871.xml         Cited Resource Title   \n",
       "58785  GeoTraces     ISO  dataset_3871.xml                      Unknown   \n",
       "58786  GeoTraces     ISO  dataset_3871.xml         Cited Resource Title   \n",
       "58787  GeoTraces     ISO  dataset_3871.xml                      Unknown   \n",
       "58788  GeoTraces     ISO  dataset_3871.xml          Platform Short Name   \n",
       "58789  GeoTraces     ISO  dataset_3871.xml                      Unknown   \n",
       "58790  GeoTraces     ISO  dataset_3871.xml                      Unknown   \n",
       "58791  GeoTraces     ISO  dataset_3871.xml                      Unknown   \n",
       "58792  GeoTraces     ISO  dataset_3871.xml                      Unknown   \n",
       "58793  GeoTraces     ISO  dataset_3871.xml                      Unknown   \n",
       "58794  GeoTraces     ISO  dataset_3871.xml                      Unknown   \n",
       "58795  GeoTraces     ISO  dataset_3871.xml                      Unknown   \n",
       "58796  GeoTraces     ISO  dataset_3871.xml         Cited Resource Title   \n",
       "58797  GeoTraces     ISO  dataset_3871.xml                      Unknown   \n",
       "58798  GeoTraces     ISO  dataset_3871.xml               Responsibility   \n",
       "\n",
       "                                                 Content  \\\n",
       "0      http://www.isotc211.org/2005/gmi http://www.ng...   \n",
       "1                 http://lod.bco-dmo.org/id/dataset/3840   \n",
       "2                                               eng; USA   \n",
       "3                                                   utf8   \n",
       "4      http://www.isotc211.org/2005/resources/Codelis...   \n",
       "5                                                   utf8   \n",
       "6                                                dataset   \n",
       "7      Highest level of data collection, from a commo...   \n",
       "8      Biological and Chemical Oceanography Data Mana...   \n",
       "9                                             2013-01-04   \n",
       "10                                            2013-01-04   \n",
       "11     ISO 19115-2 Geographic Information - Metadata ...   \n",
       "12                                   ISO 19115-2:2009(E)   \n",
       "13     https://www.ngdc.noaa.gov/docucomp/895cc120-95...   \n",
       "14                               WGS 84 / World Mercator   \n",
       "15     Dissolved Fe Zn Cd conc and isotopes from the ...   \n",
       "16     Dissolved Fe, Zn and Cd concentrations and iso...   \n",
       "17     Funding provided by NSF Ocean Sciences (NSF OC...   \n",
       "18     Funding provided by NSF Ocean Sciences (NSF OC...   \n",
       "19                                             completed   \n",
       "20     Dr Seth A John University of South Carolina 61...   \n",
       "21                                              asNeeded   \n",
       "22                                    Dataset Version: 4   \n",
       "23                                             cruise_id   \n",
       "24                                             cruise_id   \n",
       "25                                           Cruise Name   \n",
       "26                                           Cruise Name   \n",
       "27                                               station   \n",
       "28                                               station   \n",
       "29                                                bottle   \n",
       "...                                                  ...   \n",
       "58769                                            unknown   \n",
       "58770  http://www.isotc211.org/2005/resources/Codelis...   \n",
       "58771                                          completed   \n",
       "58772                                           KN199-04   \n",
       "58773                                            unknown   \n",
       "58774  Dr William J. Jenkins Woods Hole Oceanographic...   \n",
       "58775                                   Cruise: KN204-01   \n",
       "58776                                           KN204-01   \n",
       "58777  http://www.ngdc.noaa.gov/metadata/published/xs...   \n",
       "58778                                          completed   \n",
       "58779  http://www.ngdc.noaa.gov/metadata/published/xs...   \n",
       "58780                                               real   \n",
       "58781                                       inapplicable   \n",
       "58782                                          R/V Knorr   \n",
       "58783                                            unknown   \n",
       "58784                     Community Standard Description   \n",
       "58785                                            unknown   \n",
       "58786  International Council for the Exploration of t...   \n",
       "58787                                            unknown   \n",
       "58788                                          R/V Knorr   \n",
       "58789                                             vessel   \n",
       "58790       http://lod.bco-dmo.org/id/platform/53994.rdf   \n",
       "58791                                          R/V Knorr   \n",
       "58792                                          onRequest   \n",
       "58793                                            unknown   \n",
       "58794  http://www.isotc211.org/2005/resources/Codelis...   \n",
       "58795                                          completed   \n",
       "58796                                           KN204-01   \n",
       "58797                                            unknown   \n",
       "58798  Dr Edward A. Boyle Massachusetts Institute of ...   \n",
       "\n",
       "                                                   XPath  \\\n",
       "0                   /gmi:MI_Metadata/@xsi:schemaLocation   \n",
       "1                    /gmi:MI_Metadata/gmd:fileIdentifier   \n",
       "2                          /gmi:MI_Metadata/gmd:language   \n",
       "3      /gmi:MI_Metadata/gmd:characterSet/gmd:MD_Chara...   \n",
       "4      /gmi:MI_Metadata/gmd:characterSet/gmd:MD_Chara...   \n",
       "5      /gmi:MI_Metadata/gmd:characterSet/gmd:MD_Chara...   \n",
       "6      /gmi:MI_Metadata/gmd:hierarchyLevel/gmd:MD_Sco...   \n",
       "7      /gmi:MI_Metadata/gmd:hierarchyLevelName/gco:Ch...   \n",
       "8                           /gmi:MI_Metadata/gmd:contact   \n",
       "9                /gmi:MI_Metadata/gmd:dateStamp/gco:Date   \n",
       "10               /gmi:MI_Metadata/gmd:dateStamp/gco:Date   \n",
       "11             /gmi:MI_Metadata/gmd:metadataStandardName   \n",
       "12          /gmi:MI_Metadata/gmd:metadataStandardVersion   \n",
       "13     /gmi:MI_Metadata/gmd:referenceSystemInfo/@xlin...   \n",
       "14     /gmi:MI_Metadata/gmd:referenceSystemInfo/@xlin...   \n",
       "15     /gmi:MI_Metadata/gmd:identificationInfo/gmd:MD...   \n",
       "16     /gmi:MI_Metadata/gmd:identificationInfo/gmd:MD...   \n",
       "17     /gmi:MI_Metadata/gmd:identificationInfo/gmd:MD...   \n",
       "18     /gmi:MI_Metadata/gmd:identificationInfo/gmd:MD...   \n",
       "19     /gmi:MI_Metadata/gmd:identificationInfo/gmd:MD...   \n",
       "20     /gmi:MI_Metadata/gmd:identificationInfo/gmd:MD...   \n",
       "21     /gmi:MI_Metadata/gmd:identificationInfo/gmd:MD...   \n",
       "22     /gmi:MI_Metadata/gmd:identificationInfo/gmd:MD...   \n",
       "23     /gmi:MI_Metadata/gmd:identificationInfo/gmd:MD...   \n",
       "24     /gmi:MI_Metadata/gmd:identificationInfo/gmd:MD...   \n",
       "25     /gmi:MI_Metadata/gmd:identificationInfo/gmd:MD...   \n",
       "26     /gmi:MI_Metadata/gmd:identificationInfo/gmd:MD...   \n",
       "27     /gmi:MI_Metadata/gmd:identificationInfo/gmd:MD...   \n",
       "28     /gmi:MI_Metadata/gmd:identificationInfo/gmd:MD...   \n",
       "29     /gmi:MI_Metadata/gmd:identificationInfo/gmd:MD...   \n",
       "...                                                  ...   \n",
       "58769  /gmi:MI_Metadata/gmi:acquisitionInformation/gm...   \n",
       "58770  /gmi:MI_Metadata/gmi:acquisitionInformation/gm...   \n",
       "58771  /gmi:MI_Metadata/gmi:acquisitionInformation/gm...   \n",
       "58772  /gmi:MI_Metadata/gmi:acquisitionInformation/gm...   \n",
       "58773  /gmi:MI_Metadata/gmi:acquisitionInformation/gm...   \n",
       "58774  /gmi:MI_Metadata/gmi:acquisitionInformation/gm...   \n",
       "58775  /gmi:MI_Metadata/gmi:acquisitionInformation/gm...   \n",
       "58776  /gmi:MI_Metadata/gmi:acquisitionInformation/gm...   \n",
       "58777  /gmi:MI_Metadata/gmi:acquisitionInformation/gm...   \n",
       "58778  /gmi:MI_Metadata/gmi:acquisitionInformation/gm...   \n",
       "58779  /gmi:MI_Metadata/gmi:acquisitionInformation/gm...   \n",
       "58780  /gmi:MI_Metadata/gmi:acquisitionInformation/gm...   \n",
       "58781  /gmi:MI_Metadata/gmi:acquisitionInformation/gm...   \n",
       "58782  /gmi:MI_Metadata/gmi:acquisitionInformation/gm...   \n",
       "58783  /gmi:MI_Metadata/gmi:acquisitionInformation/gm...   \n",
       "58784  /gmi:MI_Metadata/gmi:acquisitionInformation/gm...   \n",
       "58785  /gmi:MI_Metadata/gmi:acquisitionInformation/gm...   \n",
       "58786  /gmi:MI_Metadata/gmi:acquisitionInformation/gm...   \n",
       "58787  /gmi:MI_Metadata/gmi:acquisitionInformation/gm...   \n",
       "58788  /gmi:MI_Metadata/gmi:acquisitionInformation/gm...   \n",
       "58789  /gmi:MI_Metadata/gmi:acquisitionInformation/gm...   \n",
       "58790  /gmi:MI_Metadata/gmi:acquisitionInformation/gm...   \n",
       "58791  /gmi:MI_Metadata/gmi:acquisitionInformation/gm...   \n",
       "58792  /gmi:MI_Metadata/gmi:acquisitionInformation/gm...   \n",
       "58793  /gmi:MI_Metadata/gmi:acquisitionInformation/gm...   \n",
       "58794  /gmi:MI_Metadata/gmi:acquisitionInformation/gm...   \n",
       "58795  /gmi:MI_Metadata/gmi:acquisitionInformation/gm...   \n",
       "58796  /gmi:MI_Metadata/gmi:acquisitionInformation/gm...   \n",
       "58797  /gmi:MI_Metadata/gmi:acquisitionInformation/gm...   \n",
       "58798  /gmi:MI_Metadata/gmi:acquisitionInformation/gm...   \n",
       "\n",
       "                                       DialectDefinition  \\\n",
       "0                                              Undefined   \n",
       "1                                  /*/gmd:fileIdentifier   \n",
       "2                                        /*/gmd:language   \n",
       "3                                              Undefined   \n",
       "4                                              Undefined   \n",
       "5                                              Undefined   \n",
       "6                 /*/gmd:hierarchyLevel/gmd:MD_ScopeCode   \n",
       "7                                              Undefined   \n",
       "8                                         /*/gmd:contact   \n",
       "9                              /*/gmd:dateStamp/gco:Date   \n",
       "10                             /*/gmd:dateStamp/gco:Date   \n",
       "11                           /*/gmd:metadataStandardName   \n",
       "12                        /*/gmd:metadataStandardVersion   \n",
       "13                                             Undefined   \n",
       "14                                             Undefined   \n",
       "15     /*/gmd:identificationInfo/*/gmd:citation/gmd:C...   \n",
       "16              /*/gmd:identificationInfo/*/gmd:abstract   \n",
       "17                /*/gmd:identificationInfo/*/gmd:credit   \n",
       "18                /*/gmd:identificationInfo/*/gmd:credit   \n",
       "19     /*/gmd:identificationInfo/*/gmd:status/gmd:MD_...   \n",
       "20        /*/gmd:identificationInfo/*/gmd:pointOfContact   \n",
       "21     /*/gmd:identificationInfo/*/gmd:resourceMainte...   \n",
       "22                                             Undefined   \n",
       "23     /*/gmd:identificationInfo/*/gmd:descriptiveKey...   \n",
       "24     /*/gmd:identificationInfo/*/gmd:descriptiveKey...   \n",
       "25     /*/gmd:identificationInfo/*/gmd:descriptiveKey...   \n",
       "26     /*/gmd:identificationInfo/*/gmd:descriptiveKey...   \n",
       "27     /*/gmd:identificationInfo/*/gmd:descriptiveKey...   \n",
       "28     /*/gmd:identificationInfo/*/gmd:descriptiveKey...   \n",
       "29     /*/gmd:identificationInfo/*/gmd:descriptiveKey...   \n",
       "...                                                  ...   \n",
       "58769                                          Undefined   \n",
       "58770                                          Undefined   \n",
       "58771                                          Undefined   \n",
       "58772                        //gmd:CI_Citation/gmd:title   \n",
       "58773                                          Undefined   \n",
       "58774                          //gmd:CI_ResponsibleParty   \n",
       "58775                                          Undefined   \n",
       "58776  /gmi:MI_Metadata/gmi:acquisitionInformation/gm...   \n",
       "58777                                          Undefined   \n",
       "58778                                          Undefined   \n",
       "58779                                          Undefined   \n",
       "58780                                          Undefined   \n",
       "58781                                          Undefined   \n",
       "58782                        //gmd:CI_Citation/gmd:title   \n",
       "58783                                          Undefined   \n",
       "58784                        //gmd:CI_Citation/gmd:title   \n",
       "58785                                          Undefined   \n",
       "58786                        //gmd:CI_Citation/gmd:title   \n",
       "58787                                          Undefined   \n",
       "58788  //gmi:platform/*/gmi:identifier/gmd:MD_Identif...   \n",
       "58789                                          Undefined   \n",
       "58790                                          Undefined   \n",
       "58791                                          Undefined   \n",
       "58792                                          Undefined   \n",
       "58793                                          Undefined   \n",
       "58794                                          Undefined   \n",
       "58795                                          Undefined   \n",
       "58796                        //gmd:CI_Citation/gmd:title   \n",
       "58797                                          Undefined   \n",
       "58798                          //gmd:CI_ResponsibleParty   \n",
       "\n",
       "                                        DocumentLocation  \n",
       "0                   /gmi:MI_Metadata/@xsi:schemaLocation  \n",
       "1                 /gmi:MI_Metadata/gmd:fileIdentifier[1]  \n",
       "2                       /gmi:MI_Metadata/gmd:language[1]  \n",
       "3      /gmi:MI_Metadata/gmd:characterSet[1]/gmd:MD_Ch...  \n",
       "4      /gmi:MI_Metadata/gmd:characterSet[1]/gmd:MD_Ch...  \n",
       "5      /gmi:MI_Metadata/gmd:characterSet[1]/gmd:MD_Ch...  \n",
       "6      /gmi:MI_Metadata/gmd:hierarchyLevel[1]/gmd:MD_...  \n",
       "7      /gmi:MI_Metadata/gmd:hierarchyLevelName[1]/gco...  \n",
       "8                        /gmi:MI_Metadata/gmd:contact[1]  \n",
       "9          /gmi:MI_Metadata/gmd:dateStamp[1]/gco:Date[1]  \n",
       "10         /gmi:MI_Metadata/gmd:dateStamp[1]/gco:Date[1]  \n",
       "11          /gmi:MI_Metadata/gmd:metadataStandardName[1]  \n",
       "12       /gmi:MI_Metadata/gmd:metadataStandardVersion[1]  \n",
       "13     /gmi:MI_Metadata/gmd:referenceSystemInfo[1]/@x...  \n",
       "14     /gmi:MI_Metadata/gmd:referenceSystemInfo[1]/@x...  \n",
       "15     /gmi:MI_Metadata/gmd:identificationInfo[1]/gmd...  \n",
       "16     /gmi:MI_Metadata/gmd:identificationInfo[1]/gmd...  \n",
       "17     /gmi:MI_Metadata/gmd:identificationInfo[1]/gmd...  \n",
       "18     /gmi:MI_Metadata/gmd:identificationInfo[1]/gmd...  \n",
       "19     /gmi:MI_Metadata/gmd:identificationInfo[1]/gmd...  \n",
       "20     /gmi:MI_Metadata/gmd:identificationInfo[1]/gmd...  \n",
       "21     /gmi:MI_Metadata/gmd:identificationInfo[1]/gmd...  \n",
       "22     /gmi:MI_Metadata/gmd:identificationInfo[1]/gmd...  \n",
       "23     /gmi:MI_Metadata/gmd:identificationInfo[1]/gmd...  \n",
       "24     /gmi:MI_Metadata/gmd:identificationInfo[1]/gmd...  \n",
       "25     /gmi:MI_Metadata/gmd:identificationInfo[1]/gmd...  \n",
       "26     /gmi:MI_Metadata/gmd:identificationInfo[1]/gmd...  \n",
       "27     /gmi:MI_Metadata/gmd:identificationInfo[1]/gmd...  \n",
       "28     /gmi:MI_Metadata/gmd:identificationInfo[1]/gmd...  \n",
       "29     /gmi:MI_Metadata/gmd:identificationInfo[1]/gmd...  \n",
       "...                                                  ...  \n",
       "58769  /gmi:MI_Metadata/gmi:acquisitionInformation[1]...  \n",
       "58770  /gmi:MI_Metadata/gmi:acquisitionInformation[1]...  \n",
       "58771  /gmi:MI_Metadata/gmi:acquisitionInformation[1]...  \n",
       "58772  /gmi:MI_Metadata/gmi:acquisitionInformation[1]...  \n",
       "58773  /gmi:MI_Metadata/gmi:acquisitionInformation[1]...  \n",
       "58774  /gmi:MI_Metadata/gmi:acquisitionInformation[1]...  \n",
       "58775  /gmi:MI_Metadata/gmi:acquisitionInformation[1]...  \n",
       "58776  /gmi:MI_Metadata/gmi:acquisitionInformation[1]...  \n",
       "58777  /gmi:MI_Metadata/gmi:acquisitionInformation[1]...  \n",
       "58778  /gmi:MI_Metadata/gmi:acquisitionInformation[1]...  \n",
       "58779  /gmi:MI_Metadata/gmi:acquisitionInformation[1]...  \n",
       "58780  /gmi:MI_Metadata/gmi:acquisitionInformation[1]...  \n",
       "58781  /gmi:MI_Metadata/gmi:acquisitionInformation[1]...  \n",
       "58782  /gmi:MI_Metadata/gmi:acquisitionInformation[1]...  \n",
       "58783  /gmi:MI_Metadata/gmi:acquisitionInformation[1]...  \n",
       "58784  /gmi:MI_Metadata/gmi:acquisitionInformation[1]...  \n",
       "58785  /gmi:MI_Metadata/gmi:acquisitionInformation[1]...  \n",
       "58786  /gmi:MI_Metadata/gmi:acquisitionInformation[1]...  \n",
       "58787  /gmi:MI_Metadata/gmi:acquisitionInformation[1]...  \n",
       "58788  /gmi:MI_Metadata/gmi:acquisitionInformation[1]...  \n",
       "58789  /gmi:MI_Metadata/gmi:acquisitionInformation[1]...  \n",
       "58790  /gmi:MI_Metadata/gmi:acquisitionInformation[1]...  \n",
       "58791  /gmi:MI_Metadata/gmi:acquisitionInformation[1]...  \n",
       "58792  /gmi:MI_Metadata/gmi:acquisitionInformation[1]...  \n",
       "58793  /gmi:MI_Metadata/gmi:acquisitionInformation[1]...  \n",
       "58794  /gmi:MI_Metadata/gmi:acquisitionInformation[1]...  \n",
       "58795  /gmi:MI_Metadata/gmi:acquisitionInformation[1]...  \n",
       "58796  /gmi:MI_Metadata/gmi:acquisitionInformation[1]...  \n",
       "58797  /gmi:MI_Metadata/gmi:acquisitionInformation[1]...  \n",
       "58798  /gmi:MI_Metadata/gmi:acquisitionInformation[1]...  \n",
       "\n",
       "[58799 rows x 8 columns]"
      ]
     },
     "execution_count": 130,
     "metadata": {},
     "output_type": "execute_result"
    }
   ],
   "source": [
    "url = 'http://metadig.nceas.ucsb.edu/metadata/evaluator'\n",
    "files = {'zipxml': open('metadata.zip', 'rb')}\n",
    "r = requests.post(url, files=files)\n",
    "r.raise_for_status()\n",
    "CollectionConceptsDF = pd.read_csv(io.StringIO(r.text))\n",
    "CollectionConceptsDF"
   ]
  },
  {
   "cell_type": "markdown",
   "metadata": {},
   "source": [
    "Save the dataframe as a csv for further analysis"
   ]
  },
  {
   "cell_type": "code",
   "execution_count": 133,
   "metadata": {},
   "outputs": [],
   "source": [
    "rawData.to_csv('../data/data.csv', mode = 'w', index=False)"
   ]
  },
  {
   "cell_type": "markdown",
   "metadata": {},
   "source": [
    "Clear up temporary files and directories, switch to the data directory"
   ]
  },
  {
   "cell_type": "code",
   "execution_count": 108,
   "metadata": {},
   "outputs": [
    {
     "name": "stdout",
     "output_type": "stream",
     "text": [
      "/Users/scgordon/MILE2\n",
      "/Users/scgordon/MILE2/zip\n",
      "/Users/scgordon/MILE2/data\n"
     ]
    }
   ],
   "source": [
    "%cd ../\n",
    "shutil.rmtree('upload')\n",
    "%cd zip\n",
    "shutil.rmtree(Organization)\n",
    "%cd ../data"
   ]
  },
  {
   "cell_type": "markdown",
   "metadata": {},
   "source": [
    "Copy the csv to a directory, named for the organization that had the metadata in it's holdings. Give it a filename matching the the metadata collection and dialect"
   ]
  },
  {
   "cell_type": "code",
   "execution_count": 109,
   "metadata": {},
   "outputs": [
    {
     "data": {
      "text/plain": [
       "'BCO-DMO/GeoTraces_ISO_data.csv'"
      ]
     },
     "execution_count": 109,
     "metadata": {},
     "output_type": "execute_result"
    }
   ],
   "source": [
    "shutil.copy(\"data.csv\", os.path.join(Organization,Collection+'_'+Dialect+'_'+'data.csv'))"
   ]
  },
  {
   "cell_type": "markdown",
   "metadata": {},
   "source": [
    "Now that we have our metadata data prepared and stored, we can look at collection analytics, cross collection analytics, concept verticals, and help define unknown concepts."
   ]
  },
  {
   "cell_type": "markdown",
   "metadata": {
    "collapsed": true
   },
   "source": [
    "### Select the notebook that prepares the data for different types of analysis\n",
    "\n",
    "* [Concept Verticals](ConceptVerticals.ipynb)\n",
    "* [Quick Evaluation Cross Collection Comparisons](QuickEvaluation-CrossCollectionComparisons.ipynb)\n",
    "* [Create RAD Data](CreateRADdata.ipynb)\n",
    "* [Exploring Unknown Document Locations](ExploringUnknownDocumentLocations.ipynb)"
   ]
  },
  {
   "cell_type": "code",
   "execution_count": null,
   "metadata": {
    "collapsed": true
   },
   "outputs": [],
   "source": []
  }
 ],
 "metadata": {
  "kernelspec": {
   "display_name": "Python 3",
   "language": "python",
   "name": "python3"
  },
  "language_info": {
   "codemirror_mode": {
    "name": "ipython",
    "version": 3
   },
   "file_extension": ".py",
   "mimetype": "text/x-python",
   "name": "python",
   "nbconvert_exporter": "python",
   "pygments_lexer": "ipython3",
   "version": "3.6.0"
  },
  "widgets": {
   "state": {
    "3284cfb1dd9740abaa49b8e7d69da415": {
     "views": [
      {
       "cell_index": 21
      }
     ]
    },
    "3cea7ccef00a420d8b8e9d9de3e654c3": {
     "views": [
      {
       "cell_index": 15
      }
     ]
    },
    "4efc827a8c7047f8ade32ba2a59048cf": {
     "views": [
      {
       "cell_index": 9
      }
     ]
    }
   },
   "version": "1.2.0"
  }
 },
 "nbformat": 4,
 "nbformat_minor": 2
}
