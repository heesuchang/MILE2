{
 "cells": [
  {
   "cell_type": "markdown",
   "metadata": {},
   "source": [
    "This notebook allows the user to select XML collections and zip them up to send to a service that runs a transform on them and returns a simple CSV made up of seven data points. The data included is the Collection name, Dialect name, Record name, Concept name, Content, Xpath location, and the Dialect Definition for the concept. \n",
    "\n",
    "The notebook utilizes Bash and Python with the default packages contained in the Mac build of Anaconda with Python 3.6. \n",
    "\n",
    "Saxon, Java, and XSLT form the evaluation web service on a NCEAS virtual machine. \n",
    "\n",
    "This CSV contains a row for each concept that is found, so some elements may fulfill multiple concepts. A good example of this are the concepts Keyword and Place Keyword. Every Place Keyword is also a Keyword, so the row would repeat with a different Concept name. It also contains a row for each undefined node that contains text, marking these rows with an Unknown in the Concept column. \n",
    "\n",
    "This data can be used in a variety of analyses including RAD and QuickE as well as Concept Verticals. It can also be used to teach the system dialect definitions for concepts that are currently unknown by exposing all of the content at undefined nodes. "
   ]
  },
  {
   "cell_type": "markdown",
   "metadata": {},
   "source": [
    "## First we need to call all of the libraries we need to perform in our metadata wrangle"
   ]
  },
  {
   "cell_type": "code",
   "execution_count": 1,
   "metadata": {
    "collapsed": true,
    "scrolled": true
   },
   "outputs": [],
   "source": [
    "import pandas as pd\n",
    "import os\n",
    "from os import walk\n",
    "import shutil\n",
    "from ipywidgets import *\n",
    "import ipywidgets as widgets\n",
    "import requests\n",
    "from contextlib import closing\n",
    "import csv\n",
    "import io"
   ]
  },
  {
   "cell_type": "markdown",
   "metadata": {
    "collapsed": true
   },
   "source": [
    "### Now let's select some metadata. "
   ]
  },
  {
   "cell_type": "markdown",
   "metadata": {},
   "source": [
    "If you have prepared metadata\\* on your computer that you want to add, it is possible to upload into the repository locally using the [Add Metadata](AddMetadata.ipynb) Notebook before completing the following cells in this notebook. Otherwise, follow along and use some of the sample metadata the following steps will help you to select.\n",
    "\n",
    "\\* Prepared metadata contains a root element that has a standardized namespace and namespace prefix. Many dialects such as ISO and DIF are consistently written this way, but some dialects such as CSDGM are often written by organizations as only well-formed XML."
   ]
  },
  {
   "cell_type": "markdown",
   "metadata": {},
   "source": [
    "Create a list of subdirectories in the collection directory of MILE2 to select metadata for evaluation"
   ]
  },
  {
   "cell_type": "code",
   "execution_count": 2,
   "metadata": {
    "collapsed": true
   },
   "outputs": [],
   "source": [
    "Organizations = []\n",
    "for (dirpath, dirnames, filenames) in walk('../collection/'):\n",
    "    Organizations.extend(dirnames)\n",
    "    break  "
   ]
  },
  {
   "cell_type": "markdown",
   "metadata": {},
   "source": [
    "Create a function to select the organization the metadata comes from"
   ]
  },
  {
   "cell_type": "code",
   "execution_count": 3,
   "metadata": {
    "collapsed": true
   },
   "outputs": [],
   "source": [
    "def OrganizationChoices(organization):\n",
    "    global OrganizationChoice\n",
    "    global Organization\n",
    "    Organization=organization\n",
    "    print(\"Organization of the collection is\", Organization)\n"
   ]
  },
  {
   "cell_type": "markdown",
   "metadata": {},
   "source": [
    "Create a dropdown using the Organizations list and the organization selector function. This sets the Organization variable."
   ]
  },
  {
   "cell_type": "code",
   "execution_count": 4,
   "metadata": {},
   "outputs": [
    {
     "data": {
      "application/vnd.jupyter.widget-view+json": {
       "model_id": "2a25c325acf14dd6a00bd0729e29f0a7"
      }
     },
     "metadata": {},
     "output_type": "display_data"
    }
   ],
   "source": [
    "interactive(OrganizationChoices, organization=Organizations)"
   ]
  },
  {
   "cell_type": "markdown",
   "metadata": {},
   "source": [
    "Create a list of collections in the organization directory selected in the dropdown above"
   ]
  },
  {
   "cell_type": "code",
   "execution_count": 5,
   "metadata": {},
   "outputs": [
    {
     "data": {
      "text/plain": [
       "['GES_DISC', 'GHRC', 'LARC', 'NSIDC', 'PODAAC']"
      ]
     },
     "execution_count": 5,
     "metadata": {},
     "output_type": "execute_result"
    }
   ],
   "source": [
    "Collections = []\n",
    "for (dirpath, dirnames, filenames) in walk(os.path.join('../collection',Organization)):\n",
    "    Collections.extend(dirnames)\n",
    "    break \n",
    "Collections"
   ]
  },
  {
   "cell_type": "markdown",
   "metadata": {
    "collapsed": true
   },
   "source": [
    "Create a function to select the collection the metadata comes from"
   ]
  },
  {
   "cell_type": "code",
   "execution_count": 6,
   "metadata": {
    "collapsed": true
   },
   "outputs": [],
   "source": [
    "def CollectionChoices(collection):\n",
    "    global CollectionChoice\n",
    "    global Collection\n",
    "    Collection=collection"
   ]
  },
  {
   "cell_type": "markdown",
   "metadata": {},
   "source": [
    "Create a dropdown using the Collections list and the organization selector function. This sets the Collection variable."
   ]
  },
  {
   "cell_type": "code",
   "execution_count": 7,
   "metadata": {},
   "outputs": [
    {
     "data": {
      "application/vnd.jupyter.widget-view+json": {
       "model_id": "78c5bd1fdb114cd8b14214c3af44fe97"
      }
     },
     "metadata": {},
     "output_type": "display_data"
    }
   ],
   "source": [
    "interactive(CollectionChoices, collection=Collections)"
   ]
  },
  {
   "cell_type": "markdown",
   "metadata": {},
   "source": [
    "Many organizations support multiple metadata dialects, and share their collections in more than one dialect. This list is created the same way the others are. It adds the different dialects the collection is shared in to a list."
   ]
  },
  {
   "cell_type": "code",
   "execution_count": 8,
   "metadata": {
    "collapsed": true
   },
   "outputs": [],
   "source": [
    "Dialects = []\n",
    "for (dirpath, dirnames, filenames) in walk(os.path.join('../collection',Organization,Collection)):\n",
    "    Dialects.extend(dirnames)\n",
    "    break \n",
    "dialectList=Dialects\n"
   ]
  },
  {
   "cell_type": "markdown",
   "metadata": {},
   "source": [
    "Create a function to select the dialect you want to send to the evaluator service."
   ]
  },
  {
   "cell_type": "code",
   "execution_count": 9,
   "metadata": {
    "collapsed": true
   },
   "outputs": [],
   "source": [
    "def dialectChoice(dialect):\n",
    "    global Dialect\n",
    "    Dialect=dialect\n",
    "    print(\"Dialect of the collection is\", Dialect)\n"
   ]
  },
  {
   "cell_type": "markdown",
   "metadata": {},
   "source": [
    "Create a dropdown using the Dialects list and the dialect selector function. This sets the Dialect variable."
   ]
  },
  {
   "cell_type": "code",
   "execution_count": 10,
   "metadata": {},
   "outputs": [
    {
     "data": {
      "application/vnd.jupyter.widget-view+json": {
       "model_id": "d4c7004ede094998966ba0979f064078"
      }
     },
     "metadata": {},
     "output_type": "display_data"
    }
   ],
   "source": [
    "interactive(dialectChoice,dialect=dialectList)"
   ]
  },
  {
   "cell_type": "markdown",
   "metadata": {},
   "source": [
    "change to the zip directory "
   ]
  },
  {
   "cell_type": "code",
   "execution_count": 11,
   "metadata": {},
   "outputs": [
    {
     "name": "stdout",
     "output_type": "stream",
     "text": [
      "/Users/scgordon/MILE2/zip\n"
     ]
    }
   ],
   "source": [
    "cd ../zip"
   ]
  },
  {
   "cell_type": "markdown",
   "metadata": {},
   "source": [
    "Combine the Organization, Collection, and Dialect variables with the string 'xml' as a relative path and save the string to a variable"
   ]
  },
  {
   "cell_type": "code",
   "execution_count": 12,
   "metadata": {},
   "outputs": [
    {
     "data": {
      "text/plain": [
       "'NASA/PODAAC/ISO/xml'"
      ]
     },
     "execution_count": 12,
     "metadata": {},
     "output_type": "execute_result"
    }
   ],
   "source": [
    "MetadataDestination=os.path.join(Organization,Collection,Dialect,'xml')\n",
    "MetadataDestination"
   ]
  },
  {
   "cell_type": "markdown",
   "metadata": {},
   "source": [
    "Use the path to create a directory structure in the zip directory"
   ]
  },
  {
   "cell_type": "code",
   "execution_count": 13,
   "metadata": {
    "collapsed": true
   },
   "outputs": [],
   "source": [
    "os.makedirs(MetadataDestination, exist_ok=True)"
   ]
  },
  {
   "cell_type": "markdown",
   "metadata": {},
   "source": [
    "Create a path to the metadata you selected earlier and save the string to a variable, 'MetadataLocation'."
   ]
  },
  {
   "cell_type": "code",
   "execution_count": 14,
   "metadata": {},
   "outputs": [
    {
     "data": {
      "text/plain": [
       "'../collection/NASA/PODAAC/ISO/xml'"
      ]
     },
     "execution_count": 14,
     "metadata": {},
     "output_type": "execute_result"
    }
   ],
   "source": [
    "MetadataLocation=os.path.join('../collection/',Organization,Collection,Dialect,'xml')\n",
    "\n",
    "MetadataLocation"
   ]
  },
  {
   "cell_type": "markdown",
   "metadata": {},
   "source": [
    "Copy the metadata to the new directory structure."
   ]
  },
  {
   "cell_type": "code",
   "execution_count": 15,
   "metadata": {
    "collapsed": true
   },
   "outputs": [],
   "source": [
    "src_files = os.listdir(MetadataLocation)\n",
    "for file_name in src_files:\n",
    "    full_file_name = os.path.join(MetadataLocation, file_name)\n",
    "    if (os.path.isfile(full_file_name)):\n",
    "        shutil.copy(full_file_name, MetadataDestination)"
   ]
  },
  {
   "cell_type": "markdown",
   "metadata": {},
   "source": [
    "Make a zip file to upload to the evaluator service"
   ]
  },
  {
   "cell_type": "code",
   "execution_count": 16,
   "metadata": {},
   "outputs": [
    {
     "data": {
      "text/plain": [
       "'/Users/scgordon/MILE2/upload/metadata.zip'"
      ]
     },
     "execution_count": 16,
     "metadata": {},
     "output_type": "execute_result"
    }
   ],
   "source": [
    "shutil.make_archive('../upload/metadata', 'zip', os.getcwd())"
   ]
  },
  {
   "cell_type": "code",
   "execution_count": 17,
   "metadata": {},
   "outputs": [
    {
     "name": "stdout",
     "output_type": "stream",
     "text": [
      "/Users/scgordon/MILE2/upload\n"
     ]
    }
   ],
   "source": [
    "%cd ../upload"
   ]
  },
  {
   "cell_type": "markdown",
   "metadata": {},
   "source": [
    "Send metadata to the Evaluator. Get the responses with csv encoding. This step can take up to a minute and doesn't track progress, but a dataframe or an error message will be returned."
   ]
  },
  {
   "cell_type": "code",
   "execution_count": 18,
   "metadata": {},
   "outputs": [
    {
     "data": {
      "text/html": [
       "<div>\n",
       "<style>\n",
       "    .dataframe thead tr:only-child th {\n",
       "        text-align: right;\n",
       "    }\n",
       "\n",
       "    .dataframe thead th {\n",
       "        text-align: left;\n",
       "    }\n",
       "\n",
       "    .dataframe tbody tr th {\n",
       "        vertical-align: top;\n",
       "    }\n",
       "</style>\n",
       "<table border=\"1\" class=\"dataframe\">\n",
       "  <thead>\n",
       "    <tr style=\"text-align: right;\">\n",
       "      <th></th>\n",
       "      <th>Collection</th>\n",
       "      <th>Dialect</th>\n",
       "      <th>Record</th>\n",
       "      <th>Concept</th>\n",
       "      <th>Content</th>\n",
       "      <th>XPath</th>\n",
       "      <th>DialectDefinition</th>\n",
       "    </tr>\n",
       "  </thead>\n",
       "  <tbody>\n",
       "    <tr>\n",
       "      <th>0</th>\n",
       "      <td>PODAAC</td>\n",
       "      <td>ISO</td>\n",
       "      <td>C1282709905.xml</td>\n",
       "      <td>Metadata Identifier</td>\n",
       "      <td>gov.nasa.echo:PODAAC-GHMTB-2PN02</td>\n",
       "      <td>/gmi:MI_Metadata/gmd:fileIdentifier</td>\n",
       "      <td>/*/gmd:fileIdentifier</td>\n",
       "    </tr>\n",
       "    <tr>\n",
       "      <th>1</th>\n",
       "      <td>PODAAC</td>\n",
       "      <td>ISO</td>\n",
       "      <td>C1282709905.xml</td>\n",
       "      <td>Metadata Language</td>\n",
       "      <td>eng</td>\n",
       "      <td>/gmi:MI_Metadata/gmd:language</td>\n",
       "      <td>/*/gmd:language</td>\n",
       "    </tr>\n",
       "    <tr>\n",
       "      <th>2</th>\n",
       "      <td>PODAAC</td>\n",
       "      <td>ISO</td>\n",
       "      <td>C1282709905.xml</td>\n",
       "      <td>Unknown</td>\n",
       "      <td>utf8</td>\n",
       "      <td>/gmi:MI_Metadata/gmd:characterSet/gmd:MD_Chara...</td>\n",
       "      <td>Undefined</td>\n",
       "    </tr>\n",
       "    <tr>\n",
       "      <th>3</th>\n",
       "      <td>PODAAC</td>\n",
       "      <td>ISO</td>\n",
       "      <td>C1282709905.xml</td>\n",
       "      <td>Unknown</td>\n",
       "      <td>http://www.ngdc.noaa.gov/metadata/published/xs...</td>\n",
       "      <td>/gmi:MI_Metadata/gmd:characterSet/gmd:MD_Chara...</td>\n",
       "      <td>Undefined</td>\n",
       "    </tr>\n",
       "    <tr>\n",
       "      <th>4</th>\n",
       "      <td>PODAAC</td>\n",
       "      <td>ISO</td>\n",
       "      <td>C1282709905.xml</td>\n",
       "      <td>Unknown</td>\n",
       "      <td>utf8</td>\n",
       "      <td>/gmi:MI_Metadata/gmd:characterSet/gmd:MD_Chara...</td>\n",
       "      <td>Undefined</td>\n",
       "    </tr>\n",
       "    <tr>\n",
       "      <th>5</th>\n",
       "      <td>PODAAC</td>\n",
       "      <td>ISO</td>\n",
       "      <td>C1282709905.xml</td>\n",
       "      <td>Resource Type</td>\n",
       "      <td>series</td>\n",
       "      <td>/gmi:MI_Metadata/gmd:hierarchyLevel/gmd:MD_Sco...</td>\n",
       "      <td>/*/gmd:hierarchyLevel/gmd:MD_ScopeCode</td>\n",
       "    </tr>\n",
       "    <tr>\n",
       "      <th>6</th>\n",
       "      <td>PODAAC</td>\n",
       "      <td>ISO</td>\n",
       "      <td>C1282709905.xml</td>\n",
       "      <td>Metadata Contact</td>\n",
       "      <td>PO.DAAC pointOfContact</td>\n",
       "      <td>/gmi:MI_Metadata/gmd:contact</td>\n",
       "      <td>/*/gmd:contact</td>\n",
       "    </tr>\n",
       "    <tr>\n",
       "      <th>7</th>\n",
       "      <td>PODAAC</td>\n",
       "      <td>ISO</td>\n",
       "      <td>C1282709905.xml</td>\n",
       "      <td>Metadata Modified Date</td>\n",
       "      <td>2016-10-05T18:46:42.041Z</td>\n",
       "      <td>/gmi:MI_Metadata/gmd:dateStamp/gco:DateTime</td>\n",
       "      <td>/*/gmd:dateStamp/gco:DateTime</td>\n",
       "    </tr>\n",
       "    <tr>\n",
       "      <th>8</th>\n",
       "      <td>PODAAC</td>\n",
       "      <td>ISO</td>\n",
       "      <td>C1282709905.xml</td>\n",
       "      <td>Metadata Dates</td>\n",
       "      <td>2016-10-05T18:46:42.041Z</td>\n",
       "      <td>/gmi:MI_Metadata/gmd:dateStamp/gco:DateTime</td>\n",
       "      <td>/*/gmd:dateStamp/gco:DateTime</td>\n",
       "    </tr>\n",
       "    <tr>\n",
       "      <th>9</th>\n",
       "      <td>PODAAC</td>\n",
       "      <td>ISO</td>\n",
       "      <td>C1282709905.xml</td>\n",
       "      <td>Metadata Standard Citation</td>\n",
       "      <td>ISO 19115-2 Geographic Information - Metadata ...</td>\n",
       "      <td>/gmi:MI_Metadata/gmd:metadataStandardName</td>\n",
       "      <td>/*/gmd:metadataStandardName</td>\n",
       "    </tr>\n",
       "    <tr>\n",
       "      <th>10</th>\n",
       "      <td>PODAAC</td>\n",
       "      <td>ISO</td>\n",
       "      <td>C1282709905.xml</td>\n",
       "      <td>Metadata Standard Version</td>\n",
       "      <td>ISO 19115-2:2009(E)</td>\n",
       "      <td>/gmi:MI_Metadata/gmd:metadataStandardVersion</td>\n",
       "      <td>/*/gmd:metadataStandardVersion</td>\n",
       "    </tr>\n",
       "    <tr>\n",
       "      <th>11</th>\n",
       "      <td>PODAAC</td>\n",
       "      <td>ISO</td>\n",
       "      <td>C1282709905.xml</td>\n",
       "      <td>Spatial Representation</td>\n",
       "      <td>CARTESIAN</td>\n",
       "      <td>/gmi:MI_Metadata/gmd:referenceSystemInfo/gmd:M...</td>\n",
       "      <td>/*/gmd:referenceSystemInfo/gmd:MD_ReferenceSys...</td>\n",
       "    </tr>\n",
       "    <tr>\n",
       "      <th>12</th>\n",
       "      <td>PODAAC</td>\n",
       "      <td>ISO</td>\n",
       "      <td>C1282709905.xml</td>\n",
       "      <td>Publication Information</td>\n",
       "      <td>AVHRRMTB_G-NAVO-L2P-v1.0 &gt; GHRSST Level 2P Glo...</td>\n",
       "      <td>/gmi:MI_Metadata/gmd:identificationInfo/gmd:MD...</td>\n",
       "      <td>/*/gmd:identificationInfo/*/gmd:citation/gmd:C...</td>\n",
       "    </tr>\n",
       "    <tr>\n",
       "      <th>13</th>\n",
       "      <td>PODAAC</td>\n",
       "      <td>ISO</td>\n",
       "      <td>C1282709905.xml</td>\n",
       "      <td>Abstract</td>\n",
       "      <td>A global Group for High Resolution Sea Surface...</td>\n",
       "      <td>/gmi:MI_Metadata/gmd:identificationInfo/gmd:MD...</td>\n",
       "      <td>/*/gmd:identificationInfo/*/gmd:abstract</td>\n",
       "    </tr>\n",
       "    <tr>\n",
       "      <th>14</th>\n",
       "      <td>PODAAC</td>\n",
       "      <td>ISO</td>\n",
       "      <td>C1282709905.xml</td>\n",
       "      <td>Purpose</td>\n",
       "      <td>NaN</td>\n",
       "      <td>/gmi:MI_Metadata/gmd:identificationInfo/gmd:MD...</td>\n",
       "      <td>/*/gmd:identificationInfo/*/gmd:purpose</td>\n",
       "    </tr>\n",
       "    <tr>\n",
       "      <th>15</th>\n",
       "      <td>PODAAC</td>\n",
       "      <td>ISO</td>\n",
       "      <td>C1282709905.xml</td>\n",
       "      <td>Resource Contact</td>\n",
       "      <td>PO.DAAC pointOfContact</td>\n",
       "      <td>/gmi:MI_Metadata/gmd:identificationInfo/gmd:MD...</td>\n",
       "      <td>/*/gmd:identificationInfo/*/gmd:pointOfContact</td>\n",
       "    </tr>\n",
       "    <tr>\n",
       "      <th>16</th>\n",
       "      <td>PODAAC</td>\n",
       "      <td>ISO</td>\n",
       "      <td>C1282709905.xml</td>\n",
       "      <td>Resource Format</td>\n",
       "      <td>NETCDF</td>\n",
       "      <td>/gmi:MI_Metadata/gmd:identificationInfo/gmd:MD...</td>\n",
       "      <td>//gmd:resourceFormat/gmd:MD_Format/gmd:name</td>\n",
       "    </tr>\n",
       "    <tr>\n",
       "      <th>17</th>\n",
       "      <td>PODAAC</td>\n",
       "      <td>ISO</td>\n",
       "      <td>C1282709905.xml</td>\n",
       "      <td>Unknown</td>\n",
       "      <td>unknown</td>\n",
       "      <td>/gmi:MI_Metadata/gmd:identificationInfo/gmd:MD...</td>\n",
       "      <td>Undefined</td>\n",
       "    </tr>\n",
       "    <tr>\n",
       "      <th>18</th>\n",
       "      <td>PODAAC</td>\n",
       "      <td>ISO</td>\n",
       "      <td>C1282709905.xml</td>\n",
       "      <td>Theme Keyword</td>\n",
       "      <td>Earth Science&gt;Oceans&gt;Ocean Temperature&gt;Sea Sur...</td>\n",
       "      <td>/gmi:MI_Metadata/gmd:identificationInfo/gmd:MD...</td>\n",
       "      <td>/*/gmd:identificationInfo/*/gmd:descriptiveKey...</td>\n",
       "    </tr>\n",
       "    <tr>\n",
       "      <th>19</th>\n",
       "      <td>PODAAC</td>\n",
       "      <td>ISO</td>\n",
       "      <td>C1282709905.xml</td>\n",
       "      <td>Keyword</td>\n",
       "      <td>Earth Science&gt;Oceans&gt;Ocean Temperature&gt;Sea Sur...</td>\n",
       "      <td>/gmi:MI_Metadata/gmd:identificationInfo/gmd:MD...</td>\n",
       "      <td>/*/gmd:identificationInfo/*/gmd:descriptiveKey...</td>\n",
       "    </tr>\n",
       "    <tr>\n",
       "      <th>20</th>\n",
       "      <td>PODAAC</td>\n",
       "      <td>ISO</td>\n",
       "      <td>C1282709905.xml</td>\n",
       "      <td>Keyword Type</td>\n",
       "      <td>theme</td>\n",
       "      <td>/gmi:MI_Metadata/gmd:identificationInfo/gmd:MD...</td>\n",
       "      <td>/*/gmd:identificationInfo/*/gmd:descriptiveKey...</td>\n",
       "    </tr>\n",
       "    <tr>\n",
       "      <th>21</th>\n",
       "      <td>PODAAC</td>\n",
       "      <td>ISO</td>\n",
       "      <td>C1282709905.xml</td>\n",
       "      <td>Keyword Vocabulary</td>\n",
       "      <td>NASA/GCMD Science Keywords NASA GCMD User Supp...</td>\n",
       "      <td>/gmi:MI_Metadata/gmd:identificationInfo/gmd:MD...</td>\n",
       "      <td>/*/gmd:identificationInfo/*/gmd:descriptiveKey...</td>\n",
       "    </tr>\n",
       "    <tr>\n",
       "      <th>22</th>\n",
       "      <td>PODAAC</td>\n",
       "      <td>ISO</td>\n",
       "      <td>C1282709905.xml</td>\n",
       "      <td>Keyword Vocabulary Citation</td>\n",
       "      <td>NASA/GCMD Science Keywords NASA GCMD User Supp...</td>\n",
       "      <td>/gmi:MI_Metadata/gmd:identificationInfo/gmd:MD...</td>\n",
       "      <td>/*/gmd:identificationInfo/*/gmd:descriptiveKey...</td>\n",
       "    </tr>\n",
       "    <tr>\n",
       "      <th>23</th>\n",
       "      <td>PODAAC</td>\n",
       "      <td>ISO</td>\n",
       "      <td>C1282709905.xml</td>\n",
       "      <td>Place Keyword</td>\n",
       "      <td>Global</td>\n",
       "      <td>/gmi:MI_Metadata/gmd:identificationInfo/gmd:MD...</td>\n",
       "      <td>/*/gmd:identificationInfo/*/gmd:descriptiveKey...</td>\n",
       "    </tr>\n",
       "    <tr>\n",
       "      <th>24</th>\n",
       "      <td>PODAAC</td>\n",
       "      <td>ISO</td>\n",
       "      <td>C1282709905.xml</td>\n",
       "      <td>Keyword</td>\n",
       "      <td>Global</td>\n",
       "      <td>/gmi:MI_Metadata/gmd:identificationInfo/gmd:MD...</td>\n",
       "      <td>/*/gmd:identificationInfo/*/gmd:descriptiveKey...</td>\n",
       "    </tr>\n",
       "    <tr>\n",
       "      <th>25</th>\n",
       "      <td>PODAAC</td>\n",
       "      <td>ISO</td>\n",
       "      <td>C1282709905.xml</td>\n",
       "      <td>Keyword Type</td>\n",
       "      <td>place</td>\n",
       "      <td>/gmi:MI_Metadata/gmd:identificationInfo/gmd:MD...</td>\n",
       "      <td>/*/gmd:identificationInfo/*/gmd:descriptiveKey...</td>\n",
       "    </tr>\n",
       "    <tr>\n",
       "      <th>26</th>\n",
       "      <td>PODAAC</td>\n",
       "      <td>ISO</td>\n",
       "      <td>C1282709905.xml</td>\n",
       "      <td>Keyword Vocabulary</td>\n",
       "      <td>NASA/Global Change Master Directory (GCMD) Loc...</td>\n",
       "      <td>/gmi:MI_Metadata/gmd:identificationInfo/gmd:MD...</td>\n",
       "      <td>/*/gmd:identificationInfo/*/gmd:descriptiveKey...</td>\n",
       "    </tr>\n",
       "    <tr>\n",
       "      <th>27</th>\n",
       "      <td>PODAAC</td>\n",
       "      <td>ISO</td>\n",
       "      <td>C1282709905.xml</td>\n",
       "      <td>Keyword Vocabulary Citation</td>\n",
       "      <td>NASA/Global Change Master Directory (GCMD) Loc...</td>\n",
       "      <td>/gmi:MI_Metadata/gmd:identificationInfo/gmd:MD...</td>\n",
       "      <td>/*/gmd:identificationInfo/*/gmd:descriptiveKey...</td>\n",
       "    </tr>\n",
       "    <tr>\n",
       "      <th>28</th>\n",
       "      <td>PODAAC</td>\n",
       "      <td>ISO</td>\n",
       "      <td>C1282709905.xml</td>\n",
       "      <td>Keyword</td>\n",
       "      <td>PO.DAAC</td>\n",
       "      <td>/gmi:MI_Metadata/gmd:identificationInfo/gmd:MD...</td>\n",
       "      <td>/*/gmd:identificationInfo/*/gmd:descriptiveKey...</td>\n",
       "    </tr>\n",
       "    <tr>\n",
       "      <th>29</th>\n",
       "      <td>PODAAC</td>\n",
       "      <td>ISO</td>\n",
       "      <td>C1282709905.xml</td>\n",
       "      <td>Keyword Type</td>\n",
       "      <td>dataCenter</td>\n",
       "      <td>/gmi:MI_Metadata/gmd:identificationInfo/gmd:MD...</td>\n",
       "      <td>/*/gmd:identificationInfo/*/gmd:descriptiveKey...</td>\n",
       "    </tr>\n",
       "    <tr>\n",
       "      <th>...</th>\n",
       "      <td>...</td>\n",
       "      <td>...</td>\n",
       "      <td>...</td>\n",
       "      <td>...</td>\n",
       "      <td>...</td>\n",
       "      <td>...</td>\n",
       "      <td>...</td>\n",
       "    </tr>\n",
       "    <tr>\n",
       "      <th>8486</th>\n",
       "      <td>PODAAC</td>\n",
       "      <td>ISO</td>\n",
       "      <td>C1282711570.xml</td>\n",
       "      <td>Unknown</td>\n",
       "      <td>utf8</td>\n",
       "      <td>/gmi:MI_Metadata/gmd:identificationInfo/gmd:MD...</td>\n",
       "      <td>Undefined</td>\n",
       "    </tr>\n",
       "    <tr>\n",
       "      <th>8487</th>\n",
       "      <td>PODAAC</td>\n",
       "      <td>ISO</td>\n",
       "      <td>C1282711570.xml</td>\n",
       "      <td>Unknown</td>\n",
       "      <td>http://www.ngdc.noaa.gov/metadata/published/xs...</td>\n",
       "      <td>/gmi:MI_Metadata/gmd:identificationInfo/gmd:MD...</td>\n",
       "      <td>Undefined</td>\n",
       "    </tr>\n",
       "    <tr>\n",
       "      <th>8488</th>\n",
       "      <td>PODAAC</td>\n",
       "      <td>ISO</td>\n",
       "      <td>C1282711570.xml</td>\n",
       "      <td>Unknown</td>\n",
       "      <td>utf8</td>\n",
       "      <td>/gmi:MI_Metadata/gmd:identificationInfo/gmd:MD...</td>\n",
       "      <td>Undefined</td>\n",
       "    </tr>\n",
       "    <tr>\n",
       "      <th>8489</th>\n",
       "      <td>PODAAC</td>\n",
       "      <td>ISO</td>\n",
       "      <td>C1282711570.xml</td>\n",
       "      <td>Unknown</td>\n",
       "      <td>boundingExtent</td>\n",
       "      <td>/gmi:MI_Metadata/gmd:identificationInfo/gmd:MD...</td>\n",
       "      <td>Undefined</td>\n",
       "    </tr>\n",
       "    <tr>\n",
       "      <th>8490</th>\n",
       "      <td>PODAAC</td>\n",
       "      <td>ISO</td>\n",
       "      <td>C1282711570.xml</td>\n",
       "      <td>Geographic Description</td>\n",
       "      <td>SpatialCoverageType=HORIZONTAL, SpatialGranule...</td>\n",
       "      <td>/gmi:MI_Metadata/gmd:identificationInfo/gmd:MD...</td>\n",
       "      <td>/*/gmd:identificationInfo/*/gmd:extent/gmd:EX_...</td>\n",
       "    </tr>\n",
       "    <tr>\n",
       "      <th>8491</th>\n",
       "      <td>PODAAC</td>\n",
       "      <td>ISO</td>\n",
       "      <td>C1282711570.xml</td>\n",
       "      <td>Spatial Extent</td>\n",
       "      <td>-180.0 180.0 -90 90</td>\n",
       "      <td>/gmi:MI_Metadata/gmd:identificationInfo/gmd:MD...</td>\n",
       "      <td>/*/gmd:identificationInfo/*/gmd:extent/gmd:EX_...</td>\n",
       "    </tr>\n",
       "    <tr>\n",
       "      <th>8492</th>\n",
       "      <td>PODAAC</td>\n",
       "      <td>ISO</td>\n",
       "      <td>C1282711570.xml</td>\n",
       "      <td>Temporal Extent</td>\n",
       "      <td>2013-05-20T17:28:00.000Z</td>\n",
       "      <td>/gmi:MI_Metadata/gmd:identificationInfo/gmd:MD...</td>\n",
       "      <td>/*/gmd:identificationInfo/*/gmd:extent/gmd:EX_...</td>\n",
       "    </tr>\n",
       "    <tr>\n",
       "      <th>8493</th>\n",
       "      <td>PODAAC</td>\n",
       "      <td>ISO</td>\n",
       "      <td>C1282711570.xml</td>\n",
       "      <td>Supplemental Information</td>\n",
       "      <td>NaN</td>\n",
       "      <td>/gmi:MI_Metadata/gmd:identificationInfo/gmd:MD...</td>\n",
       "      <td>/*/gmd:identificationInfo/*/gmd:supplementalIn...</td>\n",
       "    </tr>\n",
       "    <tr>\n",
       "      <th>8494</th>\n",
       "      <td>PODAAC</td>\n",
       "      <td>ISO</td>\n",
       "      <td>C1282711570.xml</td>\n",
       "      <td>Related Resource Identifier</td>\n",
       "      <td>2P</td>\n",
       "      <td>/gmi:MI_Metadata/gmd:identificationInfo/gmd:MD...</td>\n",
       "      <td>/*/gmd:identificationInfo/*/gmd:processingLeve...</td>\n",
       "    </tr>\n",
       "    <tr>\n",
       "      <th>8495</th>\n",
       "      <td>PODAAC</td>\n",
       "      <td>ISO</td>\n",
       "      <td>C1282711570.xml</td>\n",
       "      <td>VariableType</td>\n",
       "      <td>NaN</td>\n",
       "      <td>/gmi:MI_Metadata/gmd:contentInfo/gmd:MD_ImageD...</td>\n",
       "      <td>/gmi:MI_Metadata/gmd:contentInfo/*/gmd:content...</td>\n",
       "    </tr>\n",
       "    <tr>\n",
       "      <th>8496</th>\n",
       "      <td>PODAAC</td>\n",
       "      <td>ISO</td>\n",
       "      <td>C1282711570.xml</td>\n",
       "      <td>Processing Level</td>\n",
       "      <td>2P</td>\n",
       "      <td>/gmi:MI_Metadata/gmd:contentInfo/gmd:MD_ImageD...</td>\n",
       "      <td>/*/gmd:contentInfo/*/gmd:processingLevelCode/g...</td>\n",
       "    </tr>\n",
       "    <tr>\n",
       "      <th>8497</th>\n",
       "      <td>PODAAC</td>\n",
       "      <td>ISO</td>\n",
       "      <td>C1282711570.xml</td>\n",
       "      <td>Distribution Contact</td>\n",
       "      <td>Keith null Willis Naval Oceanographic Office (...</td>\n",
       "      <td>/gmi:MI_Metadata/gmd:distributionInfo/gmd:MD_D...</td>\n",
       "      <td>/*/gmd:distributionInfo/gmd:MD_Distribution/gm...</td>\n",
       "    </tr>\n",
       "    <tr>\n",
       "      <th>8498</th>\n",
       "      <td>PODAAC</td>\n",
       "      <td>ISO</td>\n",
       "      <td>C1282711570.xml</td>\n",
       "      <td>Resource Cost or Fees</td>\n",
       "      <td>NaN</td>\n",
       "      <td>/gmi:MI_Metadata/gmd:distributionInfo/gmd:MD_D...</td>\n",
       "      <td>/*/gmd:distributionInfo/gmd:MD_Distribution/gm...</td>\n",
       "    </tr>\n",
       "    <tr>\n",
       "      <th>8499</th>\n",
       "      <td>PODAAC</td>\n",
       "      <td>ISO</td>\n",
       "      <td>C1282711570.xml</td>\n",
       "      <td>Distribution Format</td>\n",
       "      <td>NETCDF</td>\n",
       "      <td>/gmi:MI_Metadata/gmd:distributionInfo/gmd:MD_D...</td>\n",
       "      <td>/*/gmd:distributionInfo/gmd:MD_Distribution/gm...</td>\n",
       "    </tr>\n",
       "    <tr>\n",
       "      <th>8500</th>\n",
       "      <td>PODAAC</td>\n",
       "      <td>ISO</td>\n",
       "      <td>C1282711570.xml</td>\n",
       "      <td>Unknown</td>\n",
       "      <td>unknown</td>\n",
       "      <td>/gmi:MI_Metadata/gmd:distributionInfo/gmd:MD_D...</td>\n",
       "      <td>Undefined</td>\n",
       "    </tr>\n",
       "    <tr>\n",
       "      <th>8501</th>\n",
       "      <td>PODAAC</td>\n",
       "      <td>ISO</td>\n",
       "      <td>C1282711570.xml</td>\n",
       "      <td>URL</td>\n",
       "      <td>http://podaac-opendap.jpl.nasa.gov/opendap/all...</td>\n",
       "      <td>/gmi:MI_Metadata/gmd:distributionInfo/gmd:MD_D...</td>\n",
       "      <td>/*/gmd:distributionInfo/gmd:MD_Distribution/gm...</td>\n",
       "    </tr>\n",
       "    <tr>\n",
       "      <th>8502</th>\n",
       "      <td>PODAAC</td>\n",
       "      <td>ISO</td>\n",
       "      <td>C1282711570.xml</td>\n",
       "      <td>URL</td>\n",
       "      <td>ftp://podaac-ftp.jpl.nasa.gov/allData/ghrsst/d...</td>\n",
       "      <td>/gmi:MI_Metadata/gmd:distributionInfo/gmd:MD_D...</td>\n",
       "      <td>/*/gmd:distributionInfo/gmd:MD_Distribution/gm...</td>\n",
       "    </tr>\n",
       "    <tr>\n",
       "      <th>8503</th>\n",
       "      <td>PODAAC</td>\n",
       "      <td>ISO</td>\n",
       "      <td>C1282711570.xml</td>\n",
       "      <td>URL</td>\n",
       "      <td>ftp://ftp.nodc.noaa.gov/pub/data.nodc/ghrsst/G...</td>\n",
       "      <td>/gmi:MI_Metadata/gmd:distributionInfo/gmd:MD_D...</td>\n",
       "      <td>/*/gmd:distributionInfo/gmd:MD_Distribution/gm...</td>\n",
       "    </tr>\n",
       "    <tr>\n",
       "      <th>8504</th>\n",
       "      <td>PODAAC</td>\n",
       "      <td>ISO</td>\n",
       "      <td>C1282711570.xml</td>\n",
       "      <td>URL</td>\n",
       "      <td>http://data.nodc.noaa.gov/cgi-bin/nph-dods/ghr...</td>\n",
       "      <td>/gmi:MI_Metadata/gmd:distributionInfo/gmd:MD_D...</td>\n",
       "      <td>/*/gmd:distributionInfo/gmd:MD_Distribution/gm...</td>\n",
       "    </tr>\n",
       "    <tr>\n",
       "      <th>8505</th>\n",
       "      <td>PODAAC</td>\n",
       "      <td>ISO</td>\n",
       "      <td>C1282711570.xml</td>\n",
       "      <td>Related URL</td>\n",
       "      <td>ftp://podaac.jpl.nasa.gov/OceanTemperature/ghr...</td>\n",
       "      <td>/gmi:MI_Metadata/gmd:distributionInfo/gmd:MD_D...</td>\n",
       "      <td>/*/gmd:distributionInfo/gmd:MD_Distribution/gm...</td>\n",
       "    </tr>\n",
       "    <tr>\n",
       "      <th>8506</th>\n",
       "      <td>PODAAC</td>\n",
       "      <td>ISO</td>\n",
       "      <td>C1282711570.xml</td>\n",
       "      <td>Related URL</td>\n",
       "      <td>http://ghrsst.jpl.nasa.gov Get Data Portal to ...</td>\n",
       "      <td>/gmi:MI_Metadata/gmd:distributionInfo/gmd:MD_D...</td>\n",
       "      <td>/*/gmd:distributionInfo/gmd:MD_Distribution/gm...</td>\n",
       "    </tr>\n",
       "    <tr>\n",
       "      <th>8507</th>\n",
       "      <td>PODAAC</td>\n",
       "      <td>ISO</td>\n",
       "      <td>C1282711570.xml</td>\n",
       "      <td>Related URL</td>\n",
       "      <td>http://podaac.jpl.nasa.gov/ws/search/granule/?...</td>\n",
       "      <td>/gmi:MI_Metadata/gmd:distributionInfo/gmd:MD_D...</td>\n",
       "      <td>/*/gmd:distributionInfo/gmd:MD_Distribution/gm...</td>\n",
       "    </tr>\n",
       "    <tr>\n",
       "      <th>8508</th>\n",
       "      <td>PODAAC</td>\n",
       "      <td>ISO</td>\n",
       "      <td>C1282711570.xml</td>\n",
       "      <td>Related URL</td>\n",
       "      <td>ftp://podaac.jpl.nasa.gov/OceanTemperature/ghr...</td>\n",
       "      <td>/gmi:MI_Metadata/gmd:distributionInfo/gmd:MD_D...</td>\n",
       "      <td>/*/gmd:distributionInfo/gmd:MD_Distribution/gm...</td>\n",
       "    </tr>\n",
       "    <tr>\n",
       "      <th>8509</th>\n",
       "      <td>PODAAC</td>\n",
       "      <td>ISO</td>\n",
       "      <td>C1282711570.xml</td>\n",
       "      <td>Data Quality Scope</td>\n",
       "      <td>series</td>\n",
       "      <td>/gmi:MI_Metadata/gmd:dataQualityInfo/gmd:DQ_Da...</td>\n",
       "      <td>/*/gmd:dataQualityInfo/gmd:DQ_DataQuality/gmd:...</td>\n",
       "    </tr>\n",
       "    <tr>\n",
       "      <th>8510</th>\n",
       "      <td>PODAAC</td>\n",
       "      <td>ISO</td>\n",
       "      <td>C1282711570.xml</td>\n",
       "      <td>Resource Lineage</td>\n",
       "      <td>Naval Oceanographic Office processor</td>\n",
       "      <td>/gmi:MI_Metadata/gmd:dataQualityInfo/gmd:DQ_Da...</td>\n",
       "      <td>/*/gmd:dataQualityInfo/gmd:DQ_DataQuality/gmd:...</td>\n",
       "    </tr>\n",
       "    <tr>\n",
       "      <th>8511</th>\n",
       "      <td>PODAAC</td>\n",
       "      <td>ISO</td>\n",
       "      <td>C1282711570.xml</td>\n",
       "      <td>Unknown</td>\n",
       "      <td>irregular</td>\n",
       "      <td>/gmi:MI_Metadata/gmd:metadataMaintenance/gmd:M...</td>\n",
       "      <td>Undefined</td>\n",
       "    </tr>\n",
       "    <tr>\n",
       "      <th>8512</th>\n",
       "      <td>PODAAC</td>\n",
       "      <td>ISO</td>\n",
       "      <td>C1282711570.xml</td>\n",
       "      <td>Unknown</td>\n",
       "      <td>http://www.ngdc.noaa.gov/metadata/published/xs...</td>\n",
       "      <td>/gmi:MI_Metadata/gmd:metadataMaintenance/gmd:M...</td>\n",
       "      <td>Undefined</td>\n",
       "    </tr>\n",
       "    <tr>\n",
       "      <th>8513</th>\n",
       "      <td>PODAAC</td>\n",
       "      <td>ISO</td>\n",
       "      <td>C1282711570.xml</td>\n",
       "      <td>Unknown</td>\n",
       "      <td>irregular</td>\n",
       "      <td>/gmi:MI_Metadata/gmd:metadataMaintenance/gmd:M...</td>\n",
       "      <td>Undefined</td>\n",
       "    </tr>\n",
       "    <tr>\n",
       "      <th>8514</th>\n",
       "      <td>PODAAC</td>\n",
       "      <td>ISO</td>\n",
       "      <td>C1282711570.xml</td>\n",
       "      <td>Instrument</td>\n",
       "      <td>VIIRS &gt; Visible Infrared Imaging Radiometer Su...</td>\n",
       "      <td>/gmi:MI_Metadata/gmi:acquisitionInformation/gm...</td>\n",
       "      <td>/gmi:MI_Metadata/gmi:acquisitionInformation/gm...</td>\n",
       "    </tr>\n",
       "    <tr>\n",
       "      <th>8515</th>\n",
       "      <td>PODAAC</td>\n",
       "      <td>ISO</td>\n",
       "      <td>C1282711570.xml</td>\n",
       "      <td>Platform</td>\n",
       "      <td>Suomi NPP Suomi Suomi National Polar-orbiting ...</td>\n",
       "      <td>/gmi:MI_Metadata/gmi:acquisitionInformation/gm...</td>\n",
       "      <td>/*/gmi:acquisitionInformation/gmi:MI_Acquisiti...</td>\n",
       "    </tr>\n",
       "  </tbody>\n",
       "</table>\n",
       "<p>8516 rows × 7 columns</p>\n",
       "</div>"
      ],
      "text/plain": [
       "     Collection Dialect           Record                      Concept  \\\n",
       "0        PODAAC     ISO  C1282709905.xml          Metadata Identifier   \n",
       "1        PODAAC     ISO  C1282709905.xml            Metadata Language   \n",
       "2        PODAAC     ISO  C1282709905.xml                      Unknown   \n",
       "3        PODAAC     ISO  C1282709905.xml                      Unknown   \n",
       "4        PODAAC     ISO  C1282709905.xml                      Unknown   \n",
       "5        PODAAC     ISO  C1282709905.xml                Resource Type   \n",
       "6        PODAAC     ISO  C1282709905.xml             Metadata Contact   \n",
       "7        PODAAC     ISO  C1282709905.xml       Metadata Modified Date   \n",
       "8        PODAAC     ISO  C1282709905.xml               Metadata Dates   \n",
       "9        PODAAC     ISO  C1282709905.xml   Metadata Standard Citation   \n",
       "10       PODAAC     ISO  C1282709905.xml    Metadata Standard Version   \n",
       "11       PODAAC     ISO  C1282709905.xml       Spatial Representation   \n",
       "12       PODAAC     ISO  C1282709905.xml      Publication Information   \n",
       "13       PODAAC     ISO  C1282709905.xml                     Abstract   \n",
       "14       PODAAC     ISO  C1282709905.xml                      Purpose   \n",
       "15       PODAAC     ISO  C1282709905.xml             Resource Contact   \n",
       "16       PODAAC     ISO  C1282709905.xml              Resource Format   \n",
       "17       PODAAC     ISO  C1282709905.xml                      Unknown   \n",
       "18       PODAAC     ISO  C1282709905.xml                Theme Keyword   \n",
       "19       PODAAC     ISO  C1282709905.xml                      Keyword   \n",
       "20       PODAAC     ISO  C1282709905.xml                 Keyword Type   \n",
       "21       PODAAC     ISO  C1282709905.xml           Keyword Vocabulary   \n",
       "22       PODAAC     ISO  C1282709905.xml  Keyword Vocabulary Citation   \n",
       "23       PODAAC     ISO  C1282709905.xml                Place Keyword   \n",
       "24       PODAAC     ISO  C1282709905.xml                      Keyword   \n",
       "25       PODAAC     ISO  C1282709905.xml                 Keyword Type   \n",
       "26       PODAAC     ISO  C1282709905.xml           Keyword Vocabulary   \n",
       "27       PODAAC     ISO  C1282709905.xml  Keyword Vocabulary Citation   \n",
       "28       PODAAC     ISO  C1282709905.xml                      Keyword   \n",
       "29       PODAAC     ISO  C1282709905.xml                 Keyword Type   \n",
       "...         ...     ...              ...                          ...   \n",
       "8486     PODAAC     ISO  C1282711570.xml                      Unknown   \n",
       "8487     PODAAC     ISO  C1282711570.xml                      Unknown   \n",
       "8488     PODAAC     ISO  C1282711570.xml                      Unknown   \n",
       "8489     PODAAC     ISO  C1282711570.xml                      Unknown   \n",
       "8490     PODAAC     ISO  C1282711570.xml       Geographic Description   \n",
       "8491     PODAAC     ISO  C1282711570.xml               Spatial Extent   \n",
       "8492     PODAAC     ISO  C1282711570.xml              Temporal Extent   \n",
       "8493     PODAAC     ISO  C1282711570.xml     Supplemental Information   \n",
       "8494     PODAAC     ISO  C1282711570.xml  Related Resource Identifier   \n",
       "8495     PODAAC     ISO  C1282711570.xml                 VariableType   \n",
       "8496     PODAAC     ISO  C1282711570.xml             Processing Level   \n",
       "8497     PODAAC     ISO  C1282711570.xml         Distribution Contact   \n",
       "8498     PODAAC     ISO  C1282711570.xml        Resource Cost or Fees   \n",
       "8499     PODAAC     ISO  C1282711570.xml          Distribution Format   \n",
       "8500     PODAAC     ISO  C1282711570.xml                      Unknown   \n",
       "8501     PODAAC     ISO  C1282711570.xml                          URL   \n",
       "8502     PODAAC     ISO  C1282711570.xml                          URL   \n",
       "8503     PODAAC     ISO  C1282711570.xml                          URL   \n",
       "8504     PODAAC     ISO  C1282711570.xml                          URL   \n",
       "8505     PODAAC     ISO  C1282711570.xml                  Related URL   \n",
       "8506     PODAAC     ISO  C1282711570.xml                  Related URL   \n",
       "8507     PODAAC     ISO  C1282711570.xml                  Related URL   \n",
       "8508     PODAAC     ISO  C1282711570.xml                  Related URL   \n",
       "8509     PODAAC     ISO  C1282711570.xml           Data Quality Scope   \n",
       "8510     PODAAC     ISO  C1282711570.xml             Resource Lineage   \n",
       "8511     PODAAC     ISO  C1282711570.xml                      Unknown   \n",
       "8512     PODAAC     ISO  C1282711570.xml                      Unknown   \n",
       "8513     PODAAC     ISO  C1282711570.xml                      Unknown   \n",
       "8514     PODAAC     ISO  C1282711570.xml                   Instrument   \n",
       "8515     PODAAC     ISO  C1282711570.xml                     Platform   \n",
       "\n",
       "                                                Content  \\\n",
       "0                      gov.nasa.echo:PODAAC-GHMTB-2PN02   \n",
       "1                                                   eng   \n",
       "2                                                  utf8   \n",
       "3     http://www.ngdc.noaa.gov/metadata/published/xs...   \n",
       "4                                                  utf8   \n",
       "5                                                series   \n",
       "6                                PO.DAAC pointOfContact   \n",
       "7                              2016-10-05T18:46:42.041Z   \n",
       "8                              2016-10-05T18:46:42.041Z   \n",
       "9     ISO 19115-2 Geographic Information - Metadata ...   \n",
       "10                                  ISO 19115-2:2009(E)   \n",
       "11                                            CARTESIAN   \n",
       "12    AVHRRMTB_G-NAVO-L2P-v1.0 > GHRSST Level 2P Glo...   \n",
       "13    A global Group for High Resolution Sea Surface...   \n",
       "14                                                  NaN   \n",
       "15                               PO.DAAC pointOfContact   \n",
       "16                                               NETCDF   \n",
       "17                                              unknown   \n",
       "18    Earth Science>Oceans>Ocean Temperature>Sea Sur...   \n",
       "19    Earth Science>Oceans>Ocean Temperature>Sea Sur...   \n",
       "20                                                theme   \n",
       "21    NASA/GCMD Science Keywords NASA GCMD User Supp...   \n",
       "22    NASA/GCMD Science Keywords NASA GCMD User Supp...   \n",
       "23                                               Global   \n",
       "24                                               Global   \n",
       "25                                                place   \n",
       "26    NASA/Global Change Master Directory (GCMD) Loc...   \n",
       "27    NASA/Global Change Master Directory (GCMD) Loc...   \n",
       "28                                              PO.DAAC   \n",
       "29                                           dataCenter   \n",
       "...                                                 ...   \n",
       "8486                                               utf8   \n",
       "8487  http://www.ngdc.noaa.gov/metadata/published/xs...   \n",
       "8488                                               utf8   \n",
       "8489                                     boundingExtent   \n",
       "8490  SpatialCoverageType=HORIZONTAL, SpatialGranule...   \n",
       "8491                                -180.0 180.0 -90 90   \n",
       "8492                           2013-05-20T17:28:00.000Z   \n",
       "8493                                                NaN   \n",
       "8494                                                 2P   \n",
       "8495                                                NaN   \n",
       "8496                                                 2P   \n",
       "8497  Keith null Willis Naval Oceanographic Office (...   \n",
       "8498                                                NaN   \n",
       "8499                                             NETCDF   \n",
       "8500                                            unknown   \n",
       "8501  http://podaac-opendap.jpl.nasa.gov/opendap/all...   \n",
       "8502  ftp://podaac-ftp.jpl.nasa.gov/allData/ghrsst/d...   \n",
       "8503  ftp://ftp.nodc.noaa.gov/pub/data.nodc/ghrsst/G...   \n",
       "8504  http://data.nodc.noaa.gov/cgi-bin/nph-dods/ghr...   \n",
       "8505  ftp://podaac.jpl.nasa.gov/OceanTemperature/ghr...   \n",
       "8506  http://ghrsst.jpl.nasa.gov Get Data Portal to ...   \n",
       "8507  http://podaac.jpl.nasa.gov/ws/search/granule/?...   \n",
       "8508  ftp://podaac.jpl.nasa.gov/OceanTemperature/ghr...   \n",
       "8509                                             series   \n",
       "8510               Naval Oceanographic Office processor   \n",
       "8511                                          irregular   \n",
       "8512  http://www.ngdc.noaa.gov/metadata/published/xs...   \n",
       "8513                                          irregular   \n",
       "8514  VIIRS > Visible Infrared Imaging Radiometer Su...   \n",
       "8515  Suomi NPP Suomi Suomi National Polar-orbiting ...   \n",
       "\n",
       "                                                  XPath  \\\n",
       "0                   /gmi:MI_Metadata/gmd:fileIdentifier   \n",
       "1                         /gmi:MI_Metadata/gmd:language   \n",
       "2     /gmi:MI_Metadata/gmd:characterSet/gmd:MD_Chara...   \n",
       "3     /gmi:MI_Metadata/gmd:characterSet/gmd:MD_Chara...   \n",
       "4     /gmi:MI_Metadata/gmd:characterSet/gmd:MD_Chara...   \n",
       "5     /gmi:MI_Metadata/gmd:hierarchyLevel/gmd:MD_Sco...   \n",
       "6                          /gmi:MI_Metadata/gmd:contact   \n",
       "7           /gmi:MI_Metadata/gmd:dateStamp/gco:DateTime   \n",
       "8           /gmi:MI_Metadata/gmd:dateStamp/gco:DateTime   \n",
       "9             /gmi:MI_Metadata/gmd:metadataStandardName   \n",
       "10         /gmi:MI_Metadata/gmd:metadataStandardVersion   \n",
       "11    /gmi:MI_Metadata/gmd:referenceSystemInfo/gmd:M...   \n",
       "12    /gmi:MI_Metadata/gmd:identificationInfo/gmd:MD...   \n",
       "13    /gmi:MI_Metadata/gmd:identificationInfo/gmd:MD...   \n",
       "14    /gmi:MI_Metadata/gmd:identificationInfo/gmd:MD...   \n",
       "15    /gmi:MI_Metadata/gmd:identificationInfo/gmd:MD...   \n",
       "16    /gmi:MI_Metadata/gmd:identificationInfo/gmd:MD...   \n",
       "17    /gmi:MI_Metadata/gmd:identificationInfo/gmd:MD...   \n",
       "18    /gmi:MI_Metadata/gmd:identificationInfo/gmd:MD...   \n",
       "19    /gmi:MI_Metadata/gmd:identificationInfo/gmd:MD...   \n",
       "20    /gmi:MI_Metadata/gmd:identificationInfo/gmd:MD...   \n",
       "21    /gmi:MI_Metadata/gmd:identificationInfo/gmd:MD...   \n",
       "22    /gmi:MI_Metadata/gmd:identificationInfo/gmd:MD...   \n",
       "23    /gmi:MI_Metadata/gmd:identificationInfo/gmd:MD...   \n",
       "24    /gmi:MI_Metadata/gmd:identificationInfo/gmd:MD...   \n",
       "25    /gmi:MI_Metadata/gmd:identificationInfo/gmd:MD...   \n",
       "26    /gmi:MI_Metadata/gmd:identificationInfo/gmd:MD...   \n",
       "27    /gmi:MI_Metadata/gmd:identificationInfo/gmd:MD...   \n",
       "28    /gmi:MI_Metadata/gmd:identificationInfo/gmd:MD...   \n",
       "29    /gmi:MI_Metadata/gmd:identificationInfo/gmd:MD...   \n",
       "...                                                 ...   \n",
       "8486  /gmi:MI_Metadata/gmd:identificationInfo/gmd:MD...   \n",
       "8487  /gmi:MI_Metadata/gmd:identificationInfo/gmd:MD...   \n",
       "8488  /gmi:MI_Metadata/gmd:identificationInfo/gmd:MD...   \n",
       "8489  /gmi:MI_Metadata/gmd:identificationInfo/gmd:MD...   \n",
       "8490  /gmi:MI_Metadata/gmd:identificationInfo/gmd:MD...   \n",
       "8491  /gmi:MI_Metadata/gmd:identificationInfo/gmd:MD...   \n",
       "8492  /gmi:MI_Metadata/gmd:identificationInfo/gmd:MD...   \n",
       "8493  /gmi:MI_Metadata/gmd:identificationInfo/gmd:MD...   \n",
       "8494  /gmi:MI_Metadata/gmd:identificationInfo/gmd:MD...   \n",
       "8495  /gmi:MI_Metadata/gmd:contentInfo/gmd:MD_ImageD...   \n",
       "8496  /gmi:MI_Metadata/gmd:contentInfo/gmd:MD_ImageD...   \n",
       "8497  /gmi:MI_Metadata/gmd:distributionInfo/gmd:MD_D...   \n",
       "8498  /gmi:MI_Metadata/gmd:distributionInfo/gmd:MD_D...   \n",
       "8499  /gmi:MI_Metadata/gmd:distributionInfo/gmd:MD_D...   \n",
       "8500  /gmi:MI_Metadata/gmd:distributionInfo/gmd:MD_D...   \n",
       "8501  /gmi:MI_Metadata/gmd:distributionInfo/gmd:MD_D...   \n",
       "8502  /gmi:MI_Metadata/gmd:distributionInfo/gmd:MD_D...   \n",
       "8503  /gmi:MI_Metadata/gmd:distributionInfo/gmd:MD_D...   \n",
       "8504  /gmi:MI_Metadata/gmd:distributionInfo/gmd:MD_D...   \n",
       "8505  /gmi:MI_Metadata/gmd:distributionInfo/gmd:MD_D...   \n",
       "8506  /gmi:MI_Metadata/gmd:distributionInfo/gmd:MD_D...   \n",
       "8507  /gmi:MI_Metadata/gmd:distributionInfo/gmd:MD_D...   \n",
       "8508  /gmi:MI_Metadata/gmd:distributionInfo/gmd:MD_D...   \n",
       "8509  /gmi:MI_Metadata/gmd:dataQualityInfo/gmd:DQ_Da...   \n",
       "8510  /gmi:MI_Metadata/gmd:dataQualityInfo/gmd:DQ_Da...   \n",
       "8511  /gmi:MI_Metadata/gmd:metadataMaintenance/gmd:M...   \n",
       "8512  /gmi:MI_Metadata/gmd:metadataMaintenance/gmd:M...   \n",
       "8513  /gmi:MI_Metadata/gmd:metadataMaintenance/gmd:M...   \n",
       "8514  /gmi:MI_Metadata/gmi:acquisitionInformation/gm...   \n",
       "8515  /gmi:MI_Metadata/gmi:acquisitionInformation/gm...   \n",
       "\n",
       "                                      DialectDefinition  \n",
       "0                                 /*/gmd:fileIdentifier  \n",
       "1                                       /*/gmd:language  \n",
       "2                                             Undefined  \n",
       "3                                             Undefined  \n",
       "4                                             Undefined  \n",
       "5                /*/gmd:hierarchyLevel/gmd:MD_ScopeCode  \n",
       "6                                        /*/gmd:contact  \n",
       "7                         /*/gmd:dateStamp/gco:DateTime  \n",
       "8                         /*/gmd:dateStamp/gco:DateTime  \n",
       "9                           /*/gmd:metadataStandardName  \n",
       "10                       /*/gmd:metadataStandardVersion  \n",
       "11    /*/gmd:referenceSystemInfo/gmd:MD_ReferenceSys...  \n",
       "12    /*/gmd:identificationInfo/*/gmd:citation/gmd:C...  \n",
       "13             /*/gmd:identificationInfo/*/gmd:abstract  \n",
       "14              /*/gmd:identificationInfo/*/gmd:purpose  \n",
       "15       /*/gmd:identificationInfo/*/gmd:pointOfContact  \n",
       "16          //gmd:resourceFormat/gmd:MD_Format/gmd:name  \n",
       "17                                            Undefined  \n",
       "18    /*/gmd:identificationInfo/*/gmd:descriptiveKey...  \n",
       "19    /*/gmd:identificationInfo/*/gmd:descriptiveKey...  \n",
       "20    /*/gmd:identificationInfo/*/gmd:descriptiveKey...  \n",
       "21    /*/gmd:identificationInfo/*/gmd:descriptiveKey...  \n",
       "22    /*/gmd:identificationInfo/*/gmd:descriptiveKey...  \n",
       "23    /*/gmd:identificationInfo/*/gmd:descriptiveKey...  \n",
       "24    /*/gmd:identificationInfo/*/gmd:descriptiveKey...  \n",
       "25    /*/gmd:identificationInfo/*/gmd:descriptiveKey...  \n",
       "26    /*/gmd:identificationInfo/*/gmd:descriptiveKey...  \n",
       "27    /*/gmd:identificationInfo/*/gmd:descriptiveKey...  \n",
       "28    /*/gmd:identificationInfo/*/gmd:descriptiveKey...  \n",
       "29    /*/gmd:identificationInfo/*/gmd:descriptiveKey...  \n",
       "...                                                 ...  \n",
       "8486                                          Undefined  \n",
       "8487                                          Undefined  \n",
       "8488                                          Undefined  \n",
       "8489                                          Undefined  \n",
       "8490  /*/gmd:identificationInfo/*/gmd:extent/gmd:EX_...  \n",
       "8491  /*/gmd:identificationInfo/*/gmd:extent/gmd:EX_...  \n",
       "8492  /*/gmd:identificationInfo/*/gmd:extent/gmd:EX_...  \n",
       "8493  /*/gmd:identificationInfo/*/gmd:supplementalIn...  \n",
       "8494  /*/gmd:identificationInfo/*/gmd:processingLeve...  \n",
       "8495  /gmi:MI_Metadata/gmd:contentInfo/*/gmd:content...  \n",
       "8496  /*/gmd:contentInfo/*/gmd:processingLevelCode/g...  \n",
       "8497  /*/gmd:distributionInfo/gmd:MD_Distribution/gm...  \n",
       "8498  /*/gmd:distributionInfo/gmd:MD_Distribution/gm...  \n",
       "8499  /*/gmd:distributionInfo/gmd:MD_Distribution/gm...  \n",
       "8500                                          Undefined  \n",
       "8501  /*/gmd:distributionInfo/gmd:MD_Distribution/gm...  \n",
       "8502  /*/gmd:distributionInfo/gmd:MD_Distribution/gm...  \n",
       "8503  /*/gmd:distributionInfo/gmd:MD_Distribution/gm...  \n",
       "8504  /*/gmd:distributionInfo/gmd:MD_Distribution/gm...  \n",
       "8505  /*/gmd:distributionInfo/gmd:MD_Distribution/gm...  \n",
       "8506  /*/gmd:distributionInfo/gmd:MD_Distribution/gm...  \n",
       "8507  /*/gmd:distributionInfo/gmd:MD_Distribution/gm...  \n",
       "8508  /*/gmd:distributionInfo/gmd:MD_Distribution/gm...  \n",
       "8509  /*/gmd:dataQualityInfo/gmd:DQ_DataQuality/gmd:...  \n",
       "8510  /*/gmd:dataQualityInfo/gmd:DQ_DataQuality/gmd:...  \n",
       "8511                                          Undefined  \n",
       "8512                                          Undefined  \n",
       "8513                                          Undefined  \n",
       "8514  /gmi:MI_Metadata/gmi:acquisitionInformation/gm...  \n",
       "8515  /*/gmi:acquisitionInformation/gmi:MI_Acquisiti...  \n",
       "\n",
       "[8516 rows x 7 columns]"
      ]
     },
     "execution_count": 18,
     "metadata": {},
     "output_type": "execute_result"
    }
   ],
   "source": [
    "url = 'http://metadig.nceas.ucsb.edu/metadata/evaluator'\n",
    "files = {'zipxml': open('metadata.zip', 'rb')}\n",
    "r = requests.post(url, files=files)\n",
    "r.raise_for_status()\n",
    "CollectionConceptsDF = pd.read_csv(io.StringIO(r.text), quotechar='\"')\n",
    "CollectionConceptsDF"
   ]
  },
  {
   "cell_type": "markdown",
   "metadata": {},
   "source": [
    "Save the dataframe as a csv for further analysis"
   ]
  },
  {
   "cell_type": "code",
   "execution_count": 22,
   "metadata": {
    "collapsed": true
   },
   "outputs": [],
   "source": [
    "CollectionConceptsDF.to_csv('../data/data.csv', mode = 'w', index=False)"
   ]
  },
  {
   "cell_type": "markdown",
   "metadata": {},
   "source": [
    "Clear up temporary files and directories, switch to the data directory"
   ]
  },
  {
   "cell_type": "code",
   "execution_count": 23,
   "metadata": {},
   "outputs": [
    {
     "name": "stdout",
     "output_type": "stream",
     "text": [
      "/Users/scgordon/MILE2\n"
     ]
    },
    {
     "ename": "FileNotFoundError",
     "evalue": "[Errno 2] No such file or directory: 'upload'",
     "output_type": "error",
     "traceback": [
      "\u001b[0;31m---------------------------------------------------------------------------\u001b[0m",
      "\u001b[0;31mFileNotFoundError\u001b[0m                         Traceback (most recent call last)",
      "\u001b[0;32m<ipython-input-23-49fa53e9ae29>\u001b[0m in \u001b[0;36m<module>\u001b[0;34m()\u001b[0m\n\u001b[1;32m      1\u001b[0m \u001b[0mget_ipython\u001b[0m\u001b[0;34m(\u001b[0m\u001b[0;34m)\u001b[0m\u001b[0;34m.\u001b[0m\u001b[0mmagic\u001b[0m\u001b[0;34m(\u001b[0m\u001b[0;34m'cd ../'\u001b[0m\u001b[0;34m)\u001b[0m\u001b[0;34m\u001b[0m\u001b[0m\n\u001b[0;32m----> 2\u001b[0;31m \u001b[0mshutil\u001b[0m\u001b[0;34m.\u001b[0m\u001b[0mrmtree\u001b[0m\u001b[0;34m(\u001b[0m\u001b[0;34m'upload'\u001b[0m\u001b[0;34m)\u001b[0m\u001b[0;34m\u001b[0m\u001b[0m\n\u001b[0m\u001b[1;32m      3\u001b[0m \u001b[0mget_ipython\u001b[0m\u001b[0;34m(\u001b[0m\u001b[0;34m)\u001b[0m\u001b[0;34m.\u001b[0m\u001b[0mmagic\u001b[0m\u001b[0;34m(\u001b[0m\u001b[0;34m'cd zip'\u001b[0m\u001b[0;34m)\u001b[0m\u001b[0;34m\u001b[0m\u001b[0m\n\u001b[1;32m      4\u001b[0m \u001b[0mshutil\u001b[0m\u001b[0;34m.\u001b[0m\u001b[0mrmtree\u001b[0m\u001b[0;34m(\u001b[0m\u001b[0mOrganization\u001b[0m\u001b[0;34m)\u001b[0m\u001b[0;34m\u001b[0m\u001b[0m\n\u001b[1;32m      5\u001b[0m \u001b[0mget_ipython\u001b[0m\u001b[0;34m(\u001b[0m\u001b[0;34m)\u001b[0m\u001b[0;34m.\u001b[0m\u001b[0mmagic\u001b[0m\u001b[0;34m(\u001b[0m\u001b[0;34m'cd ../data'\u001b[0m\u001b[0;34m)\u001b[0m\u001b[0;34m\u001b[0m\u001b[0m\n",
      "\u001b[0;32m/anaconda/lib/python3.6/shutil.py\u001b[0m in \u001b[0;36mrmtree\u001b[0;34m(path, ignore_errors, onerror)\u001b[0m\n\u001b[1;32m    492\u001b[0m             \u001b[0mos\u001b[0m\u001b[0;34m.\u001b[0m\u001b[0mclose\u001b[0m\u001b[0;34m(\u001b[0m\u001b[0mfd\u001b[0m\u001b[0;34m)\u001b[0m\u001b[0;34m\u001b[0m\u001b[0m\n\u001b[1;32m    493\u001b[0m     \u001b[0;32melse\u001b[0m\u001b[0;34m:\u001b[0m\u001b[0;34m\u001b[0m\u001b[0m\n\u001b[0;32m--> 494\u001b[0;31m         \u001b[0;32mreturn\u001b[0m \u001b[0m_rmtree_unsafe\u001b[0m\u001b[0;34m(\u001b[0m\u001b[0mpath\u001b[0m\u001b[0;34m,\u001b[0m \u001b[0monerror\u001b[0m\u001b[0;34m)\u001b[0m\u001b[0;34m\u001b[0m\u001b[0m\n\u001b[0m\u001b[1;32m    495\u001b[0m \u001b[0;34m\u001b[0m\u001b[0m\n\u001b[1;32m    496\u001b[0m \u001b[0;31m# Allow introspection of whether or not the hardening against symlink\u001b[0m\u001b[0;34m\u001b[0m\u001b[0;34m\u001b[0m\u001b[0m\n",
      "\u001b[0;32m/anaconda/lib/python3.6/shutil.py\u001b[0m in \u001b[0;36m_rmtree_unsafe\u001b[0;34m(path, onerror)\u001b[0m\n\u001b[1;32m    374\u001b[0m         \u001b[0mnames\u001b[0m \u001b[0;34m=\u001b[0m \u001b[0mos\u001b[0m\u001b[0;34m.\u001b[0m\u001b[0mlistdir\u001b[0m\u001b[0;34m(\u001b[0m\u001b[0mpath\u001b[0m\u001b[0;34m)\u001b[0m\u001b[0;34m\u001b[0m\u001b[0m\n\u001b[1;32m    375\u001b[0m     \u001b[0;32mexcept\u001b[0m \u001b[0mOSError\u001b[0m\u001b[0;34m:\u001b[0m\u001b[0;34m\u001b[0m\u001b[0m\n\u001b[0;32m--> 376\u001b[0;31m         \u001b[0monerror\u001b[0m\u001b[0;34m(\u001b[0m\u001b[0mos\u001b[0m\u001b[0;34m.\u001b[0m\u001b[0mlistdir\u001b[0m\u001b[0;34m,\u001b[0m \u001b[0mpath\u001b[0m\u001b[0;34m,\u001b[0m \u001b[0msys\u001b[0m\u001b[0;34m.\u001b[0m\u001b[0mexc_info\u001b[0m\u001b[0;34m(\u001b[0m\u001b[0;34m)\u001b[0m\u001b[0;34m)\u001b[0m\u001b[0;34m\u001b[0m\u001b[0m\n\u001b[0m\u001b[1;32m    377\u001b[0m     \u001b[0;32mfor\u001b[0m \u001b[0mname\u001b[0m \u001b[0;32min\u001b[0m \u001b[0mnames\u001b[0m\u001b[0;34m:\u001b[0m\u001b[0;34m\u001b[0m\u001b[0m\n\u001b[1;32m    378\u001b[0m         \u001b[0mfullname\u001b[0m \u001b[0;34m=\u001b[0m \u001b[0mos\u001b[0m\u001b[0;34m.\u001b[0m\u001b[0mpath\u001b[0m\u001b[0;34m.\u001b[0m\u001b[0mjoin\u001b[0m\u001b[0;34m(\u001b[0m\u001b[0mpath\u001b[0m\u001b[0;34m,\u001b[0m \u001b[0mname\u001b[0m\u001b[0;34m)\u001b[0m\u001b[0;34m\u001b[0m\u001b[0m\n",
      "\u001b[0;32m/anaconda/lib/python3.6/shutil.py\u001b[0m in \u001b[0;36m_rmtree_unsafe\u001b[0;34m(path, onerror)\u001b[0m\n\u001b[1;32m    372\u001b[0m     \u001b[0mnames\u001b[0m \u001b[0;34m=\u001b[0m \u001b[0;34m[\u001b[0m\u001b[0;34m]\u001b[0m\u001b[0;34m\u001b[0m\u001b[0m\n\u001b[1;32m    373\u001b[0m     \u001b[0;32mtry\u001b[0m\u001b[0;34m:\u001b[0m\u001b[0;34m\u001b[0m\u001b[0m\n\u001b[0;32m--> 374\u001b[0;31m         \u001b[0mnames\u001b[0m \u001b[0;34m=\u001b[0m \u001b[0mos\u001b[0m\u001b[0;34m.\u001b[0m\u001b[0mlistdir\u001b[0m\u001b[0;34m(\u001b[0m\u001b[0mpath\u001b[0m\u001b[0;34m)\u001b[0m\u001b[0;34m\u001b[0m\u001b[0m\n\u001b[0m\u001b[1;32m    375\u001b[0m     \u001b[0;32mexcept\u001b[0m \u001b[0mOSError\u001b[0m\u001b[0;34m:\u001b[0m\u001b[0;34m\u001b[0m\u001b[0m\n\u001b[1;32m    376\u001b[0m         \u001b[0monerror\u001b[0m\u001b[0;34m(\u001b[0m\u001b[0mos\u001b[0m\u001b[0;34m.\u001b[0m\u001b[0mlistdir\u001b[0m\u001b[0;34m,\u001b[0m \u001b[0mpath\u001b[0m\u001b[0;34m,\u001b[0m \u001b[0msys\u001b[0m\u001b[0;34m.\u001b[0m\u001b[0mexc_info\u001b[0m\u001b[0;34m(\u001b[0m\u001b[0;34m)\u001b[0m\u001b[0;34m)\u001b[0m\u001b[0;34m\u001b[0m\u001b[0m\n",
      "\u001b[0;31mFileNotFoundError\u001b[0m: [Errno 2] No such file or directory: 'upload'"
     ]
    }
   ],
   "source": [
    "%cd ../\n",
    "shutil.rmtree('upload')\n",
    "%cd zip\n",
    "shutil.rmtree(Organization)\n",
    "%cd ../data"
   ]
  },
  {
   "cell_type": "markdown",
   "metadata": {},
   "source": [
    "Copy the csv to a directory, named for the organization that had the metadata in it's holdings. Give it a filename matching the the metadata collection and dialect"
   ]
  },
  {
   "cell_type": "code",
   "execution_count": 21,
   "metadata": {},
   "outputs": [
    {
     "data": {
      "text/plain": [
       "'NASA/PODAAC_ISO_data.csv'"
      ]
     },
     "execution_count": 21,
     "metadata": {},
     "output_type": "execute_result"
    }
   ],
   "source": [
    "shutil.copy(\"data.csv\", os.path.join(Organization,Collection+'_'+Dialect+'_'+'data.csv'))"
   ]
  },
  {
   "cell_type": "markdown",
   "metadata": {},
   "source": [
    "Now that we have our metadata data prepared and stored, we can look at recommendation analytics, concept content consistency, cross collection analytics, and help define unknown concepts."
   ]
  },
  {
   "cell_type": "markdown",
   "metadata": {
    "collapsed": true
   },
   "source": [
    "### Select the notebook that prepares the data for different types of analysis\n",
    "\n",
    "* [Create RAD Data](CreateRADdata.ipynb)\n",
    "* [Concept Content Consistency](ConceptVerticals.ipynb)\n",
    "* [Cross Collection Comparisons](QuickEvaluation-CrossCollectionComparisons.ipynb)\n",
    "* [Exploring Unknown Concepts](ExploringUnknownConcepts.ipynb)"
   ]
  },
  {
   "cell_type": "code",
   "execution_count": null,
   "metadata": {
    "collapsed": true
   },
   "outputs": [],
   "source": []
  }
 ],
 "metadata": {
  "kernelspec": {
   "display_name": "Python 3",
   "language": "python",
   "name": "python3"
  },
  "language_info": {
   "codemirror_mode": {
    "name": "ipython",
    "version": 3
   },
   "file_extension": ".py",
   "mimetype": "text/x-python",
   "name": "python",
   "nbconvert_exporter": "python",
   "pygments_lexer": "ipython3",
   "version": "3.6.1"
  }
 },
 "nbformat": 4,
 "nbformat_minor": 2
}
