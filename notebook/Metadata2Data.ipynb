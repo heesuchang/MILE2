{
 "cells": [
  {
   "cell_type": "markdown",
   "metadata": {},
   "source": [
    "This notebook allows the user to select XML collections and zip them up to send to a service that runs a transform on them and returns a simple CSV made up of seven data points. The data included is the Collection name, Dialect name, Record name, Concept name, Content, Xpath location, and the Dialect Definition for the concept. \n",
    "\n",
    "The notebook utilizes Bash and Python with the default packages contained in the Mac build of Anaconda with Python 3.6. \n",
    "\n",
    "Saxon, Java, and XSLT form the evaluation web service on a NCEAS virtual machine. \n",
    "\n",
    "This CSV contains a row for each concept that is found, so some elements may fulfill multiple concepts. A good example of this are the concepts Keyword and Place Keyword. Every Place Keyword is also a Keyword, so the row would repeat with a different Concept name. It also contains a row for each undefined node that contains text, marking these rows with an Unknown in the Concept column. \n",
    "\n",
    "This data can be used in a variety of analyses including RAD and QuickE as well as Concept Verticals. It can also be used to teach the system dialect definitions for concepts that are currently unknown by exposing all of the content at undefined nodes. "
   ]
  },
  {
   "cell_type": "markdown",
   "metadata": {},
   "source": [
    "## First we need to call all of the libraries we need to perform in our metadata wrangle"
   ]
  },
  {
   "cell_type": "code",
   "execution_count": 16,
   "metadata": {
    "collapsed": true,
    "scrolled": true
   },
   "outputs": [],
   "source": [
    "import pandas as pd\n",
    "import os\n",
    "from os import walk\n",
    "import shutil\n",
    "from ipywidgets import *\n",
    "import ipywidgets as widgets\n",
    "import requests\n",
    "from contextlib import closing\n",
    "import csv\n",
    "import io"
   ]
  },
  {
   "cell_type": "markdown",
   "metadata": {
    "collapsed": true
   },
   "source": [
    "### Now let's select some metadata. "
   ]
  },
  {
   "cell_type": "markdown",
   "metadata": {},
   "source": [
    "If you have prepared metadata\\* on your computer that you want to add, it is possible to upload into the repository locally using the [Add Metadata](AddMetadata.ipynb) Notebook before completing the following cells in this notebook. Otherwise, follow along and use some of the sample metadata the following steps will help you to select.\n",
    "\n",
    "\\* Prepared metadata contains a root element that has a standardized namespace and namespace prefix. Many dialects such as ISO and DIF are consistently written this way, but some dialects such as CSDGM are often written by organizations as only well-formed XML."
   ]
  },
  {
   "cell_type": "markdown",
   "metadata": {},
   "source": [
    "Create a list of subdirectories in the collection directory of MILE2 to select metadata for evaluation"
   ]
  },
  {
   "cell_type": "code",
   "execution_count": 17,
   "metadata": {},
   "outputs": [],
   "source": [
    "Organizations = []\n",
    "for (dirpath, dirnames, filenames) in walk('../collection/'):\n",
    "    Organizations.extend(dirnames)\n",
    "    break  "
   ]
  },
  {
   "cell_type": "markdown",
   "metadata": {},
   "source": [
    "Create a function to select the organization the metadata comes from"
   ]
  },
  {
   "cell_type": "code",
   "execution_count": 18,
   "metadata": {
    "collapsed": true
   },
   "outputs": [],
   "source": [
    "def OrganizationChoices(organization):\n",
    "    global OrganizationChoice\n",
    "    global Organization\n",
    "    Organization=organization\n",
    "    print(\"Organization of the collection is\", Organization)\n"
   ]
  },
  {
   "cell_type": "markdown",
   "metadata": {},
   "source": [
    "Create a dropdown using the Organizations list and the organization selector function. This sets the Organization variable."
   ]
  },
  {
   "cell_type": "code",
   "execution_count": 19,
   "metadata": {},
   "outputs": [
    {
     "data": {
      "application/vnd.jupyter.widget-view+json": {
       "model_id": "6cabe8ddf36e43a5b04253ada7a12d5a"
      }
     },
     "metadata": {},
     "output_type": "display_data"
    }
   ],
   "source": [
    "interactive(OrganizationChoices, organization=Organizations)"
   ]
  },
  {
   "cell_type": "markdown",
   "metadata": {},
   "source": [
    "Create a list of collections in the organization directory selected in the dropdown above"
   ]
  },
  {
   "cell_type": "code",
   "execution_count": 20,
   "metadata": {},
   "outputs": [
    {
     "data": {
      "text/plain": [
       "['LTER_2005',\n",
       " 'LTER_2006',\n",
       " 'LTER_2007',\n",
       " 'LTER_2008',\n",
       " 'LTER_2009',\n",
       " 'LTER_2010',\n",
       " 'LTER_2011',\n",
       " 'LTER_2012',\n",
       " 'LTER_2013',\n",
       " 'LTER_2014',\n",
       " 'LTER_2015',\n",
       " 'LTER_2016']"
      ]
     },
     "execution_count": 20,
     "metadata": {},
     "output_type": "execute_result"
    }
   ],
   "source": [
    "Collections = []\n",
    "for (dirpath, dirnames, filenames) in walk(os.path.join('../collection',Organization)):\n",
    "    Collections.extend(dirnames)\n",
    "    break \n",
    "Collections"
   ]
  },
  {
   "cell_type": "markdown",
   "metadata": {
    "collapsed": true
   },
   "source": [
    "Create a function to select the collection the metadata comes from"
   ]
  },
  {
   "cell_type": "code",
   "execution_count": 21,
   "metadata": {
    "collapsed": true
   },
   "outputs": [],
   "source": [
    "def CollectionChoices(collection):\n",
    "    global CollectionChoice\n",
    "    global Collection\n",
    "    Collection=collection"
   ]
  },
  {
   "cell_type": "markdown",
   "metadata": {},
   "source": [
    "Create a dropdown using the Collections list and the organization selector function. This sets the Collection variable."
   ]
  },
  {
   "cell_type": "code",
   "execution_count": 22,
   "metadata": {},
   "outputs": [
    {
     "data": {
      "application/vnd.jupyter.widget-view+json": {
       "model_id": "9f7d1b343c2f4b8ebe0089034a3e7db4"
      }
     },
     "metadata": {},
     "output_type": "display_data"
    }
   ],
   "source": [
    "interactive(CollectionChoices, collection=Collections)"
   ]
  },
  {
   "cell_type": "markdown",
   "metadata": {},
   "source": [
    "Many organizations support multiple metadata dialects, and share their collections in more than one dialect. This list is created the same way the others are. It adds the different dialects the collection is shared in to a list."
   ]
  },
  {
   "cell_type": "code",
   "execution_count": 23,
   "metadata": {
    "collapsed": true
   },
   "outputs": [],
   "source": [
    "Dialects = []\n",
    "for (dirpath, dirnames, filenames) in walk(os.path.join('../collection',Organization,Collection)):\n",
    "    Dialects.extend(dirnames)\n",
    "    break \n",
    "dialectList=Dialects\n"
   ]
  },
  {
   "cell_type": "markdown",
   "metadata": {},
   "source": [
    "Create a function to select the dialect you want to send to the evaluator service."
   ]
  },
  {
   "cell_type": "code",
   "execution_count": 24,
   "metadata": {
    "collapsed": true
   },
   "outputs": [],
   "source": [
    "def dialectChoice(dialect):\n",
    "    global Dialect\n",
    "    Dialect=dialect\n",
    "    print(\"Dialect of the collection is\", Dialect)\n"
   ]
  },
  {
   "cell_type": "markdown",
   "metadata": {},
   "source": [
    "Create a dropdown using the Dialects list and the dialect selector function. This sets the Dialect variable."
   ]
  },
  {
   "cell_type": "code",
   "execution_count": 25,
   "metadata": {},
   "outputs": [
    {
     "data": {
      "application/vnd.jupyter.widget-view+json": {
       "model_id": "45a65edbc403441cb691b88657ea9c4b"
      }
     },
     "metadata": {},
     "output_type": "display_data"
    }
   ],
   "source": [
    "interactive(dialectChoice,dialect=dialectList)"
   ]
  },
  {
   "cell_type": "markdown",
   "metadata": {},
   "source": [
    "change to the zip directory "
   ]
  },
  {
   "cell_type": "code",
   "execution_count": 26,
   "metadata": {},
   "outputs": [
    {
     "name": "stdout",
     "output_type": "stream",
     "text": [
      "/Users/scgordon/MILE2/zip\n"
     ]
    }
   ],
   "source": [
    "%cd ../zip"
   ]
  },
  {
   "cell_type": "markdown",
   "metadata": {},
   "source": [
    "Combine the Organization, Collection, and Dialect variables with the string 'xml' as a relative path and save the string to a variable"
   ]
  },
  {
   "cell_type": "code",
   "execution_count": 27,
   "metadata": {},
   "outputs": [
    {
     "data": {
      "text/plain": [
       "'LTERthroughTime/LTER_2013/EML/xml'"
      ]
     },
     "execution_count": 27,
     "metadata": {},
     "output_type": "execute_result"
    }
   ],
   "source": [
    "MetadataDestination=os.path.join(Organization,Collection,Dialect,'xml')\n",
    "MetadataDestination"
   ]
  },
  {
   "cell_type": "markdown",
   "metadata": {},
   "source": [
    "Use the path to create a directory structure in the zip directory"
   ]
  },
  {
   "cell_type": "code",
   "execution_count": 28,
   "metadata": {
    "collapsed": true
   },
   "outputs": [],
   "source": [
    "os.makedirs(MetadataDestination, exist_ok=True)"
   ]
  },
  {
   "cell_type": "markdown",
   "metadata": {},
   "source": [
    "Create a path to the metadata you selected earlier and save the string to a variable, 'MetadataLocation'."
   ]
  },
  {
   "cell_type": "code",
   "execution_count": 29,
   "metadata": {},
   "outputs": [
    {
     "data": {
      "text/plain": [
       "'../collection/LTERthroughTime/LTER_2013/EML/xml'"
      ]
     },
     "execution_count": 29,
     "metadata": {},
     "output_type": "execute_result"
    }
   ],
   "source": [
    "MetadataLocation=os.path.join('../collection/',Organization,Collection,Dialect,'xml')\n",
    "\n",
    "MetadataLocation"
   ]
  },
  {
   "cell_type": "markdown",
   "metadata": {},
   "source": [
    "Copy the metadata to the new directory structure."
   ]
  },
  {
   "cell_type": "code",
   "execution_count": 30,
   "metadata": {
    "collapsed": true
   },
   "outputs": [],
   "source": [
    "src_files = os.listdir(MetadataLocation)\n",
    "for file_name in src_files:\n",
    "    full_file_name = os.path.join(MetadataLocation, file_name)\n",
    "    if (os.path.isfile(full_file_name)):\n",
    "        shutil.copy(full_file_name, MetadataDestination)"
   ]
  },
  {
   "cell_type": "markdown",
   "metadata": {},
   "source": [
    "Make a zip file to upload to the evaluator service"
   ]
  },
  {
   "cell_type": "code",
   "execution_count": 31,
   "metadata": {},
   "outputs": [
    {
     "data": {
      "text/plain": [
       "'/Users/scgordon/MILE2/upload/metadata.zip'"
      ]
     },
     "execution_count": 31,
     "metadata": {},
     "output_type": "execute_result"
    }
   ],
   "source": [
    "shutil.make_archive('../upload/metadata', 'zip', os.getcwd())"
   ]
  },
  {
   "cell_type": "code",
   "execution_count": 32,
   "metadata": {},
   "outputs": [
    {
     "name": "stdout",
     "output_type": "stream",
     "text": [
      "/Users/scgordon/MILE2/upload\n"
     ]
    }
   ],
   "source": [
    "cd ../upload"
   ]
  },
  {
   "cell_type": "markdown",
   "metadata": {},
   "source": [
    "Send metadata to the Evaluator. Get the responses with csv encoding. This step can take up to a minute and doesn't track progress, but a dataframe or an error message will be returned."
   ]
  },
  {
   "cell_type": "code",
   "execution_count": 33,
   "metadata": {},
   "outputs": [
    {
     "data": {
      "text/html": [
       "<div>\n",
       "<style>\n",
       "    .dataframe thead tr:only-child th {\n",
       "        text-align: right;\n",
       "    }\n",
       "\n",
       "    .dataframe thead th {\n",
       "        text-align: left;\n",
       "    }\n",
       "\n",
       "    .dataframe tbody tr th {\n",
       "        vertical-align: top;\n",
       "    }\n",
       "</style>\n",
       "<table border=\"1\" class=\"dataframe\">\n",
       "  <thead>\n",
       "    <tr style=\"text-align: right;\">\n",
       "      <th></th>\n",
       "      <th>Collection</th>\n",
       "      <th>Dialect</th>\n",
       "      <th>Record</th>\n",
       "      <th>Concept</th>\n",
       "      <th>Content</th>\n",
       "      <th>XPath</th>\n",
       "      <th>DialectDefinition</th>\n",
       "    </tr>\n",
       "  </thead>\n",
       "  <tbody>\n",
       "    <tr>\n",
       "      <th>0</th>\n",
       "      <td>LTER_2013</td>\n",
       "      <td>EML</td>\n",
       "      <td>00065-metadata.xml</td>\n",
       "      <td>Unknown</td>\n",
       "      <td>knb-lter-fce.1142.2</td>\n",
       "      <td>/eml:eml/@packageId</td>\n",
       "      <td>Undefined</td>\n",
       "    </tr>\n",
       "    <tr>\n",
       "      <th>1</th>\n",
       "      <td>LTER_2013</td>\n",
       "      <td>EML</td>\n",
       "      <td>00065-metadata.xml</td>\n",
       "      <td>Unknown</td>\n",
       "      <td>knb</td>\n",
       "      <td>/eml:eml/@system</td>\n",
       "      <td>Undefined</td>\n",
       "    </tr>\n",
       "    <tr>\n",
       "      <th>2</th>\n",
       "      <td>LTER_2013</td>\n",
       "      <td>EML</td>\n",
       "      <td>00065-metadata.xml</td>\n",
       "      <td>Unknown</td>\n",
       "      <td>eml://ecoinformatics.org/eml-2.1.0 http://nis....</td>\n",
       "      <td>/eml:eml/@xsi:schemaLocation</td>\n",
       "      <td>Undefined</td>\n",
       "    </tr>\n",
       "    <tr>\n",
       "      <th>3</th>\n",
       "      <td>LTER_2013</td>\n",
       "      <td>EML</td>\n",
       "      <td>00065-metadata.xml</td>\n",
       "      <td>Security Constraints</td>\n",
       "      <td>uid=FCE,o=lter,dc=ecoinformatics,dc=org read p...</td>\n",
       "      <td>/eml:eml/access</td>\n",
       "      <td>/eml:eml/access</td>\n",
       "    </tr>\n",
       "    <tr>\n",
       "      <th>4</th>\n",
       "      <td>LTER_2013</td>\n",
       "      <td>EML</td>\n",
       "      <td>00065-metadata.xml</td>\n",
       "      <td>Resource Access Constraints</td>\n",
       "      <td>uid=FCE,o=lter,dc=ecoinformatics,dc=org read p...</td>\n",
       "      <td>/eml:eml/access</td>\n",
       "      <td>/eml:eml/access</td>\n",
       "    </tr>\n",
       "    <tr>\n",
       "      <th>5</th>\n",
       "      <td>LTER_2013</td>\n",
       "      <td>EML</td>\n",
       "      <td>00065-metadata.xml</td>\n",
       "      <td>Metadata Access Constraints</td>\n",
       "      <td>uid=FCE,o=lter,dc=ecoinformatics,dc=org read p...</td>\n",
       "      <td>/eml:eml/access</td>\n",
       "      <td>/eml:eml/access</td>\n",
       "    </tr>\n",
       "    <tr>\n",
       "      <th>6</th>\n",
       "      <td>LTER_2013</td>\n",
       "      <td>EML</td>\n",
       "      <td>00065-metadata.xml</td>\n",
       "      <td>Metadata Use Constraints</td>\n",
       "      <td>uid=FCE,o=lter,dc=ecoinformatics,dc=org read p...</td>\n",
       "      <td>/eml:eml/access</td>\n",
       "      <td>/eml:eml/access</td>\n",
       "    </tr>\n",
       "    <tr>\n",
       "      <th>7</th>\n",
       "      <td>LTER_2013</td>\n",
       "      <td>EML</td>\n",
       "      <td>00065-metadata.xml</td>\n",
       "      <td>Resource Status</td>\n",
       "      <td>uid=FCE,o=lter,dc=ecoinformatics,dc=org read p...</td>\n",
       "      <td>/eml:eml/access</td>\n",
       "      <td>/eml:eml/access</td>\n",
       "    </tr>\n",
       "    <tr>\n",
       "      <th>8</th>\n",
       "      <td>LTER_2013</td>\n",
       "      <td>EML</td>\n",
       "      <td>00065-metadata.xml</td>\n",
       "      <td>Unknown</td>\n",
       "      <td>PHY_Price_001</td>\n",
       "      <td>/eml:eml/dataset/@id</td>\n",
       "      <td>Undefined</td>\n",
       "    </tr>\n",
       "    <tr>\n",
       "      <th>9</th>\n",
       "      <td>LTER_2013</td>\n",
       "      <td>EML</td>\n",
       "      <td>00065-metadata.xml</td>\n",
       "      <td>Unknown</td>\n",
       "      <td>PHY_Price_001</td>\n",
       "      <td>/eml:eml/dataset/alternateIdentifier</td>\n",
       "      <td>Undefined</td>\n",
       "    </tr>\n",
       "    <tr>\n",
       "      <th>10</th>\n",
       "      <td>LTER_2013</td>\n",
       "      <td>EML</td>\n",
       "      <td>00065-metadata.xml</td>\n",
       "      <td>Resource Title</td>\n",
       "      <td>Groundwater and surface water phosphorus conce...</td>\n",
       "      <td>/eml:eml/dataset/title</td>\n",
       "      <td>/eml:eml/*/title</td>\n",
       "    </tr>\n",
       "    <tr>\n",
       "      <th>11</th>\n",
       "      <td>LTER_2013</td>\n",
       "      <td>EML</td>\n",
       "      <td>00065-metadata.xml</td>\n",
       "      <td>Resource Long Name</td>\n",
       "      <td>Groundwater and surface water phosphorus conce...</td>\n",
       "      <td>/eml:eml/dataset/title</td>\n",
       "      <td>/eml:eml/*/title</td>\n",
       "    </tr>\n",
       "    <tr>\n",
       "      <th>12</th>\n",
       "      <td>LTER_2013</td>\n",
       "      <td>EML</td>\n",
       "      <td>00065-metadata.xml</td>\n",
       "      <td>Author</td>\n",
       "      <td>Dr Rene Price Florida Coastal Everglades LTER ...</td>\n",
       "      <td>/eml:eml/dataset/creator</td>\n",
       "      <td>/eml:eml/*/creator</td>\n",
       "    </tr>\n",
       "    <tr>\n",
       "      <th>13</th>\n",
       "      <td>LTER_2013</td>\n",
       "      <td>EML</td>\n",
       "      <td>00065-metadata.xml</td>\n",
       "      <td>Author / Originator</td>\n",
       "      <td>Dr Rene Price Florida Coastal Everglades LTER ...</td>\n",
       "      <td>/eml:eml/dataset/creator</td>\n",
       "      <td>/eml:eml/*/creator</td>\n",
       "    </tr>\n",
       "    <tr>\n",
       "      <th>14</th>\n",
       "      <td>LTER_2013</td>\n",
       "      <td>EML</td>\n",
       "      <td>00065-metadata.xml</td>\n",
       "      <td>Metadata Contact</td>\n",
       "      <td>Florida Coastal Everglades LTER Program Florid...</td>\n",
       "      <td>/eml:eml/dataset/metadataProvider</td>\n",
       "      <td>/eml:eml/*/metadataProvider</td>\n",
       "    </tr>\n",
       "    <tr>\n",
       "      <th>15</th>\n",
       "      <td>LTER_2013</td>\n",
       "      <td>EML</td>\n",
       "      <td>00065-metadata.xml</td>\n",
       "      <td>Contributor Name</td>\n",
       "      <td>Rene Price Florida International University 11...</td>\n",
       "      <td>/eml:eml/dataset/associatedParty</td>\n",
       "      <td>/eml:eml/*/associatedParty</td>\n",
       "    </tr>\n",
       "    <tr>\n",
       "      <th>16</th>\n",
       "      <td>LTER_2013</td>\n",
       "      <td>EML</td>\n",
       "      <td>00065-metadata.xml</td>\n",
       "      <td>Resource Creation/Revision Date</td>\n",
       "      <td>2006-06-01</td>\n",
       "      <td>/eml:eml/dataset/pubDate</td>\n",
       "      <td>/eml:eml/*/pubDate</td>\n",
       "    </tr>\n",
       "    <tr>\n",
       "      <th>17</th>\n",
       "      <td>LTER_2013</td>\n",
       "      <td>EML</td>\n",
       "      <td>00065-metadata.xml</td>\n",
       "      <td>Publication Date</td>\n",
       "      <td>2006-06-01</td>\n",
       "      <td>/eml:eml/dataset/pubDate</td>\n",
       "      <td>/eml:eml/*/pubDate</td>\n",
       "    </tr>\n",
       "    <tr>\n",
       "      <th>18</th>\n",
       "      <td>LTER_2013</td>\n",
       "      <td>EML</td>\n",
       "      <td>00065-metadata.xml</td>\n",
       "      <td>Abstract</td>\n",
       "      <td>Seawater intrusion into a coastal aquifer mixe...</td>\n",
       "      <td>/eml:eml/dataset/abstract</td>\n",
       "      <td>/eml:eml/*/abstract</td>\n",
       "    </tr>\n",
       "    <tr>\n",
       "      <th>19</th>\n",
       "      <td>LTER_2013</td>\n",
       "      <td>EML</td>\n",
       "      <td>00065-metadata.xml</td>\n",
       "      <td>Keyword</td>\n",
       "      <td>FCE</td>\n",
       "      <td>/eml:eml/dataset/keywordSet/keyword</td>\n",
       "      <td>/eml:eml/*/keywordSet/keyword[not(contains(@ke...</td>\n",
       "    </tr>\n",
       "    <tr>\n",
       "      <th>20</th>\n",
       "      <td>LTER_2013</td>\n",
       "      <td>EML</td>\n",
       "      <td>00065-metadata.xml</td>\n",
       "      <td>Keyword</td>\n",
       "      <td>Florida Coastal Everglades LTER</td>\n",
       "      <td>/eml:eml/dataset/keywordSet/keyword</td>\n",
       "      <td>/eml:eml/*/keywordSet/keyword[not(contains(@ke...</td>\n",
       "    </tr>\n",
       "    <tr>\n",
       "      <th>21</th>\n",
       "      <td>LTER_2013</td>\n",
       "      <td>EML</td>\n",
       "      <td>00065-metadata.xml</td>\n",
       "      <td>Keyword</td>\n",
       "      <td>ecological research</td>\n",
       "      <td>/eml:eml/dataset/keywordSet/keyword</td>\n",
       "      <td>/eml:eml/*/keywordSet/keyword[not(contains(@ke...</td>\n",
       "    </tr>\n",
       "    <tr>\n",
       "      <th>22</th>\n",
       "      <td>LTER_2013</td>\n",
       "      <td>EML</td>\n",
       "      <td>00065-metadata.xml</td>\n",
       "      <td>Keyword</td>\n",
       "      <td>long-term monitoring</td>\n",
       "      <td>/eml:eml/dataset/keywordSet/keyword</td>\n",
       "      <td>/eml:eml/*/keywordSet/keyword[not(contains(@ke...</td>\n",
       "    </tr>\n",
       "    <tr>\n",
       "      <th>23</th>\n",
       "      <td>LTER_2013</td>\n",
       "      <td>EML</td>\n",
       "      <td>00065-metadata.xml</td>\n",
       "      <td>Keyword</td>\n",
       "      <td>water</td>\n",
       "      <td>/eml:eml/dataset/keywordSet/keyword</td>\n",
       "      <td>/eml:eml/*/keywordSet/keyword[not(contains(@ke...</td>\n",
       "    </tr>\n",
       "    <tr>\n",
       "      <th>24</th>\n",
       "      <td>LTER_2013</td>\n",
       "      <td>EML</td>\n",
       "      <td>00065-metadata.xml</td>\n",
       "      <td>Keyword</td>\n",
       "      <td>groundwater</td>\n",
       "      <td>/eml:eml/dataset/keywordSet/keyword</td>\n",
       "      <td>/eml:eml/*/keywordSet/keyword[not(contains(@ke...</td>\n",
       "    </tr>\n",
       "    <tr>\n",
       "      <th>25</th>\n",
       "      <td>LTER_2013</td>\n",
       "      <td>EML</td>\n",
       "      <td>00065-metadata.xml</td>\n",
       "      <td>Keyword</td>\n",
       "      <td>phosphorus</td>\n",
       "      <td>/eml:eml/dataset/keywordSet/keyword</td>\n",
       "      <td>/eml:eml/*/keywordSet/keyword[not(contains(@ke...</td>\n",
       "    </tr>\n",
       "    <tr>\n",
       "      <th>26</th>\n",
       "      <td>LTER_2013</td>\n",
       "      <td>EML</td>\n",
       "      <td>00065-metadata.xml</td>\n",
       "      <td>Keyword</td>\n",
       "      <td>salinity</td>\n",
       "      <td>/eml:eml/dataset/keywordSet/keyword</td>\n",
       "      <td>/eml:eml/*/keywordSet/keyword[not(contains(@ke...</td>\n",
       "    </tr>\n",
       "    <tr>\n",
       "      <th>27</th>\n",
       "      <td>LTER_2013</td>\n",
       "      <td>EML</td>\n",
       "      <td>00065-metadata.xml</td>\n",
       "      <td>Keyword</td>\n",
       "      <td>pH</td>\n",
       "      <td>/eml:eml/dataset/keywordSet/keyword</td>\n",
       "      <td>/eml:eml/*/keywordSet/keyword[not(contains(@ke...</td>\n",
       "    </tr>\n",
       "    <tr>\n",
       "      <th>28</th>\n",
       "      <td>LTER_2013</td>\n",
       "      <td>EML</td>\n",
       "      <td>00065-metadata.xml</td>\n",
       "      <td>Keyword</td>\n",
       "      <td>total phosphorus</td>\n",
       "      <td>/eml:eml/dataset/keywordSet/keyword</td>\n",
       "      <td>/eml:eml/*/keywordSet/keyword[not(contains(@ke...</td>\n",
       "    </tr>\n",
       "    <tr>\n",
       "      <th>29</th>\n",
       "      <td>LTER_2013</td>\n",
       "      <td>EML</td>\n",
       "      <td>00065-metadata.xml</td>\n",
       "      <td>Keyword</td>\n",
       "      <td>processes</td>\n",
       "      <td>/eml:eml/dataset/keywordSet/keyword</td>\n",
       "      <td>/eml:eml/*/keywordSet/keyword[not(contains(@ke...</td>\n",
       "    </tr>\n",
       "    <tr>\n",
       "      <th>...</th>\n",
       "      <td>...</td>\n",
       "      <td>...</td>\n",
       "      <td>...</td>\n",
       "      <td>...</td>\n",
       "      <td>...</td>\n",
       "      <td>...</td>\n",
       "      <td>...</td>\n",
       "    </tr>\n",
       "    <tr>\n",
       "      <th>8724</th>\n",
       "      <td>LTER_2013</td>\n",
       "      <td>EML</td>\n",
       "      <td>00027-metadata.xml</td>\n",
       "      <td>Unknown</td>\n",
       "      <td>ST_PP_Iwaniec_001</td>\n",
       "      <td>/eml:eml/dataset/dataTable/physical/objectName</td>\n",
       "      <td>Undefined</td>\n",
       "    </tr>\n",
       "    <tr>\n",
       "      <th>8725</th>\n",
       "      <td>LTER_2013</td>\n",
       "      <td>EML</td>\n",
       "      <td>00027-metadata.xml</td>\n",
       "      <td>Unknown</td>\n",
       "      <td>4</td>\n",
       "      <td>/eml:eml/dataset/dataTable/physical/size</td>\n",
       "      <td>Undefined</td>\n",
       "    </tr>\n",
       "    <tr>\n",
       "      <th>8726</th>\n",
       "      <td>LTER_2013</td>\n",
       "      <td>EML</td>\n",
       "      <td>00027-metadata.xml</td>\n",
       "      <td>Unknown</td>\n",
       "      <td>KB</td>\n",
       "      <td>/eml:eml/dataset/dataTable/physical/size/@unit</td>\n",
       "      <td>Undefined</td>\n",
       "    </tr>\n",
       "    <tr>\n",
       "      <th>8727</th>\n",
       "      <td>LTER_2013</td>\n",
       "      <td>EML</td>\n",
       "      <td>00027-metadata.xml</td>\n",
       "      <td>Unknown</td>\n",
       "      <td>ASCII</td>\n",
       "      <td>/eml:eml/dataset/dataTable/physical/characterE...</td>\n",
       "      <td>Undefined</td>\n",
       "    </tr>\n",
       "    <tr>\n",
       "      <th>8728</th>\n",
       "      <td>LTER_2013</td>\n",
       "      <td>EML</td>\n",
       "      <td>00027-metadata.xml</td>\n",
       "      <td>Resource Format</td>\n",
       "      <td>1 \\n column ,</td>\n",
       "      <td>/eml:eml/dataset/dataTable/physical/dataFormat</td>\n",
       "      <td>/eml:eml/*/dataTable/physical/dataFormat</td>\n",
       "    </tr>\n",
       "    <tr>\n",
       "      <th>8729</th>\n",
       "      <td>LTER_2013</td>\n",
       "      <td>EML</td>\n",
       "      <td>00027-metadata.xml</td>\n",
       "      <td>Distribution Format</td>\n",
       "      <td>1 \\n column ,</td>\n",
       "      <td>/eml:eml/dataset/dataTable/physical/dataFormat</td>\n",
       "      <td>/eml:eml/*/dataTable/physical/dataFormat</td>\n",
       "    </tr>\n",
       "    <tr>\n",
       "      <th>8730</th>\n",
       "      <td>LTER_2013</td>\n",
       "      <td>EML</td>\n",
       "      <td>00027-metadata.xml</td>\n",
       "      <td>Unknown</td>\n",
       "      <td>http://fcelter.fiu.edu/perl/public_data_downlo...</td>\n",
       "      <td>/eml:eml/dataset/dataTable/physical/distributi...</td>\n",
       "      <td>Undefined</td>\n",
       "    </tr>\n",
       "    <tr>\n",
       "      <th>8731</th>\n",
       "      <td>LTER_2013</td>\n",
       "      <td>EML</td>\n",
       "      <td>00027-metadata.xml</td>\n",
       "      <td>Unknown</td>\n",
       "      <td>download</td>\n",
       "      <td>/eml:eml/dataset/dataTable/physical/distributi...</td>\n",
       "      <td>Undefined</td>\n",
       "    </tr>\n",
       "    <tr>\n",
       "      <th>8732</th>\n",
       "      <td>LTER_2013</td>\n",
       "      <td>EML</td>\n",
       "      <td>00027-metadata.xml</td>\n",
       "      <td>Unknown</td>\n",
       "      <td>knb</td>\n",
       "      <td>/eml:eml/dataset/dataTable/physical/distributi...</td>\n",
       "      <td>Undefined</td>\n",
       "    </tr>\n",
       "    <tr>\n",
       "      <th>8733</th>\n",
       "      <td>LTER_2013</td>\n",
       "      <td>EML</td>\n",
       "      <td>00027-metadata.xml</td>\n",
       "      <td>Unknown</td>\n",
       "      <td>allowFirst</td>\n",
       "      <td>/eml:eml/dataset/dataTable/physical/distributi...</td>\n",
       "      <td>Undefined</td>\n",
       "    </tr>\n",
       "    <tr>\n",
       "      <th>8734</th>\n",
       "      <td>LTER_2013</td>\n",
       "      <td>EML</td>\n",
       "      <td>00027-metadata.xml</td>\n",
       "      <td>Unknown</td>\n",
       "      <td>document</td>\n",
       "      <td>/eml:eml/dataset/dataTable/physical/distributi...</td>\n",
       "      <td>Undefined</td>\n",
       "    </tr>\n",
       "    <tr>\n",
       "      <th>8735</th>\n",
       "      <td>LTER_2013</td>\n",
       "      <td>EML</td>\n",
       "      <td>00027-metadata.xml</td>\n",
       "      <td>Unknown</td>\n",
       "      <td>uid=FCE,o=lter,dc=ecoinformatics,dc=org</td>\n",
       "      <td>/eml:eml/dataset/dataTable/physical/distributi...</td>\n",
       "      <td>Undefined</td>\n",
       "    </tr>\n",
       "    <tr>\n",
       "      <th>8736</th>\n",
       "      <td>LTER_2013</td>\n",
       "      <td>EML</td>\n",
       "      <td>00027-metadata.xml</td>\n",
       "      <td>Unknown</td>\n",
       "      <td>read</td>\n",
       "      <td>/eml:eml/dataset/dataTable/physical/distributi...</td>\n",
       "      <td>Undefined</td>\n",
       "    </tr>\n",
       "    <tr>\n",
       "      <th>8737</th>\n",
       "      <td>LTER_2013</td>\n",
       "      <td>EML</td>\n",
       "      <td>00027-metadata.xml</td>\n",
       "      <td>Unknown</td>\n",
       "      <td>public</td>\n",
       "      <td>/eml:eml/dataset/dataTable/physical/distributi...</td>\n",
       "      <td>Undefined</td>\n",
       "    </tr>\n",
       "    <tr>\n",
       "      <th>8738</th>\n",
       "      <td>LTER_2013</td>\n",
       "      <td>EML</td>\n",
       "      <td>00027-metadata.xml</td>\n",
       "      <td>Unknown</td>\n",
       "      <td>read</td>\n",
       "      <td>/eml:eml/dataset/dataTable/physical/distributi...</td>\n",
       "      <td>Undefined</td>\n",
       "    </tr>\n",
       "    <tr>\n",
       "      <th>8739</th>\n",
       "      <td>LTER_2013</td>\n",
       "      <td>EML</td>\n",
       "      <td>00027-metadata.xml</td>\n",
       "      <td>Attribute List</td>\n",
       "      <td>PeriphytonSource sitename Name of LTER site wh...</td>\n",
       "      <td>/eml:eml/dataset/dataTable/attributeList</td>\n",
       "      <td>/eml:eml/*/dataTable/attributeList</td>\n",
       "    </tr>\n",
       "    <tr>\n",
       "      <th>8740</th>\n",
       "      <td>LTER_2013</td>\n",
       "      <td>EML</td>\n",
       "      <td>00027-metadata.xml</td>\n",
       "      <td>Unknown</td>\n",
       "      <td>14</td>\n",
       "      <td>/eml:eml/dataset/dataTable/numberOfRecords</td>\n",
       "      <td>Undefined</td>\n",
       "    </tr>\n",
       "    <tr>\n",
       "      <th>8741</th>\n",
       "      <td>LTER_2013</td>\n",
       "      <td>EML</td>\n",
       "      <td>00027-metadata.xml</td>\n",
       "      <td>Unknown</td>\n",
       "      <td>eml://ecoinformatics.org/eml-2.1.0 http://fcel...</td>\n",
       "      <td>/eml:eml/additionalMetadata/metadata/ns2:unitL...</td>\n",
       "      <td>Undefined</td>\n",
       "    </tr>\n",
       "    <tr>\n",
       "      <th>8742</th>\n",
       "      <td>LTER_2013</td>\n",
       "      <td>EML</td>\n",
       "      <td>00027-metadata.xml</td>\n",
       "      <td>Unknown</td>\n",
       "      <td>milligramsPerGramPerHour</td>\n",
       "      <td>/eml:eml/additionalMetadata/metadata/ns2:unitL...</td>\n",
       "      <td>Undefined</td>\n",
       "    </tr>\n",
       "    <tr>\n",
       "      <th>8743</th>\n",
       "      <td>LTER_2013</td>\n",
       "      <td>EML</td>\n",
       "      <td>00027-metadata.xml</td>\n",
       "      <td>Unknown</td>\n",
       "      <td>1</td>\n",
       "      <td>/eml:eml/additionalMetadata/metadata/ns2:unitL...</td>\n",
       "      <td>Undefined</td>\n",
       "    </tr>\n",
       "    <tr>\n",
       "      <th>8744</th>\n",
       "      <td>LTER_2013</td>\n",
       "      <td>EML</td>\n",
       "      <td>00027-metadata.xml</td>\n",
       "      <td>Unknown</td>\n",
       "      <td>milligramsPerGramPerHour</td>\n",
       "      <td>/eml:eml/additionalMetadata/metadata/ns2:unitL...</td>\n",
       "      <td>Undefined</td>\n",
       "    </tr>\n",
       "    <tr>\n",
       "      <th>8745</th>\n",
       "      <td>LTER_2013</td>\n",
       "      <td>EML</td>\n",
       "      <td>00027-metadata.xml</td>\n",
       "      <td>Unknown</td>\n",
       "      <td>amountOfSubstanceWeightFlux</td>\n",
       "      <td>/eml:eml/additionalMetadata/metadata/ns2:unitL...</td>\n",
       "      <td>Undefined</td>\n",
       "    </tr>\n",
       "    <tr>\n",
       "      <th>8746</th>\n",
       "      <td>LTER_2013</td>\n",
       "      <td>EML</td>\n",
       "      <td>00027-metadata.xml</td>\n",
       "      <td>Unknown</td>\n",
       "      <td>milligrams per gram per hour (rate)</td>\n",
       "      <td>/eml:eml/additionalMetadata/metadata/ns2:unitL...</td>\n",
       "      <td>Undefined</td>\n",
       "    </tr>\n",
       "    <tr>\n",
       "      <th>8747</th>\n",
       "      <td>LTER_2013</td>\n",
       "      <td>EML</td>\n",
       "      <td>00027-metadata.xml</td>\n",
       "      <td>Unknown</td>\n",
       "      <td>Short-term</td>\n",
       "      <td>/eml:eml/additionalMetadata/metadata/additiona...</td>\n",
       "      <td>Undefined</td>\n",
       "    </tr>\n",
       "    <tr>\n",
       "      <th>8748</th>\n",
       "      <td>LTER_2013</td>\n",
       "      <td>EML</td>\n",
       "      <td>00027-metadata.xml</td>\n",
       "      <td>Unknown</td>\n",
       "      <td>Type II- Related Research not funded by the FC...</td>\n",
       "      <td>/eml:eml/additionalMetadata/metadata/additiona...</td>\n",
       "      <td>Undefined</td>\n",
       "    </tr>\n",
       "    <tr>\n",
       "      <th>8749</th>\n",
       "      <td>LTER_2013</td>\n",
       "      <td>EML</td>\n",
       "      <td>00027-metadata.xml</td>\n",
       "      <td>Unknown</td>\n",
       "      <td>2005-04-01</td>\n",
       "      <td>/eml:eml/additionalMetadata/metadata/additiona...</td>\n",
       "      <td>Undefined</td>\n",
       "    </tr>\n",
       "    <tr>\n",
       "      <th>8750</th>\n",
       "      <td>LTER_2013</td>\n",
       "      <td>EML</td>\n",
       "      <td>00027-metadata.xml</td>\n",
       "      <td>Unknown</td>\n",
       "      <td>TS/Ph4,TS/Ph5</td>\n",
       "      <td>/eml:eml/additionalMetadata/metadata/additiona...</td>\n",
       "      <td>Undefined</td>\n",
       "    </tr>\n",
       "    <tr>\n",
       "      <th>8751</th>\n",
       "      <td>LTER_2013</td>\n",
       "      <td>EML</td>\n",
       "      <td>00027-metadata.xml</td>\n",
       "      <td>Unknown</td>\n",
       "      <td>Our long term research program focuses on the ...</td>\n",
       "      <td>/eml:eml/additionalMetadata/metadata/additiona...</td>\n",
       "      <td>Undefined</td>\n",
       "    </tr>\n",
       "    <tr>\n",
       "      <th>8752</th>\n",
       "      <td>LTER_2013</td>\n",
       "      <td>EML</td>\n",
       "      <td>00027-metadata.xml</td>\n",
       "      <td>Unknown</td>\n",
       "      <td>Experiment not conducted in 2001, therefore no...</td>\n",
       "      <td>/eml:eml/additionalMetadata/metadata/additiona...</td>\n",
       "      <td>Undefined</td>\n",
       "    </tr>\n",
       "    <tr>\n",
       "      <th>8753</th>\n",
       "      <td>LTER_2013</td>\n",
       "      <td>EML</td>\n",
       "      <td>00027-metadata.xml</td>\n",
       "      <td>Unknown</td>\n",
       "      <td>This is a short-term primary productionl datas...</td>\n",
       "      <td>/eml:eml/additionalMetadata/metadata/additiona...</td>\n",
       "      <td>Undefined</td>\n",
       "    </tr>\n",
       "  </tbody>\n",
       "</table>\n",
       "<p>8754 rows × 7 columns</p>\n",
       "</div>"
      ],
      "text/plain": [
       "     Collection Dialect              Record                          Concept  \\\n",
       "0     LTER_2013     EML  00065-metadata.xml                          Unknown   \n",
       "1     LTER_2013     EML  00065-metadata.xml                          Unknown   \n",
       "2     LTER_2013     EML  00065-metadata.xml                          Unknown   \n",
       "3     LTER_2013     EML  00065-metadata.xml             Security Constraints   \n",
       "4     LTER_2013     EML  00065-metadata.xml      Resource Access Constraints   \n",
       "5     LTER_2013     EML  00065-metadata.xml      Metadata Access Constraints   \n",
       "6     LTER_2013     EML  00065-metadata.xml         Metadata Use Constraints   \n",
       "7     LTER_2013     EML  00065-metadata.xml                  Resource Status   \n",
       "8     LTER_2013     EML  00065-metadata.xml                          Unknown   \n",
       "9     LTER_2013     EML  00065-metadata.xml                          Unknown   \n",
       "10    LTER_2013     EML  00065-metadata.xml                   Resource Title   \n",
       "11    LTER_2013     EML  00065-metadata.xml               Resource Long Name   \n",
       "12    LTER_2013     EML  00065-metadata.xml                           Author   \n",
       "13    LTER_2013     EML  00065-metadata.xml              Author / Originator   \n",
       "14    LTER_2013     EML  00065-metadata.xml                 Metadata Contact   \n",
       "15    LTER_2013     EML  00065-metadata.xml                 Contributor Name   \n",
       "16    LTER_2013     EML  00065-metadata.xml  Resource Creation/Revision Date   \n",
       "17    LTER_2013     EML  00065-metadata.xml                 Publication Date   \n",
       "18    LTER_2013     EML  00065-metadata.xml                         Abstract   \n",
       "19    LTER_2013     EML  00065-metadata.xml                          Keyword   \n",
       "20    LTER_2013     EML  00065-metadata.xml                          Keyword   \n",
       "21    LTER_2013     EML  00065-metadata.xml                          Keyword   \n",
       "22    LTER_2013     EML  00065-metadata.xml                          Keyword   \n",
       "23    LTER_2013     EML  00065-metadata.xml                          Keyword   \n",
       "24    LTER_2013     EML  00065-metadata.xml                          Keyword   \n",
       "25    LTER_2013     EML  00065-metadata.xml                          Keyword   \n",
       "26    LTER_2013     EML  00065-metadata.xml                          Keyword   \n",
       "27    LTER_2013     EML  00065-metadata.xml                          Keyword   \n",
       "28    LTER_2013     EML  00065-metadata.xml                          Keyword   \n",
       "29    LTER_2013     EML  00065-metadata.xml                          Keyword   \n",
       "...         ...     ...                 ...                              ...   \n",
       "8724  LTER_2013     EML  00027-metadata.xml                          Unknown   \n",
       "8725  LTER_2013     EML  00027-metadata.xml                          Unknown   \n",
       "8726  LTER_2013     EML  00027-metadata.xml                          Unknown   \n",
       "8727  LTER_2013     EML  00027-metadata.xml                          Unknown   \n",
       "8728  LTER_2013     EML  00027-metadata.xml                  Resource Format   \n",
       "8729  LTER_2013     EML  00027-metadata.xml              Distribution Format   \n",
       "8730  LTER_2013     EML  00027-metadata.xml                          Unknown   \n",
       "8731  LTER_2013     EML  00027-metadata.xml                          Unknown   \n",
       "8732  LTER_2013     EML  00027-metadata.xml                          Unknown   \n",
       "8733  LTER_2013     EML  00027-metadata.xml                          Unknown   \n",
       "8734  LTER_2013     EML  00027-metadata.xml                          Unknown   \n",
       "8735  LTER_2013     EML  00027-metadata.xml                          Unknown   \n",
       "8736  LTER_2013     EML  00027-metadata.xml                          Unknown   \n",
       "8737  LTER_2013     EML  00027-metadata.xml                          Unknown   \n",
       "8738  LTER_2013     EML  00027-metadata.xml                          Unknown   \n",
       "8739  LTER_2013     EML  00027-metadata.xml                   Attribute List   \n",
       "8740  LTER_2013     EML  00027-metadata.xml                          Unknown   \n",
       "8741  LTER_2013     EML  00027-metadata.xml                          Unknown   \n",
       "8742  LTER_2013     EML  00027-metadata.xml                          Unknown   \n",
       "8743  LTER_2013     EML  00027-metadata.xml                          Unknown   \n",
       "8744  LTER_2013     EML  00027-metadata.xml                          Unknown   \n",
       "8745  LTER_2013     EML  00027-metadata.xml                          Unknown   \n",
       "8746  LTER_2013     EML  00027-metadata.xml                          Unknown   \n",
       "8747  LTER_2013     EML  00027-metadata.xml                          Unknown   \n",
       "8748  LTER_2013     EML  00027-metadata.xml                          Unknown   \n",
       "8749  LTER_2013     EML  00027-metadata.xml                          Unknown   \n",
       "8750  LTER_2013     EML  00027-metadata.xml                          Unknown   \n",
       "8751  LTER_2013     EML  00027-metadata.xml                          Unknown   \n",
       "8752  LTER_2013     EML  00027-metadata.xml                          Unknown   \n",
       "8753  LTER_2013     EML  00027-metadata.xml                          Unknown   \n",
       "\n",
       "                                                Content  \\\n",
       "0                                   knb-lter-fce.1142.2   \n",
       "1                                                   knb   \n",
       "2     eml://ecoinformatics.org/eml-2.1.0 http://nis....   \n",
       "3     uid=FCE,o=lter,dc=ecoinformatics,dc=org read p...   \n",
       "4     uid=FCE,o=lter,dc=ecoinformatics,dc=org read p...   \n",
       "5     uid=FCE,o=lter,dc=ecoinformatics,dc=org read p...   \n",
       "6     uid=FCE,o=lter,dc=ecoinformatics,dc=org read p...   \n",
       "7     uid=FCE,o=lter,dc=ecoinformatics,dc=org read p...   \n",
       "8                                         PHY_Price_001   \n",
       "9                                         PHY_Price_001   \n",
       "10    Groundwater and surface water phosphorus conce...   \n",
       "11    Groundwater and surface water phosphorus conce...   \n",
       "12    Dr Rene Price Florida Coastal Everglades LTER ...   \n",
       "13    Dr Rene Price Florida Coastal Everglades LTER ...   \n",
       "14    Florida Coastal Everglades LTER Program Florid...   \n",
       "15    Rene Price Florida International University 11...   \n",
       "16                                           2006-06-01   \n",
       "17                                           2006-06-01   \n",
       "18    Seawater intrusion into a coastal aquifer mixe...   \n",
       "19                                                  FCE   \n",
       "20                      Florida Coastal Everglades LTER   \n",
       "21                                  ecological research   \n",
       "22                                 long-term monitoring   \n",
       "23                                                water   \n",
       "24                                          groundwater   \n",
       "25                                           phosphorus   \n",
       "26                                             salinity   \n",
       "27                                                   pH   \n",
       "28                                     total phosphorus   \n",
       "29                                            processes   \n",
       "...                                                 ...   \n",
       "8724                                  ST_PP_Iwaniec_001   \n",
       "8725                                                  4   \n",
       "8726                                                 KB   \n",
       "8727                                              ASCII   \n",
       "8728                                      1 \\n column ,   \n",
       "8729                                      1 \\n column ,   \n",
       "8730  http://fcelter.fiu.edu/perl/public_data_downlo...   \n",
       "8731                                           download   \n",
       "8732                                                knb   \n",
       "8733                                         allowFirst   \n",
       "8734                                           document   \n",
       "8735            uid=FCE,o=lter,dc=ecoinformatics,dc=org   \n",
       "8736                                               read   \n",
       "8737                                             public   \n",
       "8738                                               read   \n",
       "8739  PeriphytonSource sitename Name of LTER site wh...   \n",
       "8740                                                 14   \n",
       "8741  eml://ecoinformatics.org/eml-2.1.0 http://fcel...   \n",
       "8742                           milligramsPerGramPerHour   \n",
       "8743                                                  1   \n",
       "8744                           milligramsPerGramPerHour   \n",
       "8745                        amountOfSubstanceWeightFlux   \n",
       "8746                milligrams per gram per hour (rate)   \n",
       "8747                                         Short-term   \n",
       "8748  Type II- Related Research not funded by the FC...   \n",
       "8749                                         2005-04-01   \n",
       "8750                                      TS/Ph4,TS/Ph5   \n",
       "8751  Our long term research program focuses on the ...   \n",
       "8752  Experiment not conducted in 2001, therefore no...   \n",
       "8753  This is a short-term primary productionl datas...   \n",
       "\n",
       "                                                  XPath  \\\n",
       "0                                   /eml:eml/@packageId   \n",
       "1                                      /eml:eml/@system   \n",
       "2                          /eml:eml/@xsi:schemaLocation   \n",
       "3                                       /eml:eml/access   \n",
       "4                                       /eml:eml/access   \n",
       "5                                       /eml:eml/access   \n",
       "6                                       /eml:eml/access   \n",
       "7                                       /eml:eml/access   \n",
       "8                                  /eml:eml/dataset/@id   \n",
       "9                  /eml:eml/dataset/alternateIdentifier   \n",
       "10                               /eml:eml/dataset/title   \n",
       "11                               /eml:eml/dataset/title   \n",
       "12                             /eml:eml/dataset/creator   \n",
       "13                             /eml:eml/dataset/creator   \n",
       "14                    /eml:eml/dataset/metadataProvider   \n",
       "15                     /eml:eml/dataset/associatedParty   \n",
       "16                             /eml:eml/dataset/pubDate   \n",
       "17                             /eml:eml/dataset/pubDate   \n",
       "18                            /eml:eml/dataset/abstract   \n",
       "19                  /eml:eml/dataset/keywordSet/keyword   \n",
       "20                  /eml:eml/dataset/keywordSet/keyword   \n",
       "21                  /eml:eml/dataset/keywordSet/keyword   \n",
       "22                  /eml:eml/dataset/keywordSet/keyword   \n",
       "23                  /eml:eml/dataset/keywordSet/keyword   \n",
       "24                  /eml:eml/dataset/keywordSet/keyword   \n",
       "25                  /eml:eml/dataset/keywordSet/keyword   \n",
       "26                  /eml:eml/dataset/keywordSet/keyword   \n",
       "27                  /eml:eml/dataset/keywordSet/keyword   \n",
       "28                  /eml:eml/dataset/keywordSet/keyword   \n",
       "29                  /eml:eml/dataset/keywordSet/keyword   \n",
       "...                                                 ...   \n",
       "8724     /eml:eml/dataset/dataTable/physical/objectName   \n",
       "8725           /eml:eml/dataset/dataTable/physical/size   \n",
       "8726     /eml:eml/dataset/dataTable/physical/size/@unit   \n",
       "8727  /eml:eml/dataset/dataTable/physical/characterE...   \n",
       "8728     /eml:eml/dataset/dataTable/physical/dataFormat   \n",
       "8729     /eml:eml/dataset/dataTable/physical/dataFormat   \n",
       "8730  /eml:eml/dataset/dataTable/physical/distributi...   \n",
       "8731  /eml:eml/dataset/dataTable/physical/distributi...   \n",
       "8732  /eml:eml/dataset/dataTable/physical/distributi...   \n",
       "8733  /eml:eml/dataset/dataTable/physical/distributi...   \n",
       "8734  /eml:eml/dataset/dataTable/physical/distributi...   \n",
       "8735  /eml:eml/dataset/dataTable/physical/distributi...   \n",
       "8736  /eml:eml/dataset/dataTable/physical/distributi...   \n",
       "8737  /eml:eml/dataset/dataTable/physical/distributi...   \n",
       "8738  /eml:eml/dataset/dataTable/physical/distributi...   \n",
       "8739           /eml:eml/dataset/dataTable/attributeList   \n",
       "8740         /eml:eml/dataset/dataTable/numberOfRecords   \n",
       "8741  /eml:eml/additionalMetadata/metadata/ns2:unitL...   \n",
       "8742  /eml:eml/additionalMetadata/metadata/ns2:unitL...   \n",
       "8743  /eml:eml/additionalMetadata/metadata/ns2:unitL...   \n",
       "8744  /eml:eml/additionalMetadata/metadata/ns2:unitL...   \n",
       "8745  /eml:eml/additionalMetadata/metadata/ns2:unitL...   \n",
       "8746  /eml:eml/additionalMetadata/metadata/ns2:unitL...   \n",
       "8747  /eml:eml/additionalMetadata/metadata/additiona...   \n",
       "8748  /eml:eml/additionalMetadata/metadata/additiona...   \n",
       "8749  /eml:eml/additionalMetadata/metadata/additiona...   \n",
       "8750  /eml:eml/additionalMetadata/metadata/additiona...   \n",
       "8751  /eml:eml/additionalMetadata/metadata/additiona...   \n",
       "8752  /eml:eml/additionalMetadata/metadata/additiona...   \n",
       "8753  /eml:eml/additionalMetadata/metadata/additiona...   \n",
       "\n",
       "                                      DialectDefinition  \n",
       "0                                             Undefined  \n",
       "1                                             Undefined  \n",
       "2                                             Undefined  \n",
       "3                                       /eml:eml/access  \n",
       "4                                       /eml:eml/access  \n",
       "5                                       /eml:eml/access  \n",
       "6                                       /eml:eml/access  \n",
       "7                                       /eml:eml/access  \n",
       "8                                             Undefined  \n",
       "9                                             Undefined  \n",
       "10                                     /eml:eml/*/title  \n",
       "11                                     /eml:eml/*/title  \n",
       "12                                   /eml:eml/*/creator  \n",
       "13                                   /eml:eml/*/creator  \n",
       "14                          /eml:eml/*/metadataProvider  \n",
       "15                           /eml:eml/*/associatedParty  \n",
       "16                                   /eml:eml/*/pubDate  \n",
       "17                                   /eml:eml/*/pubDate  \n",
       "18                                  /eml:eml/*/abstract  \n",
       "19    /eml:eml/*/keywordSet/keyword[not(contains(@ke...  \n",
       "20    /eml:eml/*/keywordSet/keyword[not(contains(@ke...  \n",
       "21    /eml:eml/*/keywordSet/keyword[not(contains(@ke...  \n",
       "22    /eml:eml/*/keywordSet/keyword[not(contains(@ke...  \n",
       "23    /eml:eml/*/keywordSet/keyword[not(contains(@ke...  \n",
       "24    /eml:eml/*/keywordSet/keyword[not(contains(@ke...  \n",
       "25    /eml:eml/*/keywordSet/keyword[not(contains(@ke...  \n",
       "26    /eml:eml/*/keywordSet/keyword[not(contains(@ke...  \n",
       "27    /eml:eml/*/keywordSet/keyword[not(contains(@ke...  \n",
       "28    /eml:eml/*/keywordSet/keyword[not(contains(@ke...  \n",
       "29    /eml:eml/*/keywordSet/keyword[not(contains(@ke...  \n",
       "...                                                 ...  \n",
       "8724                                          Undefined  \n",
       "8725                                          Undefined  \n",
       "8726                                          Undefined  \n",
       "8727                                          Undefined  \n",
       "8728           /eml:eml/*/dataTable/physical/dataFormat  \n",
       "8729           /eml:eml/*/dataTable/physical/dataFormat  \n",
       "8730                                          Undefined  \n",
       "8731                                          Undefined  \n",
       "8732                                          Undefined  \n",
       "8733                                          Undefined  \n",
       "8734                                          Undefined  \n",
       "8735                                          Undefined  \n",
       "8736                                          Undefined  \n",
       "8737                                          Undefined  \n",
       "8738                                          Undefined  \n",
       "8739                 /eml:eml/*/dataTable/attributeList  \n",
       "8740                                          Undefined  \n",
       "8741                                          Undefined  \n",
       "8742                                          Undefined  \n",
       "8743                                          Undefined  \n",
       "8744                                          Undefined  \n",
       "8745                                          Undefined  \n",
       "8746                                          Undefined  \n",
       "8747                                          Undefined  \n",
       "8748                                          Undefined  \n",
       "8749                                          Undefined  \n",
       "8750                                          Undefined  \n",
       "8751                                          Undefined  \n",
       "8752                                          Undefined  \n",
       "8753                                          Undefined  \n",
       "\n",
       "[8754 rows x 7 columns]"
      ]
     },
     "execution_count": 33,
     "metadata": {},
     "output_type": "execute_result"
    }
   ],
   "source": [
    "url = 'http://metadig.nceas.ucsb.edu/metadata/evaluator'\n",
    "files = {'zipxml': open('metadata.zip', 'rb')}\n",
    "r = requests.post(url, files=files)\n",
    "r.raise_for_status()\n",
    "CollectionConceptsDF = pd.read_csv(io.StringIO(r.text), quotechar='\"')\n",
    "CollectionConceptsDF"
   ]
  },
  {
   "cell_type": "markdown",
   "metadata": {},
   "source": [
    "Save the dataframe as a csv for further analysis"
   ]
  },
  {
   "cell_type": "code",
   "execution_count": 23,
   "metadata": {
    "collapsed": true
   },
   "outputs": [],
   "source": [
    "CollectionConceptsDF.to_csv('../data/data.csv', mode = 'w', index=False)"
   ]
  },
  {
   "cell_type": "markdown",
   "metadata": {},
   "source": [
    "Clear up temporary files and directories, switch to the data directory"
   ]
  },
  {
   "cell_type": "code",
   "execution_count": 24,
   "metadata": {},
   "outputs": [
    {
     "name": "stdout",
     "output_type": "stream",
     "text": [
      "/Users/scgordon/MILE2\n",
      "/Users/scgordon/MILE2/zip\n",
      "/Users/scgordon/MILE2/data\n"
     ]
    }
   ],
   "source": [
    "%cd ../\n",
    "shutil.rmtree('upload')\n",
    "%cd zip\n",
    "shutil.rmtree(Organization)\n",
    "%cd ../data"
   ]
  },
  {
   "cell_type": "markdown",
   "metadata": {},
   "source": [
    "Copy the csv to a directory, named for the organization that had the metadata in it's holdings. Give it a filename matching the the metadata collection and dialect"
   ]
  },
  {
   "cell_type": "code",
   "execution_count": 25,
   "metadata": {},
   "outputs": [
    {
     "data": {
      "text/plain": [
       "'NASA/GHRC_CSDGM_data.csv'"
      ]
     },
     "execution_count": 25,
     "metadata": {},
     "output_type": "execute_result"
    }
   ],
   "source": [
    "shutil.copy(\"data.csv\", os.path.join(Organization,Collection+'_'+Dialect+'_'+'data.csv'))"
   ]
  },
  {
   "cell_type": "markdown",
   "metadata": {},
   "source": [
    "Now that we have our metadata data prepared and stored, we can look at recommendation analytics, concept content consistency, cross collection analytics, and help define unknown concepts."
   ]
  },
  {
   "cell_type": "markdown",
   "metadata": {
    "collapsed": true
   },
   "source": [
    "### Select the notebook that prepares the data for different types of analysis\n",
    "\n",
    "* [Create RAD Data](CreateRADdata.ipynb)\n",
    "* [Concept Content Consistency](ConceptVerticals.ipynb)\n",
    "* [Cross Collection Comparisons](QuickEvaluation-CrossCollectionComparisons.ipynb)\n",
    "* [Exploring Unknown Concepts](ExploringUnknownConcepts.ipynb)"
   ]
  },
  {
   "cell_type": "code",
   "execution_count": null,
   "metadata": {
    "collapsed": true
   },
   "outputs": [],
   "source": []
  }
 ],
 "metadata": {
  "kernelspec": {
   "display_name": "Python 3",
   "language": "python",
   "name": "python3"
  },
  "language_info": {
   "codemirror_mode": {
    "name": "ipython",
    "version": 3
   },
   "file_extension": ".py",
   "mimetype": "text/x-python",
   "name": "python",
   "nbconvert_exporter": "python",
   "pygments_lexer": "ipython3",
   "version": "3.6.1"
  }
 },
 "nbformat": 4,
 "nbformat_minor": 2
}
